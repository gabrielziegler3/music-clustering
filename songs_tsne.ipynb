{
 "cells": [
  {
   "cell_type": "code",
   "execution_count": 1,
   "metadata": {},
   "outputs": [
    {
     "data": {
      "text/html": [
       "<div>\n",
       "<style scoped>\n",
       "    .dataframe tbody tr th:only-of-type {\n",
       "        vertical-align: middle;\n",
       "    }\n",
       "\n",
       "    .dataframe tbody tr th {\n",
       "        vertical-align: top;\n",
       "    }\n",
       "\n",
       "    .dataframe thead th {\n",
       "        text-align: right;\n",
       "    }\n",
       "</style>\n",
       "<table border=\"1\" class=\"dataframe\">\n",
       "  <thead>\n",
       "    <tr style=\"text-align: right;\">\n",
       "      <th></th>\n",
       "      <th>filename</th>\n",
       "      <th>embedding</th>\n",
       "      <th>band</th>\n",
       "      <th>song</th>\n",
       "    </tr>\n",
       "  </thead>\n",
       "  <tbody>\n",
       "    <tr>\n",
       "      <th>0</th>\n",
       "      <td>data/guess-the-song/ACDC/Little Lover.mp3</td>\n",
       "      <td>[tensor(36.4139), tensor(15.8792), tensor(4.02...</td>\n",
       "      <td>ACDC</td>\n",
       "      <td>Little Lover.mp3</td>\n",
       "    </tr>\n",
       "    <tr>\n",
       "      <th>1</th>\n",
       "      <td>data/guess-the-song/ACDC/Can I Sit Next to You...</td>\n",
       "      <td>[tensor(16.5327), tensor(6.2954), tensor(-17.5...</td>\n",
       "      <td>ACDC</td>\n",
       "      <td>Can I Sit Next to You Girl.mp3</td>\n",
       "    </tr>\n",
       "    <tr>\n",
       "      <th>2</th>\n",
       "      <td>data/guess-the-song/ACDC/Shot of Love.mp3</td>\n",
       "      <td>[tensor(33.0472), tensor(19.0865), tensor(-16....</td>\n",
       "      <td>ACDC</td>\n",
       "      <td>Shot of Love.mp3</td>\n",
       "    </tr>\n",
       "    <tr>\n",
       "      <th>3</th>\n",
       "      <td>data/guess-the-song/ACDC/Cover You in Oil.mp3</td>\n",
       "      <td>[tensor(40.7268), tensor(17.6238), tensor(0.21...</td>\n",
       "      <td>ACDC</td>\n",
       "      <td>Cover You in Oil.mp3</td>\n",
       "    </tr>\n",
       "    <tr>\n",
       "      <th>4</th>\n",
       "      <td>data/guess-the-song/ACDC/Whole Lotta Rosie.mp3</td>\n",
       "      <td>[tensor(-12.3743), tensor(15.9797), tensor(-41...</td>\n",
       "      <td>ACDC</td>\n",
       "      <td>Whole Lotta Rosie.mp3</td>\n",
       "    </tr>\n",
       "  </tbody>\n",
       "</table>\n",
       "</div>"
      ],
      "text/plain": [
       "                                            filename  \\\n",
       "0          data/guess-the-song/ACDC/Little Lover.mp3   \n",
       "1  data/guess-the-song/ACDC/Can I Sit Next to You...   \n",
       "2          data/guess-the-song/ACDC/Shot of Love.mp3   \n",
       "3      data/guess-the-song/ACDC/Cover You in Oil.mp3   \n",
       "4     data/guess-the-song/ACDC/Whole Lotta Rosie.mp3   \n",
       "\n",
       "                                           embedding  band  \\\n",
       "0  [tensor(36.4139), tensor(15.8792), tensor(4.02...  ACDC   \n",
       "1  [tensor(16.5327), tensor(6.2954), tensor(-17.5...  ACDC   \n",
       "2  [tensor(33.0472), tensor(19.0865), tensor(-16....  ACDC   \n",
       "3  [tensor(40.7268), tensor(17.6238), tensor(0.21...  ACDC   \n",
       "4  [tensor(-12.3743), tensor(15.9797), tensor(-41...  ACDC   \n",
       "\n",
       "                             song  \n",
       "0                Little Lover.mp3  \n",
       "1  Can I Sit Next to You Girl.mp3  \n",
       "2                Shot of Love.mp3  \n",
       "3            Cover You in Oil.mp3  \n",
       "4           Whole Lotta Rosie.mp3  "
      ]
     },
     "execution_count": 1,
     "metadata": {},
     "output_type": "execute_result"
    }
   ],
   "source": [
    "import torch\n",
    "import pandas as pd\n",
    "import numpy as np\n",
    "import matplotlib.pyplot as plt\n",
    "\n",
    "\n",
    "df = pd.read_pickle(\"./songs_embeddings.pkl\")\n",
    "df.head()"
   ]
  },
  {
   "cell_type": "code",
   "execution_count": 2,
   "metadata": {},
   "outputs": [
    {
     "data": {
      "text/plain": [
       "tensor([ 36.4139,  15.8792,   4.0266,   3.1060,  12.7445, -25.6868,   7.6406,\n",
       "        -12.9760,   6.9738,  -1.4144,  10.0780,  10.4560,   6.4751,  22.1516,\n",
       "          8.1429,  18.8748,  43.6336,  23.0031, -14.7809,  -2.9230, -16.3699,\n",
       "          4.3921, -20.5686,  30.9510,   2.6578,  -0.2956, -11.4967, -15.4305,\n",
       "         10.4362,  14.0074,  11.1146, -10.6203, -13.6990,  -5.9979, -12.9163,\n",
       "         -4.4254,  -1.1783, -17.7542,  22.1494,  38.9478, -39.1092,  20.5656,\n",
       "         11.2265, -22.2277,  21.1088,   4.3378,  -2.6582,  -9.3925,  19.7452,\n",
       "          3.3721, -14.5870, -21.9354,   1.0571,  13.6078,  -1.9429,  -1.2606,\n",
       "        -24.8978,  -9.4006,  -1.2352, -12.3088,  21.9680,   2.3214, -54.6720,\n",
       "         23.1997, -26.8171,   2.2340,   1.0002,  -0.6238,  14.3429, -19.5310,\n",
       "         -1.4852,  11.8091, -10.4306, -26.6321,   1.5025,   1.4025, -13.8286,\n",
       "          2.8101,  10.6021,  20.1825,  28.3315,   2.9642,   0.9142,  -3.5262,\n",
       "          2.1804,  18.5743,  29.2237,  -0.6137, -25.4132,  21.6848, -24.1352,\n",
       "         -3.9342,  13.1958,  -3.6397,   1.1443,   0.7148,  -0.6143,   5.6830,\n",
       "          4.8476,   1.0089,  14.4847,   5.6873, -20.4450,  -4.1866,  13.5616,\n",
       "         -9.9516,  47.5582,  18.0623, -28.0027,   0.6383, -16.7299,  -8.4946,\n",
       "         -4.4695, -26.0536,  -9.8964, -15.9263, -14.0783, -37.5070,  -3.8187,\n",
       "        -27.2814, -19.2373,  16.5266, -18.3428, -11.9564,   1.4341,  12.0728,\n",
       "         -7.7058, -23.6830, -29.8629,  15.3783,  12.5241,   6.8435,  -2.4113,\n",
       "         28.2993,   5.4169,   6.2302,   0.7184,  16.0600,  -5.3357,  21.5866,\n",
       "        -26.3218,   4.4011,   0.4849,  -5.4709,  -8.4111,  11.3325, -15.0503,\n",
       "         10.0637,   2.3915,   6.6793, -17.8537, -24.1795, -22.6804, -16.5178,\n",
       "         24.8500, -13.3590,  -7.4324, -10.1859,   6.2324, -23.6422,  35.5776,\n",
       "         14.5690, -15.0505,  20.6612,  13.0243,  -1.6161,  -6.0406,   1.6932,\n",
       "        -16.2804,  36.4531,  -0.6037, -37.2171, -11.5099, -14.6371,   5.0386,\n",
       "         -5.8892,  53.5061,   9.5482,  16.1682, -26.7626,  -5.8998,  22.8310,\n",
       "        -30.1499,  19.9149,  -6.2167,  -5.1424, -16.2233,  22.4757,   6.9072,\n",
       "          8.6004,   4.5497,   6.3825])"
      ]
     },
     "execution_count": 2,
     "metadata": {},
     "output_type": "execute_result"
    }
   ],
   "source": [
    "df[\"embedding\"].iloc[0]"
   ]
  },
  {
   "cell_type": "code",
   "execution_count": 3,
   "metadata": {},
   "outputs": [
    {
     "data": {
      "text/plain": [
       "torch.Size([535, 192])"
      ]
     },
     "execution_count": 3,
     "metadata": {},
     "output_type": "execute_result"
    }
   ],
   "source": [
    "X = [i.unsqueeze(0) for i in df[\"embedding\"]]\n",
    "X = torch.vstack(X)\n",
    "X.shape"
   ]
  },
  {
   "cell_type": "code",
   "execution_count": 4,
   "metadata": {},
   "outputs": [
    {
     "name": "stderr",
     "output_type": "stream",
     "text": [
      "/home/gabrielziegler/PyEnv/DeepLearning/lib/python3.9/site-packages/sklearn/manifold/_t_sne.py:790: FutureWarning: The default learning rate in TSNE will change from 200.0 to 'auto' in 1.2.\n",
      "  warnings.warn(\n",
      "/home/gabrielziegler/PyEnv/DeepLearning/lib/python3.9/site-packages/sklearn/manifold/_t_sne.py:819: FutureWarning: 'square_distances' has been introduced in 0.24 to help phase out legacy squaring behavior. The 'legacy' setting will be removed in 1.1 (renaming of 0.26), and the default setting will be changed to True. In 1.3, 'square_distances' will be removed altogether, and distances will be squared by default. Set 'square_distances'=True to silence this warning.\n",
      "  warnings.warn(\n",
      "/home/gabrielziegler/PyEnv/DeepLearning/lib/python3.9/site-packages/sklearn/manifold/_t_sne.py:982: FutureWarning: The PCA initialization in TSNE will change to have the standard deviation of PC1 equal to 1e-4 in 1.2. This will ensure better convergence.\n",
      "  warnings.warn(\n"
     ]
    }
   ],
   "source": [
    "# X = np.array(df[\"embedding\"])\n",
    "label = \"band\"\n",
    "y = df[label]\n",
    "# X = np.vstack(X)\n",
    "\n",
    "from sklearn.manifold import TSNE\n",
    "tsne = TSNE(n_components=2, init='pca', metric=\"cosine\")\n",
    "X_2d = tsne.fit_transform(X)"
   ]
  },
  {
   "cell_type": "code",
   "execution_count": 10,
   "metadata": {},
   "outputs": [
    {
     "data": {
      "text/html": [
       "<div>\n",
       "<style scoped>\n",
       "    .dataframe tbody tr th:only-of-type {\n",
       "        vertical-align: middle;\n",
       "    }\n",
       "\n",
       "    .dataframe tbody tr th {\n",
       "        vertical-align: top;\n",
       "    }\n",
       "\n",
       "    .dataframe thead th {\n",
       "        text-align: right;\n",
       "    }\n",
       "</style>\n",
       "<table border=\"1\" class=\"dataframe\">\n",
       "  <thead>\n",
       "    <tr style=\"text-align: right;\">\n",
       "      <th></th>\n",
       "      <th>filename</th>\n",
       "      <th>embedding</th>\n",
       "      <th>band</th>\n",
       "      <th>song</th>\n",
       "    </tr>\n",
       "  </thead>\n",
       "  <tbody>\n",
       "    <tr>\n",
       "      <th>0</th>\n",
       "      <td>data/guess-the-song/ACDC/Little Lover.mp3</td>\n",
       "      <td>[tensor(36.4139), tensor(15.8792), tensor(4.02...</td>\n",
       "      <td>0</td>\n",
       "      <td>Little Lover.mp3</td>\n",
       "    </tr>\n",
       "    <tr>\n",
       "      <th>1</th>\n",
       "      <td>data/guess-the-song/ACDC/Can I Sit Next to You...</td>\n",
       "      <td>[tensor(16.5327), tensor(6.2954), tensor(-17.5...</td>\n",
       "      <td>0</td>\n",
       "      <td>Can I Sit Next to You Girl.mp3</td>\n",
       "    </tr>\n",
       "    <tr>\n",
       "      <th>2</th>\n",
       "      <td>data/guess-the-song/ACDC/Shot of Love.mp3</td>\n",
       "      <td>[tensor(33.0472), tensor(19.0865), tensor(-16....</td>\n",
       "      <td>0</td>\n",
       "      <td>Shot of Love.mp3</td>\n",
       "    </tr>\n",
       "    <tr>\n",
       "      <th>3</th>\n",
       "      <td>data/guess-the-song/ACDC/Cover You in Oil.mp3</td>\n",
       "      <td>[tensor(40.7268), tensor(17.6238), tensor(0.21...</td>\n",
       "      <td>0</td>\n",
       "      <td>Cover You in Oil.mp3</td>\n",
       "    </tr>\n",
       "    <tr>\n",
       "      <th>4</th>\n",
       "      <td>data/guess-the-song/ACDC/Whole Lotta Rosie.mp3</td>\n",
       "      <td>[tensor(-12.3743), tensor(15.9797), tensor(-41...</td>\n",
       "      <td>0</td>\n",
       "      <td>Whole Lotta Rosie.mp3</td>\n",
       "    </tr>\n",
       "    <tr>\n",
       "      <th>...</th>\n",
       "      <td>...</td>\n",
       "      <td>...</td>\n",
       "      <td>...</td>\n",
       "      <td>...</td>\n",
       "    </tr>\n",
       "    <tr>\n",
       "      <th>530</th>\n",
       "      <td>data/guess-the-song/Guns N' Roses/Breakdown.mp3</td>\n",
       "      <td>[tensor(27.8804), tensor(18.9180), tensor(-9.3...</td>\n",
       "      <td>1</td>\n",
       "      <td>Breakdown.mp3</td>\n",
       "    </tr>\n",
       "    <tr>\n",
       "      <th>531</th>\n",
       "      <td>data/guess-the-song/Guns N' Roses/Civil War.mp3</td>\n",
       "      <td>[tensor(32.4807), tensor(16.0819), tensor(-11....</td>\n",
       "      <td>1</td>\n",
       "      <td>Civil War.mp3</td>\n",
       "    </tr>\n",
       "    <tr>\n",
       "      <th>532</th>\n",
       "      <td>data/guess-the-song/Guns N' Roses/Mama Kin.mp3</td>\n",
       "      <td>[tensor(29.2006), tensor(15.3191), tensor(-11....</td>\n",
       "      <td>1</td>\n",
       "      <td>Mama Kin.mp3</td>\n",
       "    </tr>\n",
       "    <tr>\n",
       "      <th>533</th>\n",
       "      <td>data/guess-the-song/Guns N' Roses/Yesterdays.mp3</td>\n",
       "      <td>[tensor(33.2411), tensor(9.8159), tensor(-8.76...</td>\n",
       "      <td>1</td>\n",
       "      <td>Yesterdays.mp3</td>\n",
       "    </tr>\n",
       "    <tr>\n",
       "      <th>534</th>\n",
       "      <td>data/guess-the-song/Guns N' Roses/Bad Apples.mp3</td>\n",
       "      <td>[tensor(21.6140), tensor(17.9614), tensor(3.39...</td>\n",
       "      <td>1</td>\n",
       "      <td>Bad Apples.mp3</td>\n",
       "    </tr>\n",
       "  </tbody>\n",
       "</table>\n",
       "<p>535 rows × 4 columns</p>\n",
       "</div>"
      ],
      "text/plain": [
       "                                              filename  \\\n",
       "0            data/guess-the-song/ACDC/Little Lover.mp3   \n",
       "1    data/guess-the-song/ACDC/Can I Sit Next to You...   \n",
       "2            data/guess-the-song/ACDC/Shot of Love.mp3   \n",
       "3        data/guess-the-song/ACDC/Cover You in Oil.mp3   \n",
       "4       data/guess-the-song/ACDC/Whole Lotta Rosie.mp3   \n",
       "..                                                 ...   \n",
       "530    data/guess-the-song/Guns N' Roses/Breakdown.mp3   \n",
       "531    data/guess-the-song/Guns N' Roses/Civil War.mp3   \n",
       "532     data/guess-the-song/Guns N' Roses/Mama Kin.mp3   \n",
       "533   data/guess-the-song/Guns N' Roses/Yesterdays.mp3   \n",
       "534   data/guess-the-song/Guns N' Roses/Bad Apples.mp3   \n",
       "\n",
       "                                             embedding  band  \\\n",
       "0    [tensor(36.4139), tensor(15.8792), tensor(4.02...     0   \n",
       "1    [tensor(16.5327), tensor(6.2954), tensor(-17.5...     0   \n",
       "2    [tensor(33.0472), tensor(19.0865), tensor(-16....     0   \n",
       "3    [tensor(40.7268), tensor(17.6238), tensor(0.21...     0   \n",
       "4    [tensor(-12.3743), tensor(15.9797), tensor(-41...     0   \n",
       "..                                                 ...   ...   \n",
       "530  [tensor(27.8804), tensor(18.9180), tensor(-9.3...     1   \n",
       "531  [tensor(32.4807), tensor(16.0819), tensor(-11....     1   \n",
       "532  [tensor(29.2006), tensor(15.3191), tensor(-11....     1   \n",
       "533  [tensor(33.2411), tensor(9.8159), tensor(-8.76...     1   \n",
       "534  [tensor(21.6140), tensor(17.9614), tensor(3.39...     1   \n",
       "\n",
       "                               song  \n",
       "0                  Little Lover.mp3  \n",
       "1    Can I Sit Next to You Girl.mp3  \n",
       "2                  Shot of Love.mp3  \n",
       "3              Cover You in Oil.mp3  \n",
       "4             Whole Lotta Rosie.mp3  \n",
       "..                              ...  \n",
       "530                   Breakdown.mp3  \n",
       "531                   Civil War.mp3  \n",
       "532                    Mama Kin.mp3  \n",
       "533                  Yesterdays.mp3  \n",
       "534                  Bad Apples.mp3  \n",
       "\n",
       "[535 rows x 4 columns]"
      ]
     },
     "execution_count": 10,
     "metadata": {},
     "output_type": "execute_result"
    }
   ],
   "source": [
    "# from sklearn.preprocessing import LabelEncoder\n",
    "\n",
    "# # df = pd.DataFrame({\n",
    "# # 'colors':  [\"R\" ,\"G\", \"B\" ,\"B\" ,\"G\" ,\"R\" ,\"B\" ,\"G\" ,\"G\" ,\"R\" ,\"G\" ],\n",
    "# # 'skills':  [\"Java\" , \"C++\", \"SQL\", \"Java\", \"Python\", \"Python\", \"SQL\",\"C++\", \"Java\", \"SQL\", \"Java\"]\n",
    "# # })\n",
    "\n",
    "# transform_columns = [\"band\"]\n",
    "\n",
    "# le = LabelEncoder()\n",
    "\n",
    "# for column in transform_columns:\n",
    "#     df[column] = le.fit_transform(df[column])\n",
    "\n",
    "# df"
   ]
  },
  {
   "cell_type": "code",
   "execution_count": 5,
   "metadata": {
    "collapsed": true,
    "jupyter": {
     "outputs_hidden": true
    }
   },
   "outputs": [
    {
     "ename": "ValueError",
     "evalue": "'c' argument must be a color, a sequence of colors, or a sequence of numbers, not 0               ACDC\n1               ACDC\n2               ACDC\n3               ACDC\n4               ACDC\n           ...      \n530    Guns N' Roses\n531    Guns N' Roses\n532    Guns N' Roses\n533    Guns N' Roses\n534    Guns N' Roses\nName: band, Length: 535, dtype: object",
     "output_type": "error",
     "traceback": [
      "\u001b[0;31m---------------------------------------------------------------------------\u001b[0m",
      "\u001b[0;31mValueError\u001b[0m                                Traceback (most recent call last)",
      "\u001b[0;32m~/PyEnv/DeepLearning/lib/python3.9/site-packages/matplotlib/axes/_axes.py\u001b[0m in \u001b[0;36m_parse_scatter_color_args\u001b[0;34m(c, edgecolors, kwargs, xsize, get_next_color_func)\u001b[0m\n\u001b[1;32m   4349\u001b[0m             \u001b[0;32mtry\u001b[0m\u001b[0;34m:\u001b[0m  \u001b[0;31m# Is 'c' acceptable as PathCollection facecolors?\u001b[0m\u001b[0;34m\u001b[0m\u001b[0;34m\u001b[0m\u001b[0m\n\u001b[0;32m-> 4350\u001b[0;31m                 \u001b[0mcolors\u001b[0m \u001b[0;34m=\u001b[0m \u001b[0mmcolors\u001b[0m\u001b[0;34m.\u001b[0m\u001b[0mto_rgba_array\u001b[0m\u001b[0;34m(\u001b[0m\u001b[0mc\u001b[0m\u001b[0;34m)\u001b[0m\u001b[0;34m\u001b[0m\u001b[0;34m\u001b[0m\u001b[0m\n\u001b[0m\u001b[1;32m   4351\u001b[0m             \u001b[0;32mexcept\u001b[0m \u001b[0;34m(\u001b[0m\u001b[0mTypeError\u001b[0m\u001b[0;34m,\u001b[0m \u001b[0mValueError\u001b[0m\u001b[0;34m)\u001b[0m \u001b[0;32mas\u001b[0m \u001b[0merr\u001b[0m\u001b[0;34m:\u001b[0m\u001b[0;34m\u001b[0m\u001b[0;34m\u001b[0m\u001b[0m\n",
      "\u001b[0;32m~/PyEnv/DeepLearning/lib/python3.9/site-packages/matplotlib/colors.py\u001b[0m in \u001b[0;36mto_rgba_array\u001b[0;34m(c, alpha)\u001b[0m\n\u001b[1;32m    384\u001b[0m     \u001b[0;32melse\u001b[0m\u001b[0;34m:\u001b[0m\u001b[0;34m\u001b[0m\u001b[0;34m\u001b[0m\u001b[0m\n\u001b[0;32m--> 385\u001b[0;31m         \u001b[0mrgba\u001b[0m \u001b[0;34m=\u001b[0m \u001b[0mnp\u001b[0m\u001b[0;34m.\u001b[0m\u001b[0marray\u001b[0m\u001b[0;34m(\u001b[0m\u001b[0;34m[\u001b[0m\u001b[0mto_rgba\u001b[0m\u001b[0;34m(\u001b[0m\u001b[0mcc\u001b[0m\u001b[0;34m)\u001b[0m \u001b[0;32mfor\u001b[0m \u001b[0mcc\u001b[0m \u001b[0;32min\u001b[0m \u001b[0mc\u001b[0m\u001b[0;34m]\u001b[0m\u001b[0;34m)\u001b[0m\u001b[0;34m\u001b[0m\u001b[0;34m\u001b[0m\u001b[0m\n\u001b[0m\u001b[1;32m    386\u001b[0m \u001b[0;34m\u001b[0m\u001b[0m\n",
      "\u001b[0;32m~/PyEnv/DeepLearning/lib/python3.9/site-packages/matplotlib/colors.py\u001b[0m in \u001b[0;36m<listcomp>\u001b[0;34m(.0)\u001b[0m\n\u001b[1;32m    384\u001b[0m     \u001b[0;32melse\u001b[0m\u001b[0;34m:\u001b[0m\u001b[0;34m\u001b[0m\u001b[0;34m\u001b[0m\u001b[0m\n\u001b[0;32m--> 385\u001b[0;31m         \u001b[0mrgba\u001b[0m \u001b[0;34m=\u001b[0m \u001b[0mnp\u001b[0m\u001b[0;34m.\u001b[0m\u001b[0marray\u001b[0m\u001b[0;34m(\u001b[0m\u001b[0;34m[\u001b[0m\u001b[0mto_rgba\u001b[0m\u001b[0;34m(\u001b[0m\u001b[0mcc\u001b[0m\u001b[0;34m)\u001b[0m \u001b[0;32mfor\u001b[0m \u001b[0mcc\u001b[0m \u001b[0;32min\u001b[0m \u001b[0mc\u001b[0m\u001b[0;34m]\u001b[0m\u001b[0;34m)\u001b[0m\u001b[0;34m\u001b[0m\u001b[0;34m\u001b[0m\u001b[0m\n\u001b[0m\u001b[1;32m    386\u001b[0m \u001b[0;34m\u001b[0m\u001b[0m\n",
      "\u001b[0;32m~/PyEnv/DeepLearning/lib/python3.9/site-packages/matplotlib/colors.py\u001b[0m in \u001b[0;36mto_rgba\u001b[0;34m(c, alpha)\u001b[0m\n\u001b[1;32m    205\u001b[0m     \u001b[0;32mif\u001b[0m \u001b[0mrgba\u001b[0m \u001b[0;32mis\u001b[0m \u001b[0;32mNone\u001b[0m\u001b[0;34m:\u001b[0m  \u001b[0;31m# Suppress exception chaining of cache lookup failure.\u001b[0m\u001b[0;34m\u001b[0m\u001b[0;34m\u001b[0m\u001b[0m\n\u001b[0;32m--> 206\u001b[0;31m         \u001b[0mrgba\u001b[0m \u001b[0;34m=\u001b[0m \u001b[0m_to_rgba_no_colorcycle\u001b[0m\u001b[0;34m(\u001b[0m\u001b[0mc\u001b[0m\u001b[0;34m,\u001b[0m \u001b[0malpha\u001b[0m\u001b[0;34m)\u001b[0m\u001b[0;34m\u001b[0m\u001b[0;34m\u001b[0m\u001b[0m\n\u001b[0m\u001b[1;32m    207\u001b[0m         \u001b[0;32mtry\u001b[0m\u001b[0;34m:\u001b[0m\u001b[0;34m\u001b[0m\u001b[0;34m\u001b[0m\u001b[0m\n",
      "\u001b[0;32m~/PyEnv/DeepLearning/lib/python3.9/site-packages/matplotlib/colors.py\u001b[0m in \u001b[0;36m_to_rgba_no_colorcycle\u001b[0;34m(c, alpha)\u001b[0m\n\u001b[1;32m    276\u001b[0m             \u001b[0;32mreturn\u001b[0m \u001b[0mc\u001b[0m\u001b[0;34m,\u001b[0m \u001b[0mc\u001b[0m\u001b[0;34m,\u001b[0m \u001b[0mc\u001b[0m\u001b[0;34m,\u001b[0m \u001b[0malpha\u001b[0m \u001b[0;32mif\u001b[0m \u001b[0malpha\u001b[0m \u001b[0;32mis\u001b[0m \u001b[0;32mnot\u001b[0m \u001b[0;32mNone\u001b[0m \u001b[0;32melse\u001b[0m \u001b[0;36m1.\u001b[0m\u001b[0;34m\u001b[0m\u001b[0;34m\u001b[0m\u001b[0m\n\u001b[0;32m--> 277\u001b[0;31m         \u001b[0;32mraise\u001b[0m \u001b[0mValueError\u001b[0m\u001b[0;34m(\u001b[0m\u001b[0;34mf\"Invalid RGBA argument: {orig_c!r}\"\u001b[0m\u001b[0;34m)\u001b[0m\u001b[0;34m\u001b[0m\u001b[0;34m\u001b[0m\u001b[0m\n\u001b[0m\u001b[1;32m    278\u001b[0m     \u001b[0;31m# turn 2-D array into 1-D array\u001b[0m\u001b[0;34m\u001b[0m\u001b[0;34m\u001b[0m\u001b[0m\n",
      "\u001b[0;31mValueError\u001b[0m: Invalid RGBA argument: 'ACDC'",
      "\nThe above exception was the direct cause of the following exception:\n",
      "\u001b[0;31mValueError\u001b[0m                                Traceback (most recent call last)",
      "\u001b[0;32m<ipython-input-5-2452d9707cd0>\u001b[0m in \u001b[0;36m<module>\u001b[0;34m\u001b[0m\n\u001b[1;32m      2\u001b[0m \u001b[0mfig\u001b[0m\u001b[0;34m.\u001b[0m\u001b[0mset_figheight\u001b[0m\u001b[0;34m(\u001b[0m\u001b[0;36m5\u001b[0m\u001b[0;34m)\u001b[0m\u001b[0;34m\u001b[0m\u001b[0;34m\u001b[0m\u001b[0m\n\u001b[1;32m      3\u001b[0m \u001b[0mfig\u001b[0m\u001b[0;34m.\u001b[0m\u001b[0mset_figwidth\u001b[0m\u001b[0;34m(\u001b[0m\u001b[0;36m5\u001b[0m\u001b[0;34m)\u001b[0m\u001b[0;34m\u001b[0m\u001b[0;34m\u001b[0m\u001b[0m\n\u001b[0;32m----> 4\u001b[0;31m \u001b[0mplt\u001b[0m\u001b[0;34m.\u001b[0m\u001b[0mscatter\u001b[0m\u001b[0;34m(\u001b[0m\u001b[0;34m*\u001b[0m\u001b[0mX_2d\u001b[0m\u001b[0;34m.\u001b[0m\u001b[0mT\u001b[0m\u001b[0;34m,\u001b[0m \u001b[0mc\u001b[0m\u001b[0;34m=\u001b[0m\u001b[0mdf\u001b[0m\u001b[0;34m[\u001b[0m\u001b[0mlabel\u001b[0m\u001b[0;34m]\u001b[0m\u001b[0;34m)\u001b[0m\u001b[0;34m\u001b[0m\u001b[0;34m\u001b[0m\u001b[0m\n\u001b[0m",
      "\u001b[0;32m~/PyEnv/DeepLearning/lib/python3.9/site-packages/matplotlib/pyplot.py\u001b[0m in \u001b[0;36mscatter\u001b[0;34m(x, y, s, c, marker, cmap, norm, vmin, vmax, alpha, linewidths, edgecolors, plotnonfinite, data, **kwargs)\u001b[0m\n\u001b[1;32m   3066\u001b[0m         \u001b[0mvmin\u001b[0m\u001b[0;34m=\u001b[0m\u001b[0;32mNone\u001b[0m\u001b[0;34m,\u001b[0m \u001b[0mvmax\u001b[0m\u001b[0;34m=\u001b[0m\u001b[0;32mNone\u001b[0m\u001b[0;34m,\u001b[0m \u001b[0malpha\u001b[0m\u001b[0;34m=\u001b[0m\u001b[0;32mNone\u001b[0m\u001b[0;34m,\u001b[0m \u001b[0mlinewidths\u001b[0m\u001b[0;34m=\u001b[0m\u001b[0;32mNone\u001b[0m\u001b[0;34m,\u001b[0m \u001b[0;34m*\u001b[0m\u001b[0;34m,\u001b[0m\u001b[0;34m\u001b[0m\u001b[0;34m\u001b[0m\u001b[0m\n\u001b[1;32m   3067\u001b[0m         edgecolors=None, plotnonfinite=False, data=None, **kwargs):\n\u001b[0;32m-> 3068\u001b[0;31m     __ret = gca().scatter(\n\u001b[0m\u001b[1;32m   3069\u001b[0m         \u001b[0mx\u001b[0m\u001b[0;34m,\u001b[0m \u001b[0my\u001b[0m\u001b[0;34m,\u001b[0m \u001b[0ms\u001b[0m\u001b[0;34m=\u001b[0m\u001b[0ms\u001b[0m\u001b[0;34m,\u001b[0m \u001b[0mc\u001b[0m\u001b[0;34m=\u001b[0m\u001b[0mc\u001b[0m\u001b[0;34m,\u001b[0m \u001b[0mmarker\u001b[0m\u001b[0;34m=\u001b[0m\u001b[0mmarker\u001b[0m\u001b[0;34m,\u001b[0m \u001b[0mcmap\u001b[0m\u001b[0;34m=\u001b[0m\u001b[0mcmap\u001b[0m\u001b[0;34m,\u001b[0m \u001b[0mnorm\u001b[0m\u001b[0;34m=\u001b[0m\u001b[0mnorm\u001b[0m\u001b[0;34m,\u001b[0m\u001b[0;34m\u001b[0m\u001b[0;34m\u001b[0m\u001b[0m\n\u001b[1;32m   3070\u001b[0m         \u001b[0mvmin\u001b[0m\u001b[0;34m=\u001b[0m\u001b[0mvmin\u001b[0m\u001b[0;34m,\u001b[0m \u001b[0mvmax\u001b[0m\u001b[0;34m=\u001b[0m\u001b[0mvmax\u001b[0m\u001b[0;34m,\u001b[0m \u001b[0malpha\u001b[0m\u001b[0;34m=\u001b[0m\u001b[0malpha\u001b[0m\u001b[0;34m,\u001b[0m \u001b[0mlinewidths\u001b[0m\u001b[0;34m=\u001b[0m\u001b[0mlinewidths\u001b[0m\u001b[0;34m,\u001b[0m\u001b[0;34m\u001b[0m\u001b[0;34m\u001b[0m\u001b[0m\n",
      "\u001b[0;32m~/PyEnv/DeepLearning/lib/python3.9/site-packages/matplotlib/__init__.py\u001b[0m in \u001b[0;36minner\u001b[0;34m(ax, data, *args, **kwargs)\u001b[0m\n\u001b[1;32m   1359\u001b[0m     \u001b[0;32mdef\u001b[0m \u001b[0minner\u001b[0m\u001b[0;34m(\u001b[0m\u001b[0max\u001b[0m\u001b[0;34m,\u001b[0m \u001b[0;34m*\u001b[0m\u001b[0margs\u001b[0m\u001b[0;34m,\u001b[0m \u001b[0mdata\u001b[0m\u001b[0;34m=\u001b[0m\u001b[0;32mNone\u001b[0m\u001b[0;34m,\u001b[0m \u001b[0;34m**\u001b[0m\u001b[0mkwargs\u001b[0m\u001b[0;34m)\u001b[0m\u001b[0;34m:\u001b[0m\u001b[0;34m\u001b[0m\u001b[0;34m\u001b[0m\u001b[0m\n\u001b[1;32m   1360\u001b[0m         \u001b[0;32mif\u001b[0m \u001b[0mdata\u001b[0m \u001b[0;32mis\u001b[0m \u001b[0;32mNone\u001b[0m\u001b[0;34m:\u001b[0m\u001b[0;34m\u001b[0m\u001b[0;34m\u001b[0m\u001b[0m\n\u001b[0;32m-> 1361\u001b[0;31m             \u001b[0;32mreturn\u001b[0m \u001b[0mfunc\u001b[0m\u001b[0;34m(\u001b[0m\u001b[0max\u001b[0m\u001b[0;34m,\u001b[0m \u001b[0;34m*\u001b[0m\u001b[0mmap\u001b[0m\u001b[0;34m(\u001b[0m\u001b[0msanitize_sequence\u001b[0m\u001b[0;34m,\u001b[0m \u001b[0margs\u001b[0m\u001b[0;34m)\u001b[0m\u001b[0;34m,\u001b[0m \u001b[0;34m**\u001b[0m\u001b[0mkwargs\u001b[0m\u001b[0;34m)\u001b[0m\u001b[0;34m\u001b[0m\u001b[0;34m\u001b[0m\u001b[0m\n\u001b[0m\u001b[1;32m   1362\u001b[0m \u001b[0;34m\u001b[0m\u001b[0m\n\u001b[1;32m   1363\u001b[0m         \u001b[0mbound\u001b[0m \u001b[0;34m=\u001b[0m \u001b[0mnew_sig\u001b[0m\u001b[0;34m.\u001b[0m\u001b[0mbind\u001b[0m\u001b[0;34m(\u001b[0m\u001b[0max\u001b[0m\u001b[0;34m,\u001b[0m \u001b[0;34m*\u001b[0m\u001b[0margs\u001b[0m\u001b[0;34m,\u001b[0m \u001b[0;34m**\u001b[0m\u001b[0mkwargs\u001b[0m\u001b[0;34m)\u001b[0m\u001b[0;34m\u001b[0m\u001b[0;34m\u001b[0m\u001b[0m\n",
      "\u001b[0;32m~/PyEnv/DeepLearning/lib/python3.9/site-packages/matplotlib/axes/_axes.py\u001b[0m in \u001b[0;36mscatter\u001b[0;34m(self, x, y, s, c, marker, cmap, norm, vmin, vmax, alpha, linewidths, edgecolors, plotnonfinite, **kwargs)\u001b[0m\n\u001b[1;32m   4514\u001b[0m             \u001b[0morig_edgecolor\u001b[0m \u001b[0;34m=\u001b[0m \u001b[0mkwargs\u001b[0m\u001b[0;34m.\u001b[0m\u001b[0mget\u001b[0m\u001b[0;34m(\u001b[0m\u001b[0;34m'edgecolor'\u001b[0m\u001b[0;34m,\u001b[0m \u001b[0;32mNone\u001b[0m\u001b[0;34m)\u001b[0m\u001b[0;34m\u001b[0m\u001b[0;34m\u001b[0m\u001b[0m\n\u001b[1;32m   4515\u001b[0m         \u001b[0mc\u001b[0m\u001b[0;34m,\u001b[0m \u001b[0mcolors\u001b[0m\u001b[0;34m,\u001b[0m \u001b[0medgecolors\u001b[0m \u001b[0;34m=\u001b[0m\u001b[0;31m \u001b[0m\u001b[0;31m\\\u001b[0m\u001b[0;34m\u001b[0m\u001b[0;34m\u001b[0m\u001b[0m\n\u001b[0;32m-> 4516\u001b[0;31m             self._parse_scatter_color_args(\n\u001b[0m\u001b[1;32m   4517\u001b[0m                 \u001b[0mc\u001b[0m\u001b[0;34m,\u001b[0m \u001b[0medgecolors\u001b[0m\u001b[0;34m,\u001b[0m \u001b[0mkwargs\u001b[0m\u001b[0;34m,\u001b[0m \u001b[0mx\u001b[0m\u001b[0;34m.\u001b[0m\u001b[0msize\u001b[0m\u001b[0;34m,\u001b[0m\u001b[0;34m\u001b[0m\u001b[0;34m\u001b[0m\u001b[0m\n\u001b[1;32m   4518\u001b[0m                 get_next_color_func=self._get_patches_for_fill.get_next_color)\n",
      "\u001b[0;32m~/PyEnv/DeepLearning/lib/python3.9/site-packages/matplotlib/axes/_axes.py\u001b[0m in \u001b[0;36m_parse_scatter_color_args\u001b[0;34m(c, edgecolors, kwargs, xsize, get_next_color_func)\u001b[0m\n\u001b[1;32m   4357\u001b[0m                     \u001b[0;31m# Both the mapping *and* the RGBA conversion failed: pretty\u001b[0m\u001b[0;34m\u001b[0m\u001b[0;34m\u001b[0m\u001b[0m\n\u001b[1;32m   4358\u001b[0m                     \u001b[0;31m# severe failure => one may appreciate a verbose feedback.\u001b[0m\u001b[0;34m\u001b[0m\u001b[0;34m\u001b[0m\u001b[0m\n\u001b[0;32m-> 4359\u001b[0;31m                     raise ValueError(\n\u001b[0m\u001b[1;32m   4360\u001b[0m                         \u001b[0;34mf\"'c' argument must be a color, a sequence of colors, \"\u001b[0m\u001b[0;34m\u001b[0m\u001b[0;34m\u001b[0m\u001b[0m\n\u001b[1;32m   4361\u001b[0m                         f\"or a sequence of numbers, not {c}\") from err\n",
      "\u001b[0;31mValueError\u001b[0m: 'c' argument must be a color, a sequence of colors, or a sequence of numbers, not 0               ACDC\n1               ACDC\n2               ACDC\n3               ACDC\n4               ACDC\n           ...      \n530    Guns N' Roses\n531    Guns N' Roses\n532    Guns N' Roses\n533    Guns N' Roses\n534    Guns N' Roses\nName: band, Length: 535, dtype: object"
     ]
    },
    {
     "data": {
      "image/png": "[encoded data removed]",
      "text/plain": [
       "<Figure size 360x360 with 1 Axes>"
      ]
     },
     "metadata": {
      "needs_background": "light"
     },
     "output_type": "display_data"
    }
   ],
   "source": [
    "fig, ax = plt.subplots()\n",
    "fig.set_figheight(5)\n",
    "fig.set_figwidth(5)\n",
    "plt.scatter(*X_2d.T, c=df[label])"
   ]
  },
  {
   "cell_type": "code",
   "execution_count": 9,
   "metadata": {},
   "outputs": [
    {
     "data": {
      "application/vnd.plotly.v1+json": {
       "config": {
        "plotlyServerURL": "https://plot.ly"
       },
       "data": [
        {
         "hovertemplate": "Band=ACDC<br>0=%{x}<br>1=%{y}<extra></extra>",
         "legendgroup": "ACDC",
         "marker": {
          "color": "#636efa",
          "symbol": "circle"
         },
         "mode": "markers",
         "name": "ACDC",
         "orientation": "v",
         "showlegend": true,
         "type": "scatter",
         "x": [
          -4.895646095275879,
          -12.362224578857422,
          5.030186176300049,
          -11.096877098083496,
          52.86002731323242,
          3.177912473678589,
          17.91462516784668,
          -23.086095809936523,
          9.961227416992188,
          -1.0474414825439453,
          14.119193077087402,
          -9.370861053466797,
          -4.307749271392822,
          -16.869794845581055,
          0.360553503036499,
          6.692624568939209,
          -17.7235164642334,
          2.7730252742767334,
          -3.682175397872925,
          21.218109130859375,
          52.041648864746094,
          -3.477293014526367,
          20.18090057373047,
          -21.585039138793945,
          22.11328887939453,
          -40.10549545288086,
          8.077868461608887,
          -19.2872257232666,
          10.518507957458496,
          -51.702083587646484,
          -15.516632080078125,
          -40.64297103881836,
          -43.133914947509766,
          20.02004623413086,
          -39.22957992553711,
          -27.608640670776367,
          -1.2133865356445312,
          11.4259614944458,
          9.369625091552734,
          -11.077993392944336,
          14.105663299560547,
          13.812973022460938,
          11.437506675720215,
          -17.309675216674805,
          -19.44537353515625,
          23.5833797454834,
          -59.49003982543945,
          -11.44374942779541,
          -8.739884376525879,
          -1.1657812595367432,
          -21.593992233276367,
          12.269407272338867,
          -41.556861877441406,
          -2.0641250610351562,
          -2.7048251628875732,
          -10.240964889526367,
          -42.927066802978516,
          -9.02849006652832,
          -20.231534957885742,
          6.466855049133301,
          17.20149040222168,
          11.592705726623535,
          -12.953180313110352,
          5.689289093017578,
          -71.73308563232422,
          -29.992843627929688,
          -17.67198944091797,
          8.714261054992676,
          -38.414608001708984,
          -25.76241683959961,
          0.4001181125640869,
          -8.565107345581055,
          14.087337493896484,
          -9.732746124267578,
          -7.575570583343506,
          4.417835712432861,
          -4.54395055770874,
          -9.99424934387207,
          1.1729077100753784,
          -53.6171989440918,
          14.083141326904297,
          -15.105680465698242,
          0.17331421375274658,
          4.919039726257324,
          2.0413262844085693,
          -2.6606762409210205,
          5.7585272789001465,
          -10.35896110534668,
          17.775711059570312,
          -17.11680030822754,
          2.2846457958221436,
          -21.184146881103516,
          -18.311264038085938,
          -14.147826194763184,
          -52.0320930480957,
          -25.66965675354004,
          -22.791614532470703,
          -12.693742752075195,
          10.863058090209961,
          16.2852783203125,
          -4.739655494689941,
          -2.0522611141204834,
          6.74113655090332,
          -15.695981979370117,
          -13.17845344543457,
          -11.505860328674316,
          -4.313604831695557,
          17.974761962890625,
          18.206947326660156,
          -14.312792778015137,
          -11.12619686126709,
          2.683154344558716,
          -23.874422073364258,
          15.368343353271484,
          -37.152400970458984,
          5.209163665771484,
          15.470672607421875,
          -8.482820510864258,
          -4.07084321975708,
          0.21437284350395203,
          -22.815589904785156,
          -44.02022171020508,
          -41.90312194824219,
          -0.23861069977283478,
          -19.789264678955078,
          17.910276412963867,
          -8.050854682922363,
          18.44310760498047,
          50.591400146484375,
          11.906765937805176,
          16.08138656616211,
          -4.645259857177734,
          -10.791873931884766,
          -1.3473988771438599,
          8.36762809753418,
          -17.969282150268555,
          -11.009428977966309,
          14.171984672546387,
          -4.02469539642334,
          -12.965742111206055,
          -16.452587127685547,
          -13.122760772705078,
          -15.335509300231934,
          -45.21806716918945,
          6.395744323730469,
          -10.933354377746582,
          -12.112725257873535,
          -11.020683288574219,
          -20.156898498535156,
          -10.656201362609863,
          -17.054500579833984,
          -2.403400421142578,
          -8.318121910095215,
          -5.903092384338379,
          2.076007127761841,
          3.4914965629577637,
          -14.443000793457031,
          22.20849609375
         ],
         "xaxis": "x",
         "y": [
          -58.45152282714844,
          38.01485824584961,
          -23.83460807800293,
          -50.3551025390625,
          37.88346862792969,
          -20.42824935913086,
          -51.17134094238281,
          -9.215741157531738,
          -19.591882705688477,
          -48.78083038330078,
          -16.67902374267578,
          -44.81674575805664,
          -27.754453659057617,
          33.91669845581055,
          -9.4403657913208,
          -18.882768630981445,
          -9.749537467956543,
          -27.785507202148438,
          -17.278335571289062,
          -50.64366149902344,
          39.849735260009766,
          -37.58757019042969,
          -44.68901443481445,
          -11.320035934448242,
          -53.0728645324707,
          10.299077987670898,
          -46.13038635253906,
          29.40359878540039,
          -22.3820743560791,
          17.88151741027832,
          -6.6363749504089355,
          0.3166313171386719,
          -12.43082046508789,
          -48.222412109375,
          -15.13300609588623,
          27.834884643554688,
          -56.78036880493164,
          -13.260069847106934,
          -34.18727111816406,
          -24.143905639648438,
          -13.75110149383545,
          1.4625649452209473,
          -25.0308895111084,
          -16.317893981933594,
          -15.642972946166992,
          -46.8292121887207,
          4.466296672821045,
          -20.33057975769043,
          -5.223158359527588,
          -20.088409423828125,
          -21.680288314819336,
          -20.687278747558594,
          1.6925454139709473,
          -30.120708465576172,
          -45.34387969970703,
          -12.12491512298584,
          -9.280078887939453,
          -14.427048683166504,
          -4.240903377532959,
          -50.03520202636719,
          -47.79866409301758,
          -17.31187629699707,
          -22.85689926147461,
          -15.453717231750488,
          -15.683578491210938,
          -13.217233657836914,
          -12.587965965270996,
          -16.568334579467773,
          -18.2943172454834,
          33.72968673706055,
          -40.98360061645508,
          -10.503533363342285,
          -22.776912689208984,
          -30.387008666992188,
          -50.56550979614258,
          -42.17683410644531,
          -11.208353042602539,
          -27.173307418823242,
          -52.82072830200195,
          10.684281349182129,
          -45.826263427734375,
          -9.556597709655762,
          -27.371721267700195,
          -48.177005767822266,
          -42.11411666870117,
          -4.466498851776123,
          -21.416301727294922,
          -48.61832809448242,
          -35.649410247802734,
          -2.750688076019287,
          -55.15153503417969,
          -8.076399803161621,
          -6.483529567718506,
          -18.275772094726562,
          8.001544952392578,
          -6.871714115142822,
          34.714080810546875,
          -3.0106170177459717,
          -9.409727096557617,
          -39.12928009033203,
          -48.59623336791992,
          -33.453433990478516,
          -36.17673110961914,
          -3.761121988296509,
          -15.38594913482666,
          -15.709888458251953,
          -8.099421501159668,
          -21.778106689453125,
          -41.10106658935547,
          -11.537910461425781,
          34.97948455810547,
          -23.49384117126465,
          -5.94337272644043,
          -24.127782821655273,
          -31.716358184814453,
          -30.686918258666992,
          -44.19383239746094,
          -47.81509780883789,
          -55.084999084472656,
          -51.22328567504883,
          25.47144889831543,
          -1.255948543548584,
          -16.461217880249023,
          -23.519004821777344,
          27.50712776184082,
          -45.11024856567383,
          -53.33034896850586,
          -18.360612869262695,
          39.323612213134766,
          -41.66966247558594,
          -20.019014358520508,
          -13.874359130859375,
          -33.654571533203125,
          -43.46691131591797,
          -25.8271427154541,
          -23.52984046936035,
          -54.987369537353516,
          -18.835756301879883,
          -50.86625671386719,
          -5.816782474517822,
          -19.771963119506836,
          -33.54621124267578,
          -14.314698219299316,
          1.3524622917175293,
          -43.98371887207031,
          -8.381217002868652,
          -27.250043869018555,
          33.03425598144531,
          33.007083892822266,
          -2.141301393508911,
          36.46958923339844,
          -39.69191360473633,
          -8.509389877319336,
          -16.51909828186035,
          -31.62057876586914,
          -32.36820602416992,
          32.753936767578125,
          -43.112022399902344
         ],
         "yaxis": "y"
        },
        {
         "hovertemplate": "Band=Van Halen<br>0=%{x}<br>1=%{y}<extra></extra>",
         "legendgroup": "Van Halen",
         "marker": {
          "color": "#EF553B",
          "symbol": "circle"
         },
         "mode": "markers",
         "name": "Van Halen",
         "orientation": "v",
         "showlegend": true,
         "type": "scatter",
         "x": [
          -37.77399826049805,
          -1.259027361869812,
          -48.219810485839844,
          33.34874725341797,
          41.80623245239258,
          -6.6148881912231445,
          -1.7818552255630493,
          -30.083642959594727,
          -25.890779495239258,
          -15.931463241577148,
          33.18890380859375,
          43.061771392822266,
          42.14790344238281,
          -32.35322570800781,
          28.711957931518555,
          29.963712692260742,
          -23.446895599365234,
          27.50177574157715,
          23.221311569213867,
          -68.45897674560547,
          16.404678344726562,
          9.681352615356445,
          -35.90657043457031,
          40.89187240600586,
          -29.712543487548828,
          -67.64594268798828,
          -23.178659439086914,
          33.585174560546875,
          38.787071228027344
         ],
         "xaxis": "x",
         "y": [
          17.04127311706543,
          0.2816047668457031,
          6.009365081787109,
          8.851851463317871,
          21.778587341308594,
          9.360011100769043,
          2.0637803077697754,
          -5.471634387969971,
          -14.04022216796875,
          -0.5717871785163879,
          13.129722595214844,
          20.653438568115234,
          24.236358642578125,
          13.435124397277832,
          10.036443710327148,
          11.944452285766602,
          -14.400381088256836,
          -16.67310333251953,
          -26.2829647064209,
          13.705777168273926,
          -6.484509468078613,
          -37.5397834777832,
          -35.45897674560547,
          18.656770706176758,
          14.044740676879883,
          18.66266441345215,
          5.618971824645996,
          11.066930770874023,
          16.720434188842773
         ],
         "yaxis": "y"
        },
        {
         "hovertemplate": "Band=Metallica<br>0=%{x}<br>1=%{y}<extra></extra>",
         "legendgroup": "Metallica",
         "marker": {
          "color": "#00cc96",
          "symbol": "circle"
         },
         "mode": "markers",
         "name": "Metallica",
         "orientation": "v",
         "showlegend": true,
         "type": "scatter",
         "x": [
          -71.38688659667969,
          34.04560852050781,
          -65.66976928710938,
          -52.318538665771484,
          -47.717464447021484,
          -27.052677154541016,
          -53.20463180541992,
          -19.95813751220703,
          -22.782712936401367,
          25.56424903869629,
          -75.18798828125,
          -42.359840393066406,
          12.684393882751465,
          -26.888954162597656,
          38.84065246582031,
          -55.12507629394531,
          37.180015563964844,
          31.713558197021484,
          26.872323989868164,
          -53.879512786865234,
          -22.71220588684082,
          30.323577880859375,
          -75.3662338256836,
          -43.063804626464844,
          -30.169666290283203,
          -63.37874984741211,
          -56.79087448120117,
          -63.329193115234375,
          -66.77952575683594,
          9.559703826904297,
          -50.933868408203125,
          -45.837711334228516,
          -75.92120361328125,
          6.587276458740234,
          37.39741134643555,
          -72.84609985351562,
          -34.6394157409668,
          -40.04499816894531,
          -49.91801452636719,
          39.51219177246094,
          -33.7067985534668,
          -31.92621421813965,
          43.958316802978516,
          -52.90760040283203,
          -32.88446807861328,
          -41.62332534790039,
          35.99489974975586,
          -26.39044952392578,
          -25.377487182617188,
          -34.24140167236328,
          -38.98974609375,
          -20.39642906188965,
          30.21828842163086,
          -42.903594970703125,
          42.6666145324707,
          -45.64649963378906,
          39.564796447753906,
          7.137800693511963,
          -62.7270393371582,
          -53.775062561035156,
          -65.264404296875,
          -18.17245101928711,
          -26.48130989074707,
          -73.78966522216797,
          -36.02360153198242,
          -60.443721771240234,
          -68.63986206054688,
          -22.986520767211914,
          35.09606170654297,
          -61.762786865234375,
          -43.9663200378418,
          29.432479858398438,
          -67.86829376220703,
          -68.06320190429688,
          -53.21162414550781,
          8.024062156677246,
          -36.49503707885742,
          -40.05049133300781,
          -33.577903747558594,
          29.44317626953125,
          -62.17546844482422,
          -53.24046325683594,
          -27.376739501953125,
          -35.22380065917969,
          -73.4211654663086,
          -27.073060989379883,
          -42.643104553222656,
          -54.864959716796875,
          -37.894508361816406,
          -67.09036254882812,
          -31.55953598022461,
          -57.46040344238281,
          6.22844934463501,
          15.264219284057617,
          -62.433284759521484,
          -45.58531188964844,
          -63.21359634399414,
          -65.38445281982422,
          35.57371139526367,
          29.518720626831055,
          24.71996307373047,
          -29.430021286010742,
          -38.39204406738281,
          9.388249397277832,
          -37.89900588989258,
          -30.959230422973633,
          -65.97445678710938,
          -70.19108581542969,
          -50.71669006347656,
          -47.54341125488281,
          43.63047790527344,
          -45.344268798828125,
          -41.29434585571289,
          -35.20768356323242,
          37.736148834228516,
          -35.668548583984375,
          30.483291625976562,
          40.4041862487793,
          -47.32395553588867,
          -17.922861099243164,
          -27.39593505859375
         ],
         "xaxis": "x",
         "y": [
          9.793800354003906,
          -34.12461471557617,
          -1.3164409399032593,
          -6.099318504333496,
          -21.98076057434082,
          -16.743104934692383,
          25.787748336791992,
          -38.34235763549805,
          -32.030853271484375,
          -29.1719913482666,
          2.856015920639038,
          12.629243850708008,
          17.791404724121094,
          7.66334342956543,
          -35.68118667602539,
          2.8395254611968994,
          -29.971309661865234,
          -30.821250915527344,
          -27.320072174072266,
          32.6445198059082,
          -17.9132080078125,
          -36.66463088989258,
          4.935402870178223,
          -6.659755229949951,
          -1.1223104000091553,
          -2.1626784801483154,
          22.945491790771484,
          9.763742446899414,
          4.78127384185791,
          13.601958274841309,
          -9.882962226867676,
          -9.101248741149902,
          0.0069539425894618034,
          -6.209970951080322,
          -32.36838150024414,
          13.54114818572998,
          -24.312650680541992,
          26.51595115661621,
          -3.1833012104034424,
          -30.295425415039062,
          5.845934867858887,
          -27.8178653717041,
          -32.51777267456055,
          -2.6412785053253174,
          -17.47902488708496,
          -11.212135314941406,
          -25.92414093017578,
          12.386335372924805,
          -26.40410804748535,
          -10.473311424255371,
          5.029204845428467,
          -33.0357551574707,
          -26.77126121520996,
          19.718158721923828,
          -29.296918869018555,
          15.092775344848633,
          -27.54627227783203,
          16.755325317382812,
          -10.301487922668457,
          4.742372989654541,
          2.503305435180664,
          -33.72832107543945,
          -24.86196517944336,
          8.516145706176758,
          -8.940959930419922,
          0.2258545160293579,
          -1.8206150531768799,
          -38.892967224121094,
          -35.58113479614258,
          2.29365873336792,
          -23.96969223022461,
          -29.466049194335938,
          -6.09347677230835,
          1.6603533029556274,
          -8.460576057434082,
          19.349645614624023,
          28.074159622192383,
          19.456459045410156,
          -25.87086296081543,
          -34.781925201416016,
          4.780362606048584,
          -0.38884592056274414,
          -32.02177810668945,
          3.1740496158599854,
          2.560922384262085,
          -23.115819931030273,
          21.825395584106445,
          -4.873688697814941,
          0.9699138402938843,
          16.26214027404785,
          -19.880756378173828,
          -13.265364646911621,
          14.831291198730469,
          14.51742172241211,
          -5.558250427246094,
          20.388019561767578,
          0.6705502271652222,
          -4.398795127868652,
          -23.744871139526367,
          -25.11608123779297,
          -32.11941909790039,
          17.22078514099121,
          -4.047916889190674,
          17.007293701171875,
          -11.825851440429688,
          10.497393608093262,
          -8.295591354370117,
          5.415152072906494,
          -1.480963945388794,
          -0.494809627532959,
          13.315311431884766,
          8.898897171020508,
          24.85070037841797,
          -13.703291893005371,
          -25.206890106201172,
          11.769269943237305,
          -21.567792892456055,
          -32.63761901855469,
          -13.889334678649902,
          20.835020065307617,
          2.85860013961792
         ],
         "yaxis": "y"
        },
        {
         "hovertemplate": "Band=Iron Maiden<br>0=%{x}<br>1=%{y}<extra></extra>",
         "legendgroup": "Iron Maiden",
         "marker": {
          "color": "#ab63fa",
          "symbol": "circle"
         },
         "mode": "markers",
         "name": "Iron Maiden",
         "orientation": "v",
         "showlegend": true,
         "type": "scatter",
         "x": [
          -58.803932189941406,
          24.745861053466797,
          2.6770331859588623,
          31.520479202270508,
          44.51776123046875,
          -12.384319305419922,
          34.27762222290039,
          6.619533538818359,
          -43.74381637573242,
          -15.710558891296387,
          -23.851947784423828,
          -0.9310117959976196,
          36.81504821777344,
          31.21360206604004,
          -43.66847229003906,
          -16.667604446411133,
          -29.049728393554688,
          42.327850341796875,
          26.113182067871094,
          15.119807243347168,
          34.34827423095703,
          3.0515732765197754,
          40.44403076171875,
          -34.83711624145508,
          47.299198150634766,
          -41.34593200683594,
          -9.746196746826172,
          27.968364715576172,
          -45.560420989990234,
          -50.85274887084961,
          30.78237533569336,
          -57.35232162475586,
          21.127836227416992,
          17.586708068847656,
          -31.61823272705078,
          38.93206787109375,
          36.16067886352539,
          29.955577850341797,
          -56.089115142822266,
          -10.72983455657959,
          -59.3193359375,
          -2.4053826332092285,
          27.744247436523438,
          39.10157775878906,
          40.056236267089844,
          30.90671730041504,
          -49.4566764831543,
          -14.630640983581543,
          -8.059242248535156,
          -4.371630668640137,
          3.8897299766540527,
          24.141801834106445,
          37.20099639892578,
          -38.898681640625,
          -29.346769332885742,
          37.83317184448242,
          11.50273323059082,
          22.732715606689453,
          -36.72745132446289,
          33.42638397216797,
          38.908485412597656,
          33.84657669067383,
          -8.687836647033691,
          -24.595989227294922,
          45.1693229675293,
          12.83016300201416,
          40.27696228027344,
          26.675769805908203,
          5.571659088134766,
          2.174683094024658,
          33.90154266357422,
          27.686674118041992,
          -13.39834213256836,
          15.707259178161621,
          29.13762855529785,
          35.19470977783203,
          -57.35580825805664,
          -50.06830978393555,
          -37.3718376159668,
          37.57822036743164,
          -41.6560173034668,
          36.544403076171875,
          -6.8249006271362305,
          -49.79932403564453,
          38.86985778808594,
          -17.501873016357422,
          42.96977233886719,
          -64.02943420410156,
          30.02309226989746,
          -71.31958770751953,
          19.470901489257812,
          12.037717819213867,
          23.903358459472656,
          -7.733426094055176,
          43.87628936767578,
          -32.53469467163086,
          21.242773056030273,
          -49.26714324951172,
          -18.367733001708984,
          17.925251007080078,
          -12.830850601196289,
          16.83938980102539,
          -40.73031234741211,
          -45.09328079223633,
          -57.93008041381836,
          35.158302307128906,
          41.090919494628906,
          2.308462142944336,
          -2.1652815341949463,
          -41.76773452758789,
          25.02358627319336,
          11.171433448791504,
          -48.21745681762695,
          -40.212589263916016,
          -40.3658447265625,
          -17.60862922668457,
          -11.914285659790039,
          -22.00984001159668,
          46.4743766784668,
          21.271421432495117,
          -35.1607780456543,
          28.468280792236328,
          26.065187454223633,
          -4.155012607574463,
          35.118289947509766,
          -31.56648063659668,
          10.325875282287598,
          -43.41478729248047,
          -24.174013137817383,
          20.78304672241211,
          -58.634639739990234,
          -18.439424514770508,
          29.610816955566406,
          39.554908752441406,
          -26.26592254638672,
          35.26027297973633,
          37.801700592041016,
          -21.493825912475586,
          24.412567138671875,
          -45.87998580932617,
          38.57065963745117,
          36.23707962036133,
          -3.8313145637512207,
          -56.82769012451172,
          4.859450340270996,
          -57.693973541259766,
          18.43354034423828,
          -51.35929489135742,
          27.68244743347168,
          -49.83916473388672,
          17.00253677368164,
          -36.276268005371094
         ],
         "xaxis": "x",
         "y": [
          9.93783187866211,
          -1.1835460662841797,
          1.4957979917526245,
          1.379922866821289,
          -14.52359676361084,
          17.43895149230957,
          -1.6475893259048462,
          21.64889907836914,
          42.88813018798828,
          -49.76042938232422,
          18.303747177124023,
          5.029724597930908,
          -2.0312082767486572,
          -1.1351429224014282,
          8.072712898254395,
          3.7120487689971924,
          -8.607390403747559,
          -15.182326316833496,
          -10.832771301269531,
          20.65738868713379,
          -7.675975322723389,
          -2.564110040664673,
          -11.601359367370605,
          22.239009857177734,
          -9.387351036071777,
          37.35641860961914,
          21.183542251586914,
          -12.763540267944336,
          34.50197219848633,
          27.23092269897461,
          17.535541534423828,
          7.207285404205322,
          21.646400451660156,
          32.53124237060547,
          20.70185089111328,
          11.92248249053955,
          29.686437606811523,
          33.510154724121094,
          -1.5633724927902222,
          12.178354263305664,
          -1.3427038192749023,
          15.10396957397461,
          -4.576385498046875,
          2.847500801086426,
          -4.950822353363037,
          28.15684700012207,
          34.02838134765625,
          -38.31412124633789,
          13.966275215148926,
          14.678362846374512,
          8.899051666259766,
          -5.115089416503906,
          -5.694014072418213,
          13.145341873168945,
          21.84224510192871,
          -10.573469161987305,
          -3.1766464710235596,
          30.714567184448242,
          9.850936889648438,
          -4.988492965698242,
          -16.38658332824707,
          0.9901566505432129,
          5.106043338775635,
          1.292414903640747,
          -8.428906440734863,
          34.39225769042969,
          -18.775358200073242,
          28.645986557006836,
          -56.2264289855957,
          -37.59828567504883,
          21.424375534057617,
          30.914077758789062,
          12.334485054016113,
          33.8856201171875,
          -8.699786186218262,
          -13.09052848815918,
          -7.502801895141602,
          25.436237335205078,
          22.95258903503418,
          -13.847957611083984,
          35.042816162109375,
          16.139623641967773,
          19.06942367553711,
          31.2205810546875,
          -2.291480302810669,
          -27.73479461669922,
          -5.399275779724121,
          -16.745784759521484,
          36.475677490234375,
          -5.60239315032959,
          1.428044080734253,
          -33.016929626464844,
          34.547996520996094,
          -33.24692916870117,
          -17.639041900634766,
          30.246562957763672,
          36.82380676269531,
          17.010831832885742,
          4.165462493896484,
          21.604616165161133,
          14.10538387298584,
          2.85355806350708,
          32.18010711669922,
          29.30748176574707,
          15.83751106262207,
          32.34320831298828,
          -2.9925920963287354,
          6.910597801208496,
          8.670560836791992,
          39.83464813232422,
          -2.8920156955718994,
          26.93110466003418,
          2.9744842052459717,
          16.246654510498047,
          -2.466594934463501,
          15.377412796020508,
          10.3828706741333,
          7.748593330383301,
          -11.733652114868164,
          25.946794509887695,
          15.713335037231445,
          24.708995819091797,
          33.48036193847656,
          11.590128898620605,
          18.647125244140625,
          25.167972564697266,
          5.557730674743652,
          39.255855560302734,
          -46.96686553955078,
          33.18147659301758,
          -4.220829486846924,
          2.073270082473755,
          1.6736760139465332,
          0.854276180267334,
          19.82152557373047,
          4.192982196807861,
          29.14495086669922,
          1.3665039539337158,
          30.944597244262695,
          24.758201599121094,
          6.470360279083252,
          0.26046955585479736,
          6.148573875427246,
          4.897273063659668,
          2.8154208660125732,
          1.046332836151123,
          -2.792132616043091,
          12.195229530334473,
          4.121090888977051,
          22.459768295288086,
          5.380932331085205,
          19.24259376525879
         ],
         "yaxis": "y"
        },
        {
         "hovertemplate": "Band=Guns N' Roses<br>0=%{x}<br>1=%{y}<extra></extra>",
         "legendgroup": "Guns N' Roses",
         "marker": {
          "color": "#FFA15A",
          "symbol": "circle"
         },
         "mode": "markers",
         "name": "Guns N' Roses",
         "orientation": "v",
         "showlegend": true,
         "type": "scatter",
         "x": [
          -5.813624858856201,
          -8.273957252502441,
          64.7716064453125,
          -6.965728759765625,
          50.79220962524414,
          49.2618408203125,
          41.859867095947266,
          -34.41535949707031,
          -42.14726638793945,
          3.611839532852173,
          -52.50938034057617,
          31.885778427124023,
          -26.135419845581055,
          -53.43379211425781,
          -33.47004318237305,
          53.86302185058594,
          49.3375129699707,
          51.464569091796875,
          13.683297157287598,
          -27.764591217041016,
          49.60033416748047,
          62.97989273071289,
          52.84236526489258,
          15.261303901672363,
          53.1596565246582,
          43.67668533325195,
          -49.4362907409668,
          -11.400091171264648,
          16.868452072143555,
          49.56993865966797,
          -5.062963962554932,
          25.270347595214844,
          22.476158142089844,
          50.72521209716797,
          49.318790435791016,
          -10.346665382385254,
          -43.10871505737305,
          47.49546432495117,
          60.32479476928711,
          -50.783233642578125,
          9.681501388549805,
          25.857980728149414,
          32.56056213378906,
          -7.126850128173828,
          -39.76030731201172,
          23.47613525390625,
          -4.465762138366699,
          47.69969940185547,
          25.092557907104492,
          -22.9086856842041,
          -7.481065273284912,
          -16.27104949951172,
          -50.0830078125,
          50.957027435302734,
          54.59431838989258,
          46.02092742919922,
          -47.859066009521484,
          4.0008344650268555,
          4.776833534240723,
          0.8107382655143738,
          51.170997619628906,
          48.55577087402344,
          -12.831161499023438,
          -14.054288864135742,
          -10.013313293457031,
          60.52469253540039,
          57.97030258178711,
          45.321537017822266,
          62.4781379699707,
          -19.371732711791992,
          22.12531089782715,
          64.71197509765625,
          58.92150115966797,
          59.460662841796875,
          61.575443267822266
         ],
         "xaxis": "x",
         "y": [
          -0.5286949276924133,
          -20.43099594116211,
          -10.782615661621094,
          -22.51996612548828,
          7.106185436248779,
          6.195860385894775,
          10.20096206665039,
          -1.1332916021347046,
          -31.279346466064453,
          33.95986557006836,
          -19.628692626953125,
          -16.87864112854004,
          -10.468717575073242,
          -21.491531372070312,
          18.867830276489258,
          14.273731231689453,
          -1.757766842842102,
          20.395315170288086,
          -30.83798599243164,
          -4.054557800292969,
          18.650087356567383,
          -16.326297760009766,
          18.047779083251953,
          28.193363189697266,
          -14.484719276428223,
          10.534152030944824,
          -19.784116744995117,
          6.058341026306152,
          13.01834774017334,
          16.71068000793457,
          -20.984804153442383,
          19.259740829467773,
          8.5961275100708,
          4.566659927368164,
          -24.454465866088867,
          2.8320484161376953,
          16.639001846313477,
          -2.457378625869751,
          -17.701448440551758,
          3.12795090675354,
          -31.221113204956055,
          -21.49608039855957,
          -12.135187149047852,
          -30.039918899536133,
          -7.740216255187988,
          -14.98203182220459,
          -23.949947357177734,
          21.81378746032715,
          17.337539672851562,
          12.427091598510742,
          -25.683488845825195,
          9.023479461669922,
          -24.861892700195312,
          -15.188304901123047,
          -9.302011489868164,
          17.508222579956055,
          -5.077138423919678,
          35.125099182128906,
          -10.94842529296875,
          -14.723145484924316,
          -25.637184143066406,
          13.06937313079834,
          2.0552093982696533,
          5.414536952972412,
          -36.771602630615234,
          -15.839829444885254,
          -12.193161964416504,
          6.985681533813477,
          -11.939324378967285,
          11.470973014831543,
          12.631136894226074,
          -7.6092376708984375,
          -8.549785614013672,
          -11.166501998901367,
          -13.425817489624023
         ],
         "yaxis": "y"
        }
       ],
       "layout": {
        "autosize": true,
        "legend": {
         "title": {
          "text": "Band"
         },
         "tracegroupgap": 0
        },
        "margin": {
         "t": 60
        },
        "template": {
         "data": {
          "bar": [
           {
            "error_x": {
             "color": "#2a3f5f"
            },
            "error_y": {
             "color": "#2a3f5f"
            },
            "marker": {
             "line": {
              "color": "#E5ECF6",
              "width": 0.5
             }
            },
            "type": "bar"
           }
          ],
          "barpolar": [
           {
            "marker": {
             "line": {
              "color": "#E5ECF6",
              "width": 0.5
             }
            },
            "type": "barpolar"
           }
          ],
          "carpet": [
           {
            "aaxis": {
             "endlinecolor": "#2a3f5f",
             "gridcolor": "white",
             "linecolor": "white",
             "minorgridcolor": "white",
             "startlinecolor": "#2a3f5f"
            },
            "baxis": {
             "endlinecolor": "#2a3f5f",
             "gridcolor": "white",
             "linecolor": "white",
             "minorgridcolor": "white",
             "startlinecolor": "#2a3f5f"
            },
            "type": "carpet"
           }
          ],
          "choropleth": [
           {
            "colorbar": {
             "outlinewidth": 0,
             "ticks": ""
            },
            "type": "choropleth"
           }
          ],
          "contour": [
           {
            "colorbar": {
             "outlinewidth": 0,
             "ticks": ""
            },
            "colorscale": [
             [
              0,
              "#0d0887"
             ],
             [
              0.1111111111111111,
              "#46039f"
             ],
             [
              0.2222222222222222,
              "#7201a8"
             ],
             [
              0.3333333333333333,
              "#9c179e"
             ],
             [
              0.4444444444444444,
              "#bd3786"
             ],
             [
              0.5555555555555556,
              "#d8576b"
             ],
             [
              0.6666666666666666,
              "#ed7953"
             ],
             [
              0.7777777777777778,
              "#fb9f3a"
             ],
             [
              0.8888888888888888,
              "#fdca26"
             ],
             [
              1,
              "#f0f921"
             ]
            ],
            "type": "contour"
           }
          ],
          "contourcarpet": [
           {
            "colorbar": {
             "outlinewidth": 0,
             "ticks": ""
            },
            "type": "contourcarpet"
           }
          ],
          "heatmap": [
           {
            "colorbar": {
             "outlinewidth": 0,
             "ticks": ""
            },
            "colorscale": [
             [
              0,
              "#0d0887"
             ],
             [
              0.1111111111111111,
              "#46039f"
             ],
             [
              0.2222222222222222,
              "#7201a8"
             ],
             [
              0.3333333333333333,
              "#9c179e"
             ],
             [
              0.4444444444444444,
              "#bd3786"
             ],
             [
              0.5555555555555556,
              "#d8576b"
             ],
             [
              0.6666666666666666,
              "#ed7953"
             ],
             [
              0.7777777777777778,
              "#fb9f3a"
             ],
             [
              0.8888888888888888,
              "#fdca26"
             ],
             [
              1,
              "#f0f921"
             ]
            ],
            "type": "heatmap"
           }
          ],
          "heatmapgl": [
           {
            "colorbar": {
             "outlinewidth": 0,
             "ticks": ""
            },
            "colorscale": [
             [
              0,
              "#0d0887"
             ],
             [
              0.1111111111111111,
              "#46039f"
             ],
             [
              0.2222222222222222,
              "#7201a8"
             ],
             [
              0.3333333333333333,
              "#9c179e"
             ],
             [
              0.4444444444444444,
              "#bd3786"
             ],
             [
              0.5555555555555556,
              "#d8576b"
             ],
             [
              0.6666666666666666,
              "#ed7953"
             ],
             [
              0.7777777777777778,
              "#fb9f3a"
             ],
             [
              0.8888888888888888,
              "#fdca26"
             ],
             [
              1,
              "#f0f921"
             ]
            ],
            "type": "heatmapgl"
           }
          ],
          "histogram": [
           {
            "marker": {
             "colorbar": {
              "outlinewidth": 0,
              "ticks": ""
             }
            },
            "type": "histogram"
           }
          ],
          "histogram2d": [
           {
            "colorbar": {
             "outlinewidth": 0,
             "ticks": ""
            },
            "colorscale": [
             [
              0,
              "#0d0887"
             ],
             [
              0.1111111111111111,
              "#46039f"
             ],
             [
              0.2222222222222222,
              "#7201a8"
             ],
             [
              0.3333333333333333,
              "#9c179e"
             ],
             [
              0.4444444444444444,
              "#bd3786"
             ],
             [
              0.5555555555555556,
              "#d8576b"
             ],
             [
              0.6666666666666666,
              "#ed7953"
             ],
             [
              0.7777777777777778,
              "#fb9f3a"
             ],
             [
              0.8888888888888888,
              "#fdca26"
             ],
             [
              1,
              "#f0f921"
             ]
            ],
            "type": "histogram2d"
           }
          ],
          "histogram2dcontour": [
           {
            "colorbar": {
             "outlinewidth": 0,
             "ticks": ""
            },
            "colorscale": [
             [
              0,
              "#0d0887"
             ],
             [
              0.1111111111111111,
              "#46039f"
             ],
             [
              0.2222222222222222,
              "#7201a8"
             ],
             [
              0.3333333333333333,
              "#9c179e"
             ],
             [
              0.4444444444444444,
              "#bd3786"
             ],
             [
              0.5555555555555556,
              "#d8576b"
             ],
             [
              0.6666666666666666,
              "#ed7953"
             ],
             [
              0.7777777777777778,
              "#fb9f3a"
             ],
             [
              0.8888888888888888,
              "#fdca26"
             ],
             [
              1,
              "#f0f921"
             ]
            ],
            "type": "histogram2dcontour"
           }
          ],
          "mesh3d": [
           {
            "colorbar": {
             "outlinewidth": 0,
             "ticks": ""
            },
            "type": "mesh3d"
           }
          ],
          "parcoords": [
           {
            "line": {
             "colorbar": {
              "outlinewidth": 0,
              "ticks": ""
             }
            },
            "type": "parcoords"
           }
          ],
          "pie": [
           {
            "automargin": true,
            "type": "pie"
           }
          ],
          "scatter": [
           {
            "marker": {
             "colorbar": {
              "outlinewidth": 0,
              "ticks": ""
             }
            },
            "type": "scatter"
           }
          ],
          "scatter3d": [
           {
            "line": {
             "colorbar": {
              "outlinewidth": 0,
              "ticks": ""
             }
            },
            "marker": {
             "colorbar": {
              "outlinewidth": 0,
              "ticks": ""
             }
            },
            "type": "scatter3d"
           }
          ],
          "scattercarpet": [
           {
            "marker": {
             "colorbar": {
              "outlinewidth": 0,
              "ticks": ""
             }
            },
            "type": "scattercarpet"
           }
          ],
          "scattergeo": [
           {
            "marker": {
             "colorbar": {
              "outlinewidth": 0,
              "ticks": ""
             }
            },
            "type": "scattergeo"
           }
          ],
          "scattergl": [
           {
            "marker": {
             "colorbar": {
              "outlinewidth": 0,
              "ticks": ""
             }
            },
            "type": "scattergl"
           }
          ],
          "scattermapbox": [
           {
            "marker": {
             "colorbar": {
              "outlinewidth": 0,
              "ticks": ""
             }
            },
            "type": "scattermapbox"
           }
          ],
          "scatterpolar": [
           {
            "marker": {
             "colorbar": {
              "outlinewidth": 0,
              "ticks": ""
             }
            },
            "type": "scatterpolar"
           }
          ],
          "scatterpolargl": [
           {
            "marker": {
             "colorbar": {
              "outlinewidth": 0,
              "ticks": ""
             }
            },
            "type": "scatterpolargl"
           }
          ],
          "scatterternary": [
           {
            "marker": {
             "colorbar": {
              "outlinewidth": 0,
              "ticks": ""
             }
            },
            "type": "scatterternary"
           }
          ],
          "surface": [
           {
            "colorbar": {
             "outlinewidth": 0,
             "ticks": ""
            },
            "colorscale": [
             [
              0,
              "#0d0887"
             ],
             [
              0.1111111111111111,
              "#46039f"
             ],
             [
              0.2222222222222222,
              "#7201a8"
             ],
             [
              0.3333333333333333,
              "#9c179e"
             ],
             [
              0.4444444444444444,
              "#bd3786"
             ],
             [
              0.5555555555555556,
              "#d8576b"
             ],
             [
              0.6666666666666666,
              "#ed7953"
             ],
             [
              0.7777777777777778,
              "#fb9f3a"
             ],
             [
              0.8888888888888888,
              "#fdca26"
             ],
             [
              1,
              "#f0f921"
             ]
            ],
            "type": "surface"
           }
          ],
          "table": [
           {
            "cells": {
             "fill": {
              "color": "#EBF0F8"
             },
             "line": {
              "color": "white"
             }
            },
            "header": {
             "fill": {
              "color": "#C8D4E3"
             },
             "line": {
              "color": "white"
             }
            },
            "type": "table"
           }
          ]
         },
         "layout": {
          "annotationdefaults": {
           "arrowcolor": "#2a3f5f",
           "arrowhead": 0,
           "arrowwidth": 1
          },
          "autotypenumbers": "strict",
          "coloraxis": {
           "colorbar": {
            "outlinewidth": 0,
            "ticks": ""
           }
          },
          "colorscale": {
           "diverging": [
            [
             0,
             "#8e0152"
            ],
            [
             0.1,
             "#c51b7d"
            ],
            [
             0.2,
             "#de77ae"
            ],
            [
             0.3,
             "#f1b6da"
            ],
            [
             0.4,
             "#fde0ef"
            ],
            [
             0.5,
             "#f7f7f7"
            ],
            [
             0.6,
             "#e6f5d0"
            ],
            [
             0.7,
             "#b8e186"
            ],
            [
             0.8,
             "#7fbc41"
            ],
            [
             0.9,
             "#4d9221"
            ],
            [
             1,
             "#276419"
            ]
           ],
           "sequential": [
            [
             0,
             "#0d0887"
            ],
            [
             0.1111111111111111,
             "#46039f"
            ],
            [
             0.2222222222222222,
             "#7201a8"
            ],
            [
             0.3333333333333333,
             "#9c179e"
            ],
            [
             0.4444444444444444,
             "#bd3786"
            ],
            [
             0.5555555555555556,
             "#d8576b"
            ],
            [
             0.6666666666666666,
             "#ed7953"
            ],
            [
             0.7777777777777778,
             "#fb9f3a"
            ],
            [
             0.8888888888888888,
             "#fdca26"
            ],
            [
             1,
             "#f0f921"
            ]
           ],
           "sequentialminus": [
            [
             0,
             "#0d0887"
            ],
            [
             0.1111111111111111,
             "#46039f"
            ],
            [
             0.2222222222222222,
             "#7201a8"
            ],
            [
             0.3333333333333333,
             "#9c179e"
            ],
            [
             0.4444444444444444,
             "#bd3786"
            ],
            [
             0.5555555555555556,
             "#d8576b"
            ],
            [
             0.6666666666666666,
             "#ed7953"
            ],
            [
             0.7777777777777778,
             "#fb9f3a"
            ],
            [
             0.8888888888888888,
             "#fdca26"
            ],
            [
             1,
             "#f0f921"
            ]
           ]
          },
          "colorway": [
           "#636efa",
           "#EF553B",
           "#00cc96",
           "#ab63fa",
           "#FFA15A",
           "#19d3f3",
           "#FF6692",
           "#B6E880",
           "#FF97FF",
           "#FECB52"
          ],
          "font": {
           "color": "#2a3f5f"
          },
          "geo": {
           "bgcolor": "white",
           "lakecolor": "white",
           "landcolor": "#E5ECF6",
           "showlakes": true,
           "showland": true,
           "subunitcolor": "white"
          },
          "hoverlabel": {
           "align": "left"
          },
          "hovermode": "closest",
          "mapbox": {
           "style": "light"
          },
          "paper_bgcolor": "white",
          "plot_bgcolor": "#E5ECF6",
          "polar": {
           "angularaxis": {
            "gridcolor": "white",
            "linecolor": "white",
            "ticks": ""
           },
           "bgcolor": "#E5ECF6",
           "radialaxis": {
            "gridcolor": "white",
            "linecolor": "white",
            "ticks": ""
           }
          },
          "scene": {
           "xaxis": {
            "backgroundcolor": "#E5ECF6",
            "gridcolor": "white",
            "gridwidth": 2,
            "linecolor": "white",
            "showbackground": true,
            "ticks": "",
            "zerolinecolor": "white"
           },
           "yaxis": {
            "backgroundcolor": "#E5ECF6",
            "gridcolor": "white",
            "gridwidth": 2,
            "linecolor": "white",
            "showbackground": true,
            "ticks": "",
            "zerolinecolor": "white"
           },
           "zaxis": {
            "backgroundcolor": "#E5ECF6",
            "gridcolor": "white",
            "gridwidth": 2,
            "linecolor": "white",
            "showbackground": true,
            "ticks": "",
            "zerolinecolor": "white"
           }
          },
          "shapedefaults": {
           "line": {
            "color": "#2a3f5f"
           }
          },
          "ternary": {
           "aaxis": {
            "gridcolor": "white",
            "linecolor": "white",
            "ticks": ""
           },
           "baxis": {
            "gridcolor": "white",
            "linecolor": "white",
            "ticks": ""
           },
           "bgcolor": "#E5ECF6",
           "caxis": {
            "gridcolor": "white",
            "linecolor": "white",
            "ticks": ""
           }
          },
          "title": {
           "x": 0.05
          },
          "xaxis": {
           "automargin": true,
           "gridcolor": "white",
           "linecolor": "white",
           "ticks": "",
           "title": {
            "standoff": 15
           },
           "zerolinecolor": "white",
           "zerolinewidth": 2
          },
          "yaxis": {
           "automargin": true,
           "gridcolor": "white",
           "linecolor": "white",
           "ticks": "",
           "title": {
            "standoff": 15
           },
           "zerolinecolor": "white",
           "zerolinewidth": 2
          }
         }
        },
        "xaxis": {
         "anchor": "y",
         "autorange": true,
         "domain": [
          0,
          1
         ],
         "range": [
          -84.64760908112913,
          73.49801191316038
         ],
         "title": {
          "text": "0"
         },
         "type": "linear"
        },
        "yaxis": {
         "anchor": "x",
         "autorange": true,
         "domain": [
          0,
          1
         ],
         "range": [
          -65.63674684387544,
          50.07335420471529
         ],
         "title": {
          "text": "1"
         },
         "type": "linear"
        }
       }
      },
      "image/png": "[encoded data removed]",
      "text/html": [
       "<div>                            <div id=\"625c0359-b0ce-4e61-839a-4218672db30d\" class=\"plotly-graph-div\" style=\"height:525px; width:100%;\"></div>            <script type=\"text/javascript\">                require([\"plotly\"], function(Plotly) {                    window.PLOTLYENV=window.PLOTLYENV || {};                                    if (document.getElementById(\"625c0359-b0ce-4e61-839a-4218672db30d\")) {                    Plotly.newPlot(                        \"625c0359-b0ce-4e61-839a-4218672db30d\",                        [{\"hovertemplate\": \"Band=ACDC<br>0=%{x}<br>1=%{y}<extra></extra>\", \"legendgroup\": \"ACDC\", \"marker\": {\"color\": \"#636efa\", \"symbol\": \"circle\"}, \"mode\": \"markers\", \"name\": \"ACDC\", \"orientation\": \"v\", \"showlegend\": true, \"type\": \"scatter\", \"x\": [-4.895646095275879, -12.362224578857422, 5.030186176300049, -11.096877098083496, 52.86002731323242, 3.177912473678589, 17.91462516784668, -23.086095809936523, 9.961227416992188, -1.0474414825439453, 14.119193077087402, -9.370861053466797, -4.307749271392822, -16.869794845581055, 0.360553503036499, 6.692624568939209, -17.7235164642334, 2.7730252742767334, -3.682175397872925, 21.218109130859375, 52.041648864746094, -3.477293014526367, 20.18090057373047, -21.585039138793945, 22.11328887939453, -40.10549545288086, 8.077868461608887, -19.2872257232666, 10.518507957458496, -51.702083587646484, -15.516632080078125, -40.64297103881836, -43.133914947509766, 20.02004623413086, -39.22957992553711, -27.608640670776367, -1.2133865356445312, 11.4259614944458, 9.369625091552734, -11.077993392944336, 14.105663299560547, 13.812973022460938, 11.437506675720215, -17.309675216674805, -19.44537353515625, 23.5833797454834, -59.49003982543945, -11.44374942779541, -8.739884376525879, -1.1657812595367432, -21.593992233276367, 12.269407272338867, -41.556861877441406, -2.0641250610351562, -2.7048251628875732, -10.240964889526367, -42.927066802978516, -9.02849006652832, -20.231534957885742, 6.466855049133301, 17.20149040222168, 11.592705726623535, -12.953180313110352, 5.689289093017578, -71.73308563232422, -29.992843627929688, -17.67198944091797, 8.714261054992676, -38.414608001708984, -25.76241683959961, 0.4001181125640869, -8.565107345581055, 14.087337493896484, -9.732746124267578, -7.575570583343506, 4.417835712432861, -4.54395055770874, -9.99424934387207, 1.1729077100753784, -53.6171989440918, 14.083141326904297, -15.105680465698242, 0.17331421375274658, 4.919039726257324, 2.0413262844085693, -2.6606762409210205, 5.7585272789001465, -10.35896110534668, 17.775711059570312, -17.11680030822754, 2.2846457958221436, -21.184146881103516, -18.311264038085938, -14.147826194763184, -52.0320930480957, -25.66965675354004, -22.791614532470703, -12.693742752075195, 10.863058090209961, 16.2852783203125, -4.739655494689941, -2.0522611141204834, 6.74113655090332, -15.695981979370117, -13.17845344543457, -11.505860328674316, -4.313604831695557, 17.974761962890625, 18.206947326660156, -14.312792778015137, -11.12619686126709, 2.683154344558716, -23.874422073364258, 15.368343353271484, -37.152400970458984, 5.209163665771484, 15.470672607421875, -8.482820510864258, -4.07084321975708, 0.21437284350395203, -22.815589904785156, -44.02022171020508, -41.90312194824219, -0.23861069977283478, -19.789264678955078, 17.910276412963867, -8.050854682922363, 18.44310760498047, 50.591400146484375, 11.906765937805176, 16.08138656616211, -4.645259857177734, -10.791873931884766, -1.3473988771438599, 8.36762809753418, -17.969282150268555, -11.009428977966309, 14.171984672546387, -4.02469539642334, -12.965742111206055, -16.452587127685547, -13.122760772705078, -15.335509300231934, -45.21806716918945, 6.395744323730469, -10.933354377746582, -12.112725257873535, -11.020683288574219, -20.156898498535156, -10.656201362609863, -17.054500579833984, -2.403400421142578, -8.318121910095215, -5.903092384338379, 2.076007127761841, 3.4914965629577637, -14.443000793457031, 22.20849609375], \"xaxis\": \"x\", \"y\": [-58.45152282714844, 38.01485824584961, -23.83460807800293, -50.3551025390625, 37.88346862792969, -20.42824935913086, -51.17134094238281, -9.215741157531738, -19.591882705688477, -48.78083038330078, -16.67902374267578, -44.81674575805664, -27.754453659057617, 33.91669845581055, -9.4403657913208, -18.882768630981445, -9.749537467956543, -27.785507202148438, -17.278335571289062, -50.64366149902344, 39.849735260009766, -37.58757019042969, -44.68901443481445, -11.320035934448242, -53.0728645324707, 10.299077987670898, -46.13038635253906, 29.40359878540039, -22.3820743560791, 17.88151741027832, -6.6363749504089355, 0.3166313171386719, -12.43082046508789, -48.222412109375, -15.13300609588623, 27.834884643554688, -56.78036880493164, -13.260069847106934, -34.18727111816406, -24.143905639648438, -13.75110149383545, 1.4625649452209473, -25.0308895111084, -16.317893981933594, -15.642972946166992, -46.8292121887207, 4.466296672821045, -20.33057975769043, -5.223158359527588, -20.088409423828125, -21.680288314819336, -20.687278747558594, 1.6925454139709473, -30.120708465576172, -45.34387969970703, -12.12491512298584, -9.280078887939453, -14.427048683166504, -4.240903377532959, -50.03520202636719, -47.79866409301758, -17.31187629699707, -22.85689926147461, -15.453717231750488, -15.683578491210938, -13.217233657836914, -12.587965965270996, -16.568334579467773, -18.2943172454834, 33.72968673706055, -40.98360061645508, -10.503533363342285, -22.776912689208984, -30.387008666992188, -50.56550979614258, -42.17683410644531, -11.208353042602539, -27.173307418823242, -52.82072830200195, 10.684281349182129, -45.826263427734375, -9.556597709655762, -27.371721267700195, -48.177005767822266, -42.11411666870117, -4.466498851776123, -21.416301727294922, -48.61832809448242, -35.649410247802734, -2.750688076019287, -55.15153503417969, -8.076399803161621, -6.483529567718506, -18.275772094726562, 8.001544952392578, -6.871714115142822, 34.714080810546875, -3.0106170177459717, -9.409727096557617, -39.12928009033203, -48.59623336791992, -33.453433990478516, -36.17673110961914, -3.761121988296509, -15.38594913482666, -15.709888458251953, -8.099421501159668, -21.778106689453125, -41.10106658935547, -11.537910461425781, 34.97948455810547, -23.49384117126465, -5.94337272644043, -24.127782821655273, -31.716358184814453, -30.686918258666992, -44.19383239746094, -47.81509780883789, -55.084999084472656, -51.22328567504883, 25.47144889831543, -1.255948543548584, -16.461217880249023, -23.519004821777344, 27.50712776184082, -45.11024856567383, -53.33034896850586, -18.360612869262695, 39.323612213134766, -41.66966247558594, -20.019014358520508, -13.874359130859375, -33.654571533203125, -43.46691131591797, -25.8271427154541, -23.52984046936035, -54.987369537353516, -18.835756301879883, -50.86625671386719, -5.816782474517822, -19.771963119506836, -33.54621124267578, -14.314698219299316, 1.3524622917175293, -43.98371887207031, -8.381217002868652, -27.250043869018555, 33.03425598144531, 33.007083892822266, -2.141301393508911, 36.46958923339844, -39.69191360473633, -8.509389877319336, -16.51909828186035, -31.62057876586914, -32.36820602416992, 32.753936767578125, -43.112022399902344], \"yaxis\": \"y\"}, {\"hovertemplate\": \"Band=Van Halen<br>0=%{x}<br>1=%{y}<extra></extra>\", \"legendgroup\": \"Van Halen\", \"marker\": {\"color\": \"#EF553B\", \"symbol\": \"circle\"}, \"mode\": \"markers\", \"name\": \"Van Halen\", \"orientation\": \"v\", \"showlegend\": true, \"type\": \"scatter\", \"x\": [-37.77399826049805, -1.259027361869812, -48.219810485839844, 33.34874725341797, 41.80623245239258, -6.6148881912231445, -1.7818552255630493, -30.083642959594727, -25.890779495239258, -15.931463241577148, 33.18890380859375, 43.061771392822266, 42.14790344238281, -32.35322570800781, 28.711957931518555, 29.963712692260742, -23.446895599365234, 27.50177574157715, 23.221311569213867, -68.45897674560547, 16.404678344726562, 9.681352615356445, -35.90657043457031, 40.89187240600586, -29.712543487548828, -67.64594268798828, -23.178659439086914, 33.585174560546875, 38.787071228027344], \"xaxis\": \"x\", \"y\": [17.04127311706543, 0.2816047668457031, 6.009365081787109, 8.851851463317871, 21.778587341308594, 9.360011100769043, 2.0637803077697754, -5.471634387969971, -14.04022216796875, -0.5717871785163879, 13.129722595214844, 20.653438568115234, 24.236358642578125, 13.435124397277832, 10.036443710327148, 11.944452285766602, -14.400381088256836, -16.67310333251953, -26.2829647064209, 13.705777168273926, -6.484509468078613, -37.5397834777832, -35.45897674560547, 18.656770706176758, 14.044740676879883, 18.66266441345215, 5.618971824645996, 11.066930770874023, 16.720434188842773], \"yaxis\": \"y\"}, {\"hovertemplate\": \"Band=Metallica<br>0=%{x}<br>1=%{y}<extra></extra>\", \"legendgroup\": \"Metallica\", \"marker\": {\"color\": \"#00cc96\", \"symbol\": \"circle\"}, \"mode\": \"markers\", \"name\": \"Metallica\", \"orientation\": \"v\", \"showlegend\": true, \"type\": \"scatter\", \"x\": [-71.38688659667969, 34.04560852050781, -65.66976928710938, -52.318538665771484, -47.717464447021484, -27.052677154541016, -53.20463180541992, -19.95813751220703, -22.782712936401367, 25.56424903869629, -75.18798828125, -42.359840393066406, 12.684393882751465, -26.888954162597656, 38.84065246582031, -55.12507629394531, 37.180015563964844, 31.713558197021484, 26.872323989868164, -53.879512786865234, -22.71220588684082, 30.323577880859375, -75.3662338256836, -43.063804626464844, -30.169666290283203, -63.37874984741211, -56.79087448120117, -63.329193115234375, -66.77952575683594, 9.559703826904297, -50.933868408203125, -45.837711334228516, -75.92120361328125, 6.587276458740234, 37.39741134643555, -72.84609985351562, -34.6394157409668, -40.04499816894531, -49.91801452636719, 39.51219177246094, -33.7067985534668, -31.92621421813965, 43.958316802978516, -52.90760040283203, -32.88446807861328, -41.62332534790039, 35.99489974975586, -26.39044952392578, -25.377487182617188, -34.24140167236328, -38.98974609375, -20.39642906188965, 30.21828842163086, -42.903594970703125, 42.6666145324707, -45.64649963378906, 39.564796447753906, 7.137800693511963, -62.7270393371582, -53.775062561035156, -65.264404296875, -18.17245101928711, -26.48130989074707, -73.78966522216797, -36.02360153198242, -60.443721771240234, -68.63986206054688, -22.986520767211914, 35.09606170654297, -61.762786865234375, -43.9663200378418, 29.432479858398438, -67.86829376220703, -68.06320190429688, -53.21162414550781, 8.024062156677246, -36.49503707885742, -40.05049133300781, -33.577903747558594, 29.44317626953125, -62.17546844482422, -53.24046325683594, -27.376739501953125, -35.22380065917969, -73.4211654663086, -27.073060989379883, -42.643104553222656, -54.864959716796875, -37.894508361816406, -67.09036254882812, -31.55953598022461, -57.46040344238281, 6.22844934463501, 15.264219284057617, -62.433284759521484, -45.58531188964844, -63.21359634399414, -65.38445281982422, 35.57371139526367, 29.518720626831055, 24.71996307373047, -29.430021286010742, -38.39204406738281, 9.388249397277832, -37.89900588989258, -30.959230422973633, -65.97445678710938, -70.19108581542969, -50.71669006347656, -47.54341125488281, 43.63047790527344, -45.344268798828125, -41.29434585571289, -35.20768356323242, 37.736148834228516, -35.668548583984375, 30.483291625976562, 40.4041862487793, -47.32395553588867, -17.922861099243164, -27.39593505859375], \"xaxis\": \"x\", \"y\": [9.793800354003906, -34.12461471557617, -1.3164409399032593, -6.099318504333496, -21.98076057434082, -16.743104934692383, 25.787748336791992, -38.34235763549805, -32.030853271484375, -29.1719913482666, 2.856015920639038, 12.629243850708008, 17.791404724121094, 7.66334342956543, -35.68118667602539, 2.8395254611968994, -29.971309661865234, -30.821250915527344, -27.320072174072266, 32.6445198059082, -17.9132080078125, -36.66463088989258, 4.935402870178223, -6.659755229949951, -1.1223104000091553, -2.1626784801483154, 22.945491790771484, 9.763742446899414, 4.78127384185791, 13.601958274841309, -9.882962226867676, -9.101248741149902, 0.0069539425894618034, -6.209970951080322, -32.36838150024414, 13.54114818572998, -24.312650680541992, 26.51595115661621, -3.1833012104034424, -30.295425415039062, 5.845934867858887, -27.8178653717041, -32.51777267456055, -2.6412785053253174, -17.47902488708496, -11.212135314941406, -25.92414093017578, 12.386335372924805, -26.40410804748535, -10.473311424255371, 5.029204845428467, -33.0357551574707, -26.77126121520996, 19.718158721923828, -29.296918869018555, 15.092775344848633, -27.54627227783203, 16.755325317382812, -10.301487922668457, 4.742372989654541, 2.503305435180664, -33.72832107543945, -24.86196517944336, 8.516145706176758, -8.940959930419922, 0.2258545160293579, -1.8206150531768799, -38.892967224121094, -35.58113479614258, 2.29365873336792, -23.96969223022461, -29.466049194335938, -6.09347677230835, 1.6603533029556274, -8.460576057434082, 19.349645614624023, 28.074159622192383, 19.456459045410156, -25.87086296081543, -34.781925201416016, 4.780362606048584, -0.38884592056274414, -32.02177810668945, 3.1740496158599854, 2.560922384262085, -23.115819931030273, 21.825395584106445, -4.873688697814941, 0.9699138402938843, 16.26214027404785, -19.880756378173828, -13.265364646911621, 14.831291198730469, 14.51742172241211, -5.558250427246094, 20.388019561767578, 0.6705502271652222, -4.398795127868652, -23.744871139526367, -25.11608123779297, -32.11941909790039, 17.22078514099121, -4.047916889190674, 17.007293701171875, -11.825851440429688, 10.497393608093262, -8.295591354370117, 5.415152072906494, -1.480963945388794, -0.494809627532959, 13.315311431884766, 8.898897171020508, 24.85070037841797, -13.703291893005371, -25.206890106201172, 11.769269943237305, -21.567792892456055, -32.63761901855469, -13.889334678649902, 20.835020065307617, 2.85860013961792], \"yaxis\": \"y\"}, {\"hovertemplate\": \"Band=Iron Maiden<br>0=%{x}<br>1=%{y}<extra></extra>\", \"legendgroup\": \"Iron Maiden\", \"marker\": {\"color\": \"#ab63fa\", \"symbol\": \"circle\"}, \"mode\": \"markers\", \"name\": \"Iron Maiden\", \"orientation\": \"v\", \"showlegend\": true, \"type\": \"scatter\", \"x\": [-58.803932189941406, 24.745861053466797, 2.6770331859588623, 31.520479202270508, 44.51776123046875, -12.384319305419922, 34.27762222290039, 6.619533538818359, -43.74381637573242, -15.710558891296387, -23.851947784423828, -0.9310117959976196, 36.81504821777344, 31.21360206604004, -43.66847229003906, -16.667604446411133, -29.049728393554688, 42.327850341796875, 26.113182067871094, 15.119807243347168, 34.34827423095703, 3.0515732765197754, 40.44403076171875, -34.83711624145508, 47.299198150634766, -41.34593200683594, -9.746196746826172, 27.968364715576172, -45.560420989990234, -50.85274887084961, 30.78237533569336, -57.35232162475586, 21.127836227416992, 17.586708068847656, -31.61823272705078, 38.93206787109375, 36.16067886352539, 29.955577850341797, -56.089115142822266, -10.72983455657959, -59.3193359375, -2.4053826332092285, 27.744247436523438, 39.10157775878906, 40.056236267089844, 30.90671730041504, -49.4566764831543, -14.630640983581543, -8.059242248535156, -4.371630668640137, 3.8897299766540527, 24.141801834106445, 37.20099639892578, -38.898681640625, -29.346769332885742, 37.83317184448242, 11.50273323059082, 22.732715606689453, -36.72745132446289, 33.42638397216797, 38.908485412597656, 33.84657669067383, -8.687836647033691, -24.595989227294922, 45.1693229675293, 12.83016300201416, 40.27696228027344, 26.675769805908203, 5.571659088134766, 2.174683094024658, 33.90154266357422, 27.686674118041992, -13.39834213256836, 15.707259178161621, 29.13762855529785, 35.19470977783203, -57.35580825805664, -50.06830978393555, -37.3718376159668, 37.57822036743164, -41.6560173034668, 36.544403076171875, -6.8249006271362305, -49.79932403564453, 38.86985778808594, -17.501873016357422, 42.96977233886719, -64.02943420410156, 30.02309226989746, -71.31958770751953, 19.470901489257812, 12.037717819213867, 23.903358459472656, -7.733426094055176, 43.87628936767578, -32.53469467163086, 21.242773056030273, -49.26714324951172, -18.367733001708984, 17.925251007080078, -12.830850601196289, 16.83938980102539, -40.73031234741211, -45.09328079223633, -57.93008041381836, 35.158302307128906, 41.090919494628906, 2.308462142944336, -2.1652815341949463, -41.76773452758789, 25.02358627319336, 11.171433448791504, -48.21745681762695, -40.212589263916016, -40.3658447265625, -17.60862922668457, -11.914285659790039, -22.00984001159668, 46.4743766784668, 21.271421432495117, -35.1607780456543, 28.468280792236328, 26.065187454223633, -4.155012607574463, 35.118289947509766, -31.56648063659668, 10.325875282287598, -43.41478729248047, -24.174013137817383, 20.78304672241211, -58.634639739990234, -18.439424514770508, 29.610816955566406, 39.554908752441406, -26.26592254638672, 35.26027297973633, 37.801700592041016, -21.493825912475586, 24.412567138671875, -45.87998580932617, 38.57065963745117, 36.23707962036133, -3.8313145637512207, -56.82769012451172, 4.859450340270996, -57.693973541259766, 18.43354034423828, -51.35929489135742, 27.68244743347168, -49.83916473388672, 17.00253677368164, -36.276268005371094], \"xaxis\": \"x\", \"y\": [9.93783187866211, -1.1835460662841797, 1.4957979917526245, 1.379922866821289, -14.52359676361084, 17.43895149230957, -1.6475893259048462, 21.64889907836914, 42.88813018798828, -49.76042938232422, 18.303747177124023, 5.029724597930908, -2.0312082767486572, -1.1351429224014282, 8.072712898254395, 3.7120487689971924, -8.607390403747559, -15.182326316833496, -10.832771301269531, 20.65738868713379, -7.675975322723389, -2.564110040664673, -11.601359367370605, 22.239009857177734, -9.387351036071777, 37.35641860961914, 21.183542251586914, -12.763540267944336, 34.50197219848633, 27.23092269897461, 17.535541534423828, 7.207285404205322, 21.646400451660156, 32.53124237060547, 20.70185089111328, 11.92248249053955, 29.686437606811523, 33.510154724121094, -1.5633724927902222, 12.178354263305664, -1.3427038192749023, 15.10396957397461, -4.576385498046875, 2.847500801086426, -4.950822353363037, 28.15684700012207, 34.02838134765625, -38.31412124633789, 13.966275215148926, 14.678362846374512, 8.899051666259766, -5.115089416503906, -5.694014072418213, 13.145341873168945, 21.84224510192871, -10.573469161987305, -3.1766464710235596, 30.714567184448242, 9.850936889648438, -4.988492965698242, -16.38658332824707, 0.9901566505432129, 5.106043338775635, 1.292414903640747, -8.428906440734863, 34.39225769042969, -18.775358200073242, 28.645986557006836, -56.2264289855957, -37.59828567504883, 21.424375534057617, 30.914077758789062, 12.334485054016113, 33.8856201171875, -8.699786186218262, -13.09052848815918, -7.502801895141602, 25.436237335205078, 22.95258903503418, -13.847957611083984, 35.042816162109375, 16.139623641967773, 19.06942367553711, 31.2205810546875, -2.291480302810669, -27.73479461669922, -5.399275779724121, -16.745784759521484, 36.475677490234375, -5.60239315032959, 1.428044080734253, -33.016929626464844, 34.547996520996094, -33.24692916870117, -17.639041900634766, 30.246562957763672, 36.82380676269531, 17.010831832885742, 4.165462493896484, 21.604616165161133, 14.10538387298584, 2.85355806350708, 32.18010711669922, 29.30748176574707, 15.83751106262207, 32.34320831298828, -2.9925920963287354, 6.910597801208496, 8.670560836791992, 39.83464813232422, -2.8920156955718994, 26.93110466003418, 2.9744842052459717, 16.246654510498047, -2.466594934463501, 15.377412796020508, 10.3828706741333, 7.748593330383301, -11.733652114868164, 25.946794509887695, 15.713335037231445, 24.708995819091797, 33.48036193847656, 11.590128898620605, 18.647125244140625, 25.167972564697266, 5.557730674743652, 39.255855560302734, -46.96686553955078, 33.18147659301758, -4.220829486846924, 2.073270082473755, 1.6736760139465332, 0.854276180267334, 19.82152557373047, 4.192982196807861, 29.14495086669922, 1.3665039539337158, 30.944597244262695, 24.758201599121094, 6.470360279083252, 0.26046955585479736, 6.148573875427246, 4.897273063659668, 2.8154208660125732, 1.046332836151123, -2.792132616043091, 12.195229530334473, 4.121090888977051, 22.459768295288086, 5.380932331085205, 19.24259376525879], \"yaxis\": \"y\"}, {\"hovertemplate\": \"Band=Guns N' Roses<br>0=%{x}<br>1=%{y}<extra></extra>\", \"legendgroup\": \"Guns N' Roses\", \"marker\": {\"color\": \"#FFA15A\", \"symbol\": \"circle\"}, \"mode\": \"markers\", \"name\": \"Guns N' Roses\", \"orientation\": \"v\", \"showlegend\": true, \"type\": \"scatter\", \"x\": [-5.813624858856201, -8.273957252502441, 64.7716064453125, -6.965728759765625, 50.79220962524414, 49.2618408203125, 41.859867095947266, -34.41535949707031, -42.14726638793945, 3.611839532852173, -52.50938034057617, 31.885778427124023, -26.135419845581055, -53.43379211425781, -33.47004318237305, 53.86302185058594, 49.3375129699707, 51.464569091796875, 13.683297157287598, -27.764591217041016, 49.60033416748047, 62.97989273071289, 52.84236526489258, 15.261303901672363, 53.1596565246582, 43.67668533325195, -49.4362907409668, -11.400091171264648, 16.868452072143555, 49.56993865966797, -5.062963962554932, 25.270347595214844, 22.476158142089844, 50.72521209716797, 49.318790435791016, -10.346665382385254, -43.10871505737305, 47.49546432495117, 60.32479476928711, -50.783233642578125, 9.681501388549805, 25.857980728149414, 32.56056213378906, -7.126850128173828, -39.76030731201172, 23.47613525390625, -4.465762138366699, 47.69969940185547, 25.092557907104492, -22.9086856842041, -7.481065273284912, -16.27104949951172, -50.0830078125, 50.957027435302734, 54.59431838989258, 46.02092742919922, -47.859066009521484, 4.0008344650268555, 4.776833534240723, 0.8107382655143738, 51.170997619628906, 48.55577087402344, -12.831161499023438, -14.054288864135742, -10.013313293457031, 60.52469253540039, 57.97030258178711, 45.321537017822266, 62.4781379699707, -19.371732711791992, 22.12531089782715, 64.71197509765625, 58.92150115966797, 59.460662841796875, 61.575443267822266], \"xaxis\": \"x\", \"y\": [-0.5286949276924133, -20.43099594116211, -10.782615661621094, -22.51996612548828, 7.106185436248779, 6.195860385894775, 10.20096206665039, -1.1332916021347046, -31.279346466064453, 33.95986557006836, -19.628692626953125, -16.87864112854004, -10.468717575073242, -21.491531372070312, 18.867830276489258, 14.273731231689453, -1.757766842842102, 20.395315170288086, -30.83798599243164, -4.054557800292969, 18.650087356567383, -16.326297760009766, 18.047779083251953, 28.193363189697266, -14.484719276428223, 10.534152030944824, -19.784116744995117, 6.058341026306152, 13.01834774017334, 16.71068000793457, -20.984804153442383, 19.259740829467773, 8.5961275100708, 4.566659927368164, -24.454465866088867, 2.8320484161376953, 16.639001846313477, -2.457378625869751, -17.701448440551758, 3.12795090675354, -31.221113204956055, -21.49608039855957, -12.135187149047852, -30.039918899536133, -7.740216255187988, -14.98203182220459, -23.949947357177734, 21.81378746032715, 17.337539672851562, 12.427091598510742, -25.683488845825195, 9.023479461669922, -24.861892700195312, -15.188304901123047, -9.302011489868164, 17.508222579956055, -5.077138423919678, 35.125099182128906, -10.94842529296875, -14.723145484924316, -25.637184143066406, 13.06937313079834, 2.0552093982696533, 5.414536952972412, -36.771602630615234, -15.839829444885254, -12.193161964416504, 6.985681533813477, -11.939324378967285, 11.470973014831543, 12.631136894226074, -7.6092376708984375, -8.549785614013672, -11.166501998901367, -13.425817489624023], \"yaxis\": \"y\"}],                        {\"legend\": {\"title\": {\"text\": \"Band\"}, \"tracegroupgap\": 0}, \"margin\": {\"t\": 60}, \"template\": {\"data\": {\"bar\": [{\"error_x\": {\"color\": \"#2a3f5f\"}, \"error_y\": {\"color\": \"#2a3f5f\"}, \"marker\": {\"line\": {\"color\": \"#E5ECF6\", \"width\": 0.5}}, \"type\": \"bar\"}], \"barpolar\": [{\"marker\": {\"line\": {\"color\": \"#E5ECF6\", \"width\": 0.5}}, \"type\": \"barpolar\"}], \"carpet\": [{\"aaxis\": {\"endlinecolor\": \"#2a3f5f\", \"gridcolor\": \"white\", \"linecolor\": \"white\", \"minorgridcolor\": \"white\", \"startlinecolor\": \"#2a3f5f\"}, \"baxis\": {\"endlinecolor\": \"#2a3f5f\", \"gridcolor\": \"white\", \"linecolor\": \"white\", \"minorgridcolor\": \"white\", \"startlinecolor\": \"#2a3f5f\"}, \"type\": \"carpet\"}], \"choropleth\": [{\"colorbar\": {\"outlinewidth\": 0, \"ticks\": \"\"}, \"type\": \"choropleth\"}], \"contour\": [{\"colorbar\": {\"outlinewidth\": 0, \"ticks\": \"\"}, \"colorscale\": [[0.0, \"#0d0887\"], [0.1111111111111111, \"#46039f\"], [0.2222222222222222, \"#7201a8\"], [0.3333333333333333, \"#9c179e\"], [0.4444444444444444, \"#bd3786\"], [0.5555555555555556, \"#d8576b\"], [0.6666666666666666, \"#ed7953\"], [0.7777777777777778, \"#fb9f3a\"], [0.8888888888888888, \"#fdca26\"], [1.0, \"#f0f921\"]], \"type\": \"contour\"}], \"contourcarpet\": [{\"colorbar\": {\"outlinewidth\": 0, \"ticks\": \"\"}, \"type\": \"contourcarpet\"}], \"heatmap\": [{\"colorbar\": {\"outlinewidth\": 0, \"ticks\": \"\"}, \"colorscale\": [[0.0, \"#0d0887\"], [0.1111111111111111, \"#46039f\"], [0.2222222222222222, \"#7201a8\"], [0.3333333333333333, \"#9c179e\"], [0.4444444444444444, \"#bd3786\"], [0.5555555555555556, \"#d8576b\"], [0.6666666666666666, \"#ed7953\"], [0.7777777777777778, \"#fb9f3a\"], [0.8888888888888888, \"#fdca26\"], [1.0, \"#f0f921\"]], \"type\": \"heatmap\"}], \"heatmapgl\": [{\"colorbar\": {\"outlinewidth\": 0, \"ticks\": \"\"}, \"colorscale\": [[0.0, \"#0d0887\"], [0.1111111111111111, \"#46039f\"], [0.2222222222222222, \"#7201a8\"], [0.3333333333333333, \"#9c179e\"], [0.4444444444444444, \"#bd3786\"], [0.5555555555555556, \"#d8576b\"], [0.6666666666666666, \"#ed7953\"], [0.7777777777777778, \"#fb9f3a\"], [0.8888888888888888, \"#fdca26\"], [1.0, \"#f0f921\"]], \"type\": \"heatmapgl\"}], \"histogram\": [{\"marker\": {\"colorbar\": {\"outlinewidth\": 0, \"ticks\": \"\"}}, \"type\": \"histogram\"}], \"histogram2d\": [{\"colorbar\": {\"outlinewidth\": 0, \"ticks\": \"\"}, \"colorscale\": [[0.0, \"#0d0887\"], [0.1111111111111111, \"#46039f\"], [0.2222222222222222, \"#7201a8\"], [0.3333333333333333, \"#9c179e\"], [0.4444444444444444, \"#bd3786\"], [0.5555555555555556, \"#d8576b\"], [0.6666666666666666, \"#ed7953\"], [0.7777777777777778, \"#fb9f3a\"], [0.8888888888888888, \"#fdca26\"], [1.0, \"#f0f921\"]], \"type\": \"histogram2d\"}], \"histogram2dcontour\": [{\"colorbar\": {\"outlinewidth\": 0, \"ticks\": \"\"}, \"colorscale\": [[0.0, \"#0d0887\"], [0.1111111111111111, \"#46039f\"], [0.2222222222222222, \"#7201a8\"], [0.3333333333333333, \"#9c179e\"], [0.4444444444444444, \"#bd3786\"], [0.5555555555555556, \"#d8576b\"], [0.6666666666666666, \"#ed7953\"], [0.7777777777777778, \"#fb9f3a\"], [0.8888888888888888, \"#fdca26\"], [1.0, \"#f0f921\"]], \"type\": \"histogram2dcontour\"}], \"mesh3d\": [{\"colorbar\": {\"outlinewidth\": 0, \"ticks\": \"\"}, \"type\": \"mesh3d\"}], \"parcoords\": [{\"line\": {\"colorbar\": {\"outlinewidth\": 0, \"ticks\": \"\"}}, \"type\": \"parcoords\"}], \"pie\": [{\"automargin\": true, \"type\": \"pie\"}], \"scatter\": [{\"marker\": {\"colorbar\": {\"outlinewidth\": 0, \"ticks\": \"\"}}, \"type\": \"scatter\"}], \"scatter3d\": [{\"line\": {\"colorbar\": {\"outlinewidth\": 0, \"ticks\": \"\"}}, \"marker\": {\"colorbar\": {\"outlinewidth\": 0, \"ticks\": \"\"}}, \"type\": \"scatter3d\"}], \"scattercarpet\": [{\"marker\": {\"colorbar\": {\"outlinewidth\": 0, \"ticks\": \"\"}}, \"type\": \"scattercarpet\"}], \"scattergeo\": [{\"marker\": {\"colorbar\": {\"outlinewidth\": 0, \"ticks\": \"\"}}, \"type\": \"scattergeo\"}], \"scattergl\": [{\"marker\": {\"colorbar\": {\"outlinewidth\": 0, \"ticks\": \"\"}}, \"type\": \"scattergl\"}], \"scattermapbox\": [{\"marker\": {\"colorbar\": {\"outlinewidth\": 0, \"ticks\": \"\"}}, \"type\": \"scattermapbox\"}], \"scatterpolar\": [{\"marker\": {\"colorbar\": {\"outlinewidth\": 0, \"ticks\": \"\"}}, \"type\": \"scatterpolar\"}], \"scatterpolargl\": [{\"marker\": {\"colorbar\": {\"outlinewidth\": 0, \"ticks\": \"\"}}, \"type\": \"scatterpolargl\"}], \"scatterternary\": [{\"marker\": {\"colorbar\": {\"outlinewidth\": 0, \"ticks\": \"\"}}, \"type\": \"scatterternary\"}], \"surface\": [{\"colorbar\": {\"outlinewidth\": 0, \"ticks\": \"\"}, \"colorscale\": [[0.0, \"#0d0887\"], [0.1111111111111111, \"#46039f\"], [0.2222222222222222, \"#7201a8\"], [0.3333333333333333, \"#9c179e\"], [0.4444444444444444, \"#bd3786\"], [0.5555555555555556, \"#d8576b\"], [0.6666666666666666, \"#ed7953\"], [0.7777777777777778, \"#fb9f3a\"], [0.8888888888888888, \"#fdca26\"], [1.0, \"#f0f921\"]], \"type\": \"surface\"}], \"table\": [{\"cells\": {\"fill\": {\"color\": \"#EBF0F8\"}, \"line\": {\"color\": \"white\"}}, \"header\": {\"fill\": {\"color\": \"#C8D4E3\"}, \"line\": {\"color\": \"white\"}}, \"type\": \"table\"}]}, \"layout\": {\"annotationdefaults\": {\"arrowcolor\": \"#2a3f5f\", \"arrowhead\": 0, \"arrowwidth\": 1}, \"autotypenumbers\": \"strict\", \"coloraxis\": {\"colorbar\": {\"outlinewidth\": 0, \"ticks\": \"\"}}, \"colorscale\": {\"diverging\": [[0, \"#8e0152\"], [0.1, \"#c51b7d\"], [0.2, \"#de77ae\"], [0.3, \"#f1b6da\"], [0.4, \"#fde0ef\"], [0.5, \"#f7f7f7\"], [0.6, \"#e6f5d0\"], [0.7, \"#b8e186\"], [0.8, \"#7fbc41\"], [0.9, \"#4d9221\"], [1, \"#276419\"]], \"sequential\": [[0.0, \"#0d0887\"], [0.1111111111111111, \"#46039f\"], [0.2222222222222222, \"#7201a8\"], [0.3333333333333333, \"#9c179e\"], [0.4444444444444444, \"#bd3786\"], [0.5555555555555556, \"#d8576b\"], [0.6666666666666666, \"#ed7953\"], [0.7777777777777778, \"#fb9f3a\"], [0.8888888888888888, \"#fdca26\"], [1.0, \"#f0f921\"]], \"sequentialminus\": [[0.0, \"#0d0887\"], [0.1111111111111111, \"#46039f\"], [0.2222222222222222, \"#7201a8\"], [0.3333333333333333, \"#9c179e\"], [0.4444444444444444, \"#bd3786\"], [0.5555555555555556, \"#d8576b\"], [0.6666666666666666, \"#ed7953\"], [0.7777777777777778, \"#fb9f3a\"], [0.8888888888888888, \"#fdca26\"], [1.0, \"#f0f921\"]]}, \"colorway\": [\"#636efa\", \"#EF553B\", \"#00cc96\", \"#ab63fa\", \"#FFA15A\", \"#19d3f3\", \"#FF6692\", \"#B6E880\", \"#FF97FF\", \"#FECB52\"], \"font\": {\"color\": \"#2a3f5f\"}, \"geo\": {\"bgcolor\": \"white\", \"lakecolor\": \"white\", \"landcolor\": \"#E5ECF6\", \"showlakes\": true, \"showland\": true, \"subunitcolor\": \"white\"}, \"hoverlabel\": {\"align\": \"left\"}, \"hovermode\": \"closest\", \"mapbox\": {\"style\": \"light\"}, \"paper_bgcolor\": \"white\", \"plot_bgcolor\": \"#E5ECF6\", \"polar\": {\"angularaxis\": {\"gridcolor\": \"white\", \"linecolor\": \"white\", \"ticks\": \"\"}, \"bgcolor\": \"#E5ECF6\", \"radialaxis\": {\"gridcolor\": \"white\", \"linecolor\": \"white\", \"ticks\": \"\"}}, \"scene\": {\"xaxis\": {\"backgroundcolor\": \"#E5ECF6\", \"gridcolor\": \"white\", \"gridwidth\": 2, \"linecolor\": \"white\", \"showbackground\": true, \"ticks\": \"\", \"zerolinecolor\": \"white\"}, \"yaxis\": {\"backgroundcolor\": \"#E5ECF6\", \"gridcolor\": \"white\", \"gridwidth\": 2, \"linecolor\": \"white\", \"showbackground\": true, \"ticks\": \"\", \"zerolinecolor\": \"white\"}, \"zaxis\": {\"backgroundcolor\": \"#E5ECF6\", \"gridcolor\": \"white\", \"gridwidth\": 2, \"linecolor\": \"white\", \"showbackground\": true, \"ticks\": \"\", \"zerolinecolor\": \"white\"}}, \"shapedefaults\": {\"line\": {\"color\": \"#2a3f5f\"}}, \"ternary\": {\"aaxis\": {\"gridcolor\": \"white\", \"linecolor\": \"white\", \"ticks\": \"\"}, \"baxis\": {\"gridcolor\": \"white\", \"linecolor\": \"white\", \"ticks\": \"\"}, \"bgcolor\": \"#E5ECF6\", \"caxis\": {\"gridcolor\": \"white\", \"linecolor\": \"white\", \"ticks\": \"\"}}, \"title\": {\"x\": 0.05}, \"xaxis\": {\"automargin\": true, \"gridcolor\": \"white\", \"linecolor\": \"white\", \"ticks\": \"\", \"title\": {\"standoff\": 15}, \"zerolinecolor\": \"white\", \"zerolinewidth\": 2}, \"yaxis\": {\"automargin\": true, \"gridcolor\": \"white\", \"linecolor\": \"white\", \"ticks\": \"\", \"title\": {\"standoff\": 15}, \"zerolinecolor\": \"white\", \"zerolinewidth\": 2}}}, \"xaxis\": {\"anchor\": \"y\", \"domain\": [0.0, 1.0], \"title\": {\"text\": \"0\"}}, \"yaxis\": {\"anchor\": \"x\", \"domain\": [0.0, 1.0], \"title\": {\"text\": \"1\"}}},                        {\"responsive\": true}                    ).then(function(){\n",
       "                            \n",
       "var gd = document.getElementById('625c0359-b0ce-4e61-839a-4218672db30d');\n",
       "var x = new MutationObserver(function (mutations, observer) {{\n",
       "        var display = window.getComputedStyle(gd).display;\n",
       "        if (!display || display === 'none') {{\n",
       "            console.log([gd, 'removed!']);\n",
       "            Plotly.purge(gd);\n",
       "            observer.disconnect();\n",
       "        }}\n",
       "}});\n",
       "\n",
       "// Listen for the removal of the full notebook cells\n",
       "var notebookContainer = gd.closest('#notebook-container');\n",
       "if (notebookContainer) {{\n",
       "    x.observe(notebookContainer, {childList: true});\n",
       "}}\n",
       "\n",
       "// Listen for the clearing of the current output cell\n",
       "var outputEl = gd.closest('.output');\n",
       "if (outputEl) {{\n",
       "    x.observe(outputEl, {childList: true});\n",
       "}}\n",
       "\n",
       "                        })                };                });            </script>        </div>"
      ]
     },
     "metadata": {},
     "output_type": "display_data"
    }
   ],
   "source": [
    "import plotly.express as px\n",
    "\n",
    "\n",
    "fig = px.scatter(\n",
    "    X_2d, x=0, y=1,\n",
    "    color=df[label], labels={'color': 'Band'},\n",
    ")\n",
    "fig.show()"
   ]
  },
  {
   "cell_type": "code",
   "execution_count": null,
   "metadata": {},
   "outputs": [],
   "source": []
  },
  {
   "cell_type": "markdown",
   "metadata": {},
   "source": [
    "3d"
   ]
  },
  {
   "cell_type": "code",
   "execution_count": 10,
   "metadata": {},
   "outputs": [
    {
     "name": "stderr",
     "output_type": "stream",
     "text": [
      "/home/gabrielziegler/PyEnv/DeepLearning/lib/python3.9/site-packages/sklearn/manifold/_t_sne.py:790: FutureWarning:\n",
      "\n",
      "The default learning rate in TSNE will change from 200.0 to 'auto' in 1.2.\n",
      "\n",
      "/home/gabrielziegler/PyEnv/DeepLearning/lib/python3.9/site-packages/sklearn/manifold/_t_sne.py:819: FutureWarning:\n",
      "\n",
      "'square_distances' has been introduced in 0.24 to help phase out legacy squaring behavior. The 'legacy' setting will be removed in 1.1 (renaming of 0.26), and the default setting will be changed to True. In 1.3, 'square_distances' will be removed altogether, and distances will be squared by default. Set 'square_distances'=True to silence this warning.\n",
      "\n",
      "/home/gabrielziegler/PyEnv/DeepLearning/lib/python3.9/site-packages/sklearn/manifold/_t_sne.py:982: FutureWarning:\n",
      "\n",
      "The PCA initialization in TSNE will change to have the standard deviation of PC1 equal to 1e-4 in 1.2. This will ensure better convergence.\n",
      "\n"
     ]
    },
    {
     "data": {
      "text/plain": [
       "array([[ 48.73756  ,  19.774494 ,  82.140884 ],\n",
       "       [-67.66882  ,  89.52121  ,  65.34854  ],\n",
       "       [ 28.995901 , -63.90502  ,  37.550613 ],\n",
       "       ...,\n",
       "       [113.97468  ,  12.326628 ,   1.1524607],\n",
       "       [112.77229  ,  11.243691 ,  21.940357 ],\n",
       "       [ 98.62467  , -18.393183 ,  73.52397  ]], dtype=float32)"
      ]
     },
     "execution_count": 10,
     "metadata": {},
     "output_type": "execute_result"
    }
   ],
   "source": [
    "from sklearn.manifold import TSNE\n",
    "tsne = TSNE(n_components=3, init='pca', metric=\"cosine\")\n",
    "X_3d = tsne.fit_transform(X)\n",
    "X_3d"
   ]
  },
  {
   "cell_type": "code",
   "execution_count": 18,
   "metadata": {},
   "outputs": [
    {
     "data": {
      "application/vnd.plotly.v1+json": {
       "config": {
        "plotlyServerURL": "https://plot.ly"
       },
       "data": [
        {
         "hovertemplate": "Band=ACDC<br>0=%{x}<br>1=%{y}<br>2=%{z}<extra></extra>",
         "legendgroup": "ACDC",
         "marker": {
          "color": "#636efa",
          "size": 3,
          "symbol": "circle"
         },
         "mode": "markers",
         "name": "ACDC",
         "scene": "scene",
         "showlegend": true,
         "type": "scatter3d",
         "x": [
          48.7375602722168,
          -67.6688232421875,
          28.995901107788086,
          -5.6112799644470215,
          95.14970397949219,
          34.02350616455078,
          123.46289825439453,
          -34.423152923583984,
          37.53251647949219,
          19.335773468017578,
          40.86726760864258,
          -26.06719970703125,
          -18.216442108154297,
          -50.307830810546875,
          -0.19680069386959076,
          43.85425567626953,
          -21.54433822631836,
          13.738378524780273,
          -7.957188606262207,
          17.606796264648438,
          82.44538116455078,
          -12.280790328979492,
          69.08248138427734,
          -26.670488357543945,
          101.63154602050781,
          -61.67327117919922,
          52.49546813964844,
          -29.455669403076172,
          55.88701248168945,
          6.828678131103516,
          -24.380212783813477,
          -78.44549560546875,
          -102.42206573486328,
          104.76210021972656,
          -72.04568481445312,
          -42.12309265136719,
          55.73738098144531,
          36.63532257080078,
          6.930728912353516,
          -6.475739479064941,
          53.31953811645508,
          30.757841110229492,
          67.38655090332031,
          -44.24116897583008,
          -43.78300094604492,
          138.11422729492188,
          -112.32880401611328,
          -14.892292022705078,
          -71.7104721069336,
          -6.655979156494141,
          -90.97599029541016,
          32.62744903564453,
          -81.44926452636719,
          -9.610525131225586,
          20.54247283935547,
          -65.8187484741211,
          -110.29082489013672,
          -31.882854461669922,
          -80.7720947265625,
          58.26802062988281,
          47.239253997802734,
          39.978309631347656,
          -11.639872550964355,
          41.46395492553711,
          -66.14248657226562,
          -37.09236145019531,
          -28.38673210144043,
          40.14204788208008,
          -69.76663208007812,
          -34.956687927246094,
          19.441497802734375,
          -51.94856262207031,
          52.69318389892578,
          -11.19316291809082,
          5.486678123474121,
          39.604278564453125,
          -37.55973434448242,
          -13.845101356506348,
          31.113630294799805,
          -95.20787048339844,
          27.018564224243164,
          -30.466581344604492,
          19.19228172302246,
          -15.359816551208496,
          30.802143096923828,
          -70.17924499511719,
          23.468769073486328,
          -18.301605224609375,
          -4.84648323059082,
          -19.317455291748047,
          36.657169342041016,
          -43.57640838623047,
          15.647017478942871,
          -25.85301971435547,
          -105.23222351074219,
          -52.810604095458984,
          -19.260421752929688,
          -46.61240768432617,
          -14.591497421264648,
          35.466148376464844,
          9.388322830200195,
          -45.314247131347656,
          -55.60502624511719,
          -42.44025421142578,
          -32.52547073364258,
          -17.2918701171875,
          -52.30805206298828,
          60.52269744873047,
          54.13267135620117,
          -27.48625373840332,
          -51.609413146972656,
          35.20375061035156,
          -47.45587158203125,
          60.732994079589844,
          -50.0797004699707,
          49.8316764831543,
          27.839763641357422,
          -9.61303997039795,
          39.58637237548828,
          31.761022567749023,
          -75.47046661376953,
          -99.27923583984375,
          -84.44070434570312,
          54.361026763916016,
          -71.71866607666016,
          43.73000717163086,
          6.706775665283203,
          38.54282760620117,
          77.98323059082031,
          11.66812515258789,
          20.564590454101562,
          -24.528507232666016,
          -2.7420361042022705,
          16.495933532714844,
          81.3651351928711,
          -5.365816593170166,
          -5.736151218414307,
          26.53371810913086,
          7.097562313079834,
          -66.64326477050781,
          -21.007972717285156,
          -6.318714141845703,
          -26.258033752441406,
          -101.60520935058594,
          49.87529754638672,
          -57.62991714477539,
          -23.877918243408203,
          -42.02699279785156,
          -34.69824981689453,
          -57.86738586425781,
          -38.949851989746094,
          5.417154788970947,
          -42.45210647583008,
          -20.255050659179688,
          25.039901733398438,
          32.129981994628906,
          -60.944217681884766,
          60.79021072387695
         ],
         "y": [
          19.774494171142578,
          89.52120971679688,
          -63.90502166748047,
          59.161258697509766,
          114.0966567993164,
          -61.18342208862305,
          33.54346466064453,
          -9.807513236999512,
          1.2537572383880615,
          55.96760177612305,
          -28.103309631347656,
          30.684669494628906,
          -33.37556838989258,
          68.2082748413086,
          73.22549438476562,
          -42.6124153137207,
          44.199607849121094,
          -42.233787536621094,
          -40.35609817504883,
          99.05204010009766,
          120.64159393310547,
          -12.284770965576172,
          -61.06268310546875,
          -3.1167502403259277,
          93.79412078857422,
          29.382394790649414,
          -39.33787155151367,
          40.24343490600586,
          2.000345468521118,
          67.35136413574219,
          -35.97743225097656,
          -1.45180344581604,
          -39.472755432128906,
          -20.956953048706055,
          -30.062885284423828,
          46.67561721801758,
          35.21500015258789,
          22.391639709472656,
          8.640729904174805,
          -75.7799072265625,
          26.316791534423828,
          49.69495391845703,
          -2.837273359298706,
          -15.356277465820312,
          -32.826568603515625,
          16.630630493164062,
          28.0440731048584,
          -95.2003402709961,
          3.3090388774871826,
          -63.03578567504883,
          25.108909606933594,
          -14.242185592651367,
          10.23099136352539,
          -27.912498474121094,
          21.913894653320312,
          20.74128532409668,
          -27.034360885620117,
          -37.600746154785156,
          29.281187057495117,
          -26.602294921875,
          36.81532287597656,
          -9.942046165466309,
          -88.32229614257812,
          -31.558544158935547,
          13.763921737670898,
          -60.51975631713867,
          -11.012198448181152,
          -23.222606658935547,
          -48.222251892089844,
          88.95333862304688,
          -8.692688941955566,
          32.668922424316406,
          -20.43195915222168,
          -42.1311149597168,
          48.41646957397461,
          -10.591577529907227,
          3.4277265071868896,
          -63.25091552734375,
          57.59264373779297,
          33.85309600830078,
          -40.499908447265625,
          23.71417808532715,
          43.68074035644531,
          -64.2657470703125,
          2.6492836475372314,
          -26.519014358520508,
          -45.55293655395508,
          49.3574333190918,
          65.85826873779297,
          -27.09005355834961,
          55.2802619934082,
          4.4501729011535645,
          -24.90068244934082,
          17.711721420288086,
          -32.54549789428711,
          -25.1436824798584,
          80.15484619140625,
          33.945228576660156,
          16.22208023071289,
          20.71979522705078,
          40.72694778442383,
          -25.24135971069336,
          -18.869522094726562,
          -8.82145881652832,
          2.47512149810791,
          3.8560824394226074,
          26.527135848999023,
          -20.739429473876953,
          30.281347274780273,
          22.12655258178711,
          86.21438598632812,
          -56.567020416259766,
          -9.528329849243164,
          -18.003223419189453,
          -57.63561248779297,
          -1.9655877351760864,
          22.52472686767578,
          38.18950653076172,
          26.897754669189453,
          45.910675048828125,
          42.54669189453125,
          3.7297325134277344,
          -42.30636215209961,
          -55.164695739746094,
          8.659290313720703,
          18.331735610961914,
          28.49810791015625,
          -36.3413200378418,
          121.49769592285156,
          34.28080749511719,
          -36.1602668762207,
          -12.901193618774414,
          -26.63945770263672,
          7.5128583908081055,
          -13.596952438354492,
          -15.182059288024902,
          20.435117721557617,
          -20.571611404418945,
          26.502384185791016,
          24.974502563476562,
          32.16511917114258,
          -15.592680931091309,
          -14.60080623626709,
          21.694416046142578,
          -21.53278160095215,
          11.39525032043457,
          -57.74827194213867,
          73.40645599365234,
          68.5574722290039,
          -12.059335708618164,
          82.34270477294922,
          -10.017690658569336,
          17.44811248779297,
          -36.622344970703125,
          -14.28589916229248,
          -1.7434152364730835,
          63.674713134765625,
          96.01227569580078
         ],
         "z": [
          82.14088439941406,
          65.34854125976562,
          37.55061340332031,
          83.62333679199219,
          40.84219741821289,
          74.01818084716797,
          71.33132934570312,
          44.70048141479492,
          9.315281867980957,
          69.46117401123047,
          17.517885208129883,
          98.49588012695312,
          39.21080780029297,
          81.21834564208984,
          18.45977783203125,
          35.509578704833984,
          -4.111443042755127,
          47.57444381713867,
          94.02857208251953,
          38.377220153808594,
          50.06184387207031,
          110.267333984375,
          89.90586853027344,
          61.1061897277832,
          32.90180587768555,
          -94.11966705322266,
          88.51026153564453,
          -153.7700958251953,
          13.83807373046875,
          -22.919923782348633,
          1.5875779390335083,
          -13.545791625976562,
          70.46703338623047,
          -12.297428131103516,
          40.3299674987793,
          56.93888854980469,
          108.30946350097656,
          0.1607920527458191,
          29.84050750732422,
          52.51031494140625,
          11.212262153625488,
          -1.8650726079940796,
          -3.401705265045166,
          4.835501194000244,
          5.012978553771973,
          49.360572814941406,
          -42.342124938964844,
          63.960453033447266,
          46.00570297241211,
          119.91114807128906,
          63.00693893432617,
          1.1928271055221558,
          -21.971521377563477,
          18.89903450012207,
          93.30615234375,
          75.57167053222656,
          56.434844970703125,
          110.09427642822266,
          98.17192077636719,
          110.91967010498047,
          35.663719177246094,
          26.193628311157227,
          42.55568313598633,
          56.5198860168457,
          -41.340431213378906,
          4.634955883026123,
          -3.8465535640716553,
          39.602386474609375,
          33.793128967285156,
          109.0428237915039,
          91.92440795898438,
          66.75149536132812,
          5.057503700256348,
          58.57728576660156,
          101.29904174804688,
          95.03575134277344,
          89.74601745605469,
          66.37898254394531,
          90.66488647460938,
          -22.410600662231445,
          109.99655151367188,
          3.4870243072509766,
          23.27752685546875,
          87.7822265625,
          85.45618438720703,
          75.41007232666016,
          31.779918670654297,
          82.958984375,
          48.67755126953125,
          -20.64171028137207,
          108.04948425292969,
          43.21348190307617,
          -5.859074592590332,
          43.453731536865234,
          -35.19477081298828,
          30.20295524597168,
          98.04164123535156,
          35.507266998291016,
          76.98902893066406,
          58.9252815246582,
          81.3450927734375,
          82.24445343017578,
          100.35350799560547,
          -43.73967361450195,
          18.085603713989258,
          13.465310096740723,
          95.38194274902344,
          38.741302490234375,
          58.453887939453125,
          20.396814346313477,
          51.97749710083008,
          52.10280990600586,
          29.483116149902344,
          18.86227798461914,
          66.40731811523438,
          56.47298812866211,
          37.79105758666992,
          91.32982635498047,
          100.9736099243164,
          79.94810485839844,
          31.781396865844727,
          33.37407684326172,
          52.47719192504883,
          60.77886199951172,
          192.33682250976562,
          38.084327697753906,
          108.39934539794922,
          -4.264275074005127,
          36.11678695678711,
          41.260860443115234,
          15.839073181152344,
          85.49591827392578,
          61.01517105102539,
          102.47058868408203,
          -11.10966682434082,
          -4.374213218688965,
          123.17996215820312,
          19.43329620361328,
          70.57194519042969,
          41.32511520385742,
          54.93037796020508,
          72.31524658203125,
          15.566044807434082,
          27.644926071166992,
          83.85995483398438,
          59.319496154785156,
          51.28773498535156,
          50.80646514892578,
          94.06196594238281,
          63.40007400512695,
          75.21229553222656,
          107.85038757324219,
          67.65145111083984,
          82.1419448852539,
          57.148075103759766,
          53.25623321533203,
          66.72377014160156,
          31.751371383666992
         ]
        },
        {
         "hovertemplate": "Band=Van Halen<br>0=%{x}<br>1=%{y}<br>2=%{z}<extra></extra>",
         "legendgroup": "Van Halen",
         "marker": {
          "color": "#EF553B",
          "size": 3,
          "symbol": "circle"
         },
         "mode": "markers",
         "name": "Van Halen",
         "scene": "scene",
         "showlegend": true,
         "type": "scatter3d",
         "x": [
          -59.72757339477539,
          10.976524353027344,
          -103.69093322753906,
          45.24101257324219,
          84.92146301269531,
          -29.81947135925293,
          3.482825756072998,
          -37.54771423339844,
          -34.72032928466797,
          -12.315794944763184,
          61.323097229003906,
          77.87980651855469,
          128.93978881835938,
          -44.42205810546875,
          77.01520538330078,
          77.33194732666016,
          -45.25202178955078,
          43.8535041809082,
          62.94881820678711,
          -120.2875747680664,
          1.3117724657058716,
          7.140244960784912,
          -70.36687469482422,
          87.0240707397461,
          -39.40949630737305,
          38.796390533447266,
          -15.28423023223877,
          49.34309768676758,
          94.65522003173828
         ],
         "y": [
          59.6828498840332,
          -82.96146392822266,
          47.869693756103516,
          -51.16086196899414,
          9.691100120544434,
          -52.2471923828125,
          -69.53196716308594,
          -51.69947814941406,
          -43.631492614746094,
          -38.29872512817383,
          -25.821523666381836,
          -1.8655970096588135,
          39.3172492980957,
          24.754684448242188,
          -50.52272415161133,
          -34.29899978637695,
          -60.07475280761719,
          -84.4416732788086,
          -116.10751342773438,
          -62.226165771484375,
          -67.88892364501953,
          -13.85903263092041,
          -69.22562408447266,
          -9.006331443786621,
          13.033403396606445,
          -4.869658946990967,
          -22.19158172607422,
          -37.45479965209961,
          -14.866130828857422
         ],
         "z": [
          -52.60355758666992,
          -28.437301635742188,
          7.013243675231934,
          -90.58629608154297,
          -116.0667495727539,
          -93.18506622314453,
          -23.592626571655273,
          -20.06281852722168,
          22.693811416625977,
          -61.46370315551758,
          -101.06229400634766,
          -123.00611114501953,
          -47.12969207763672,
          -39.975467681884766,
          -98.50005340576172,
          -93.5096664428711,
          31.17901039123535,
          -18.342897415161133,
          10.401529312133789,
          -22.788528442382812,
          -54.00273895263672,
          40.245513916015625,
          57.91101837158203,
          -106.76239013671875,
          -26.232481002807617,
          136.9476318359375,
          -35.90843963623047,
          -99.6976547241211,
          -89.02892303466797
         ]
        },
        {
         "hovertemplate": "Band=Metallica<br>0=%{x}<br>1=%{y}<br>2=%{z}<extra></extra>",
         "legendgroup": "Metallica",
         "marker": {
          "color": "#00cc96",
          "size": 3,
          "symbol": "circle"
         },
         "mode": "markers",
         "name": "Metallica",
         "scene": "scene",
         "showlegend": true,
         "type": "scatter3d",
         "x": [
          -132.32115173339844,
          62.20256042480469,
          -128.3209228515625,
          -114.37474060058594,
          -60.283729553222656,
          -56.22868728637695,
          -84.44110870361328,
          76.64991760253906,
          -46.46166229248047,
          -0.5082018375396729,
          -138.69485473632812,
          -85.23030853271484,
          86.45851135253906,
          4.222668170928955,
          91.35496520996094,
          -105.8558349609375,
          77.75701141357422,
          39.2918586730957,
          14.843242645263672,
          -15.698980331420898,
          50.641117095947266,
          40.713584899902344,
          -148.4667205810547,
          -115.22459411621094,
          -94.02088165283203,
          -145.94284057617188,
          -71.16597747802734,
          -119.98536682128906,
          -150.33786010742188,
          74.96708679199219,
          -90.38774108886719,
          -129.99588012695312,
          -127.37013244628906,
          36.010711669921875,
          89.05760192871094,
          -133.6492462158203,
          -19.136474609375,
          -59.402652740478516,
          -97.88179016113281,
          85.74547576904297,
          -42.69429016113281,
          -33.2281379699707,
          100.04582977294922,
          -112.94572448730469,
          -62.82806396484375,
          -99.23816680908203,
          69.91923522949219,
          -36.63325119018555,
          -65.37163543701172,
          -51.940032958984375,
          -79.08799743652344,
          -198.1727752685547,
          24.470792770385742,
          -67.11309051513672,
          105.58311462402344,
          -80.40343475341797,
          88.26585388183594,
          67.58873748779297,
          -159.44981384277344,
          -119.28176879882812,
          -131.61849975585938,
          204.9752197265625,
          -39.277259826660156,
          -157.38363647460938,
          -95.88280487060547,
          -126.60511016845703,
          -114.0034408569336,
          17.5257511138916,
          69.01847839355469,
          -128.69444274902344,
          -55.74736785888672,
          12.545548439025879,
          -140.6194610595703,
          -143.39454650878906,
          -108.6000747680664,
          77.20310974121094,
          -60.06132507324219,
          -57.43806457519531,
          -20.694900512695312,
          33.89039611816406,
          -130.5432586669922,
          -134.99539184570312,
          -42.15378952026367,
          -51.45913314819336,
          -94.8594970703125,
          -35.435035705566406,
          -61.69083786010742,
          -130.6288604736328,
          -73.308349609375,
          -123.03826904296875,
          -67.63629913330078,
          -73.03004455566406,
          55.501197814941406,
          65.60979461669922,
          -156.329833984375,
          -58.88349533081055,
          -143.99594116210938,
          -85.1340103149414,
          86.11418151855469,
          26.83242416381836,
          -5.511903285980225,
          -37.42324447631836,
          -146.349853515625,
          76.0187759399414,
          -86.62352752685547,
          -60.32938766479492,
          -134.79396057128906,
          -151.81097412109375,
          -128.9273681640625,
          -82.96453857421875,
          76.81363677978516,
          -16.486854553222656,
          -52.290611267089844,
          -72.19047546386719,
          77.3475112915039,
          -74.90179443359375,
          43.300907135009766,
          78.94313049316406,
          -142.9586639404297,
          -65.62333679199219,
          1.809308409690857
         ],
         "y": [
          -43.43947982788086,
          -101.1681900024414,
          8.717331886291504,
          -18.2808837890625,
          -68.43601989746094,
          19.85503578186035,
          103.09765625,
          11.840356826782227,
          -37.67680740356445,
          -110.44178771972656,
          73.30035400390625,
          29.651079177856445,
          75.28363800048828,
          37.0772705078125,
          -88.77136993408203,
          -7.4755167961120605,
          -83.17668914794922,
          -108.0829086303711,
          -116.3725814819336,
          103.593994140625,
          -76.49266052246094,
          -97.17778778076172,
          60.969268798828125,
          -8.100993156433105,
          -31.10601234436035,
          8.135173797607422,
          51.646942138671875,
          -58.04346466064453,
          -16.987545013427734,
          64.40736389160156,
          -0.7069283723831177,
          -31.15044593811035,
          85.0199203491211,
          63.96112823486328,
          -97.50636291503906,
          -54.895877838134766,
          -87.21604919433594,
          30.200693130493164,
          -23.79294776916504,
          -71.73844146728516,
          65.20883178710938,
          -111.41173553466797,
          -69.51590728759766,
          -34.09575653076172,
          -45.45410919189453,
          -22.629812240600586,
          -96.85901641845703,
          -33.30294418334961,
          -4.4183855056762695,
          -81.89425659179688,
          20.142120361328125,
          -105.19938659667969,
          -101.78925323486328,
          54.905059814453125,
          -78.77033996582031,
          69.64665222167969,
          -87.02532196044922,
          57.75088882446289,
          -11.078843116760254,
          16.703432083129883,
          -10.55114459991455,
          43.62074661254883,
          -101.1854019165039,
          49.90980911254883,
          -28.678667068481445,
          -0.44859641790390015,
          3.538642168045044,
          -80.22537994384766,
          -95.57797241210938,
          13.326800346374512,
          -89.91974639892578,
          -113.7744369506836,
          14.374232292175293,
          -12.157578468322754,
          -2.3529062271118164,
          43.642852783203125,
          7.039993762969971,
          82.06200408935547,
          -102.02304077148438,
          -99.18351745605469,
          31.195886611938477,
          11.682757377624512,
          -82.1257553100586,
          59.247493743896484,
          -22.41090202331543,
          -95.32707977294922,
          37.90286636352539,
          -17.2719669342041,
          -18.39181900024414,
          -0.617418110370636,
          -59.57571792602539,
          -28.91866111755371,
          69.48345947265625,
          45.77956771850586,
          30.103958129882812,
          72.80577087402344,
          18.596574783325195,
          -3.3982203006744385,
          -104.41959381103516,
          -99.3746337890625,
          -93.69244384765625,
          96.53185272216797,
          -7.029594898223877,
          61.14112854003906,
          -17.319398880004883,
          90.07154083251953,
          -10.796618461608887,
          -32.7542839050293,
          7.708249092102051,
          -43.325599670410156,
          12.209033966064453,
          84.460205078125,
          45.938106536865234,
          -88.06744384765625,
          -89.35697174072266,
          51.16057205200195,
          -109.8620376586914,
          -57.42535400390625,
          -46.57733917236328,
          -96.33045196533203,
          -62.750431060791016
         ],
         "z": [
          -25.92986488342285,
          46.30936050415039,
          -50.74795150756836,
          12.20948314666748,
          -43.14388656616211,
          19.100528717041016,
          -16.650556564331055,
          43.015281677246094,
          48.46598434448242,
          -21.341054916381836,
          -34.03660583496094,
          -78.76863861083984,
          17.42844581604004,
          -41.52427673339844,
          57.59453582763672,
          -41.26340103149414,
          39.91377639770508,
          26.12777328491211,
          -28.948476791381836,
          -31.01753044128418,
          28.047588348388672,
          65.34442138671875,
          -26.903398513793945,
          55.98648452758789,
          -79.81415557861328,
          -42.78679275512695,
          0.8780195713043213,
          9.293275833129883,
          -41.882484436035156,
          46.61750030517578,
          11.670650482177734,
          61.73421859741211,
          -21.722671508789062,
          54.66040802001953,
          36.41200256347656,
          -43.87699508666992,
          -32.2809944152832,
          -7.561497688293457,
          -0.29956260323524475,
          30.742162704467773,
          1.2690975666046143,
          -16.272459030151367,
          52.904197692871094,
          -5.269240379333496,
          -5.99275541305542,
          71.17930603027344,
          -10.335064888000488,
          -45.11157989501953,
          14.514477729797363,
          2.1943042278289795,
          8.823081970214844,
          84.42922973632812,
          3.0176258087158203,
          -20.399375915527344,
          33.74003601074219,
          -34.38665008544922,
          18.543407440185547,
          24.358238220214844,
          -64.01203918457031,
          -10.639921188354492,
          -38.613426208496094,
          6.1752471923828125,
          26.890501022338867,
          -7.794543266296387,
          26.467374801635742,
          -22.960838317871094,
          -64.14608764648438,
          60.69827651977539,
          59.2716178894043,
          -32.84613037109375,
          -49.80601119995117,
          -3.6743834018707275,
          -68.56061553955078,
          -20.672893524169922,
          6.356562614440918,
          12.70382022857666,
          -9.81161117553711,
          -66.73030853271484,
          -26.37225914001465,
          50.222713470458984,
          -36.92876434326172,
          7.825264930725098,
          55.24989700317383,
          19.14015007019043,
          105.04436492919922,
          12.651318550109863,
          -27.1519718170166,
          24.16024398803711,
          -9.300946235656738,
          -95.38434600830078,
          6.476022243499756,
          13.936372756958008,
          21.01119041442871,
          -8.897797584533691,
          -46.79219055175781,
          -17.464954376220703,
          -21.838890075683594,
          -89.13221740722656,
          -6.956555366516113,
          -11.579415321350098,
          -11.511089324951172,
          -54.61241912841797,
          55.449710845947266,
          9.070366859436035,
          46.54541015625,
          -38.439781188964844,
          -65.78154754638672,
          -23.720535278320312,
          25.983200073242188,
          -36.87147903442383,
          -62.920127868652344,
          19.972644805908203,
          -8.443425178527832,
          -18.171125411987305,
          1.9998785257339478,
          -79.26628112792969,
          -9.156634330749512,
          39.395057678222656,
          35.21214294433594,
          1.3212194442749023,
          -89.2247543334961
         ]
        },
        {
         "hovertemplate": "Band=Iron Maiden<br>0=%{x}<br>1=%{y}<br>2=%{z}<extra></extra>",
         "legendgroup": "Iron Maiden",
         "marker": {
          "color": "#ab63fa",
          "size": 3,
          "symbol": "circle"
         },
         "mode": "markers",
         "name": "Iron Maiden",
         "scene": "scene",
         "showlegend": true,
         "type": "scatter3d",
         "x": [
          -128.49781799316406,
          49.08645248413086,
          18.930747985839844,
          32.88368225097656,
          113.06585693359375,
          -15.117124557495117,
          70.1256332397461,
          83.15328979492188,
          4.129759788513184,
          -10.312989234924316,
          -26.976781845092773,
          19.592973709106445,
          62.79999923706055,
          31.372310638427734,
          -106.8407974243164,
          12.236970901489258,
          -17.766008377075195,
          96.010986328125,
          134.19358825683594,
          35.4215202331543,
          47.367496490478516,
          33.939170837402344,
          92.42098236083984,
          -34.37967300415039,
          141.4649200439453,
          -91.48372650146484,
          -25.119338989257812,
          58.88811492919922,
          -58.83513641357422,
          -74.4582748413086,
          72.26934814453125,
          -96.21980285644531,
          93.10579681396484,
          34.615821838378906,
          -29.635520935058594,
          74.1677474975586,
          186.3710174560547,
          85.2454833984375,
          -124.62663269042969,
          -18.529600143432617,
          -156.11276245117188,
          -32.06332778930664,
          77.79656982421875,
          76.97199249267578,
          100.44349670410156,
          74.92636108398438,
          -39.220314025878906,
          -0.0179570484906435,
          29.423391342163086,
          -30.325653076171875,
          33.08332443237305,
          85.45845031738281,
          53.7753791809082,
          -59.12755584716797,
          -15.96288776397705,
          75.6075210571289,
          23.03517723083496,
          46.393836975097656,
          -81.40241241455078,
          42.41672897338867,
          97.05586242675781,
          48.05845642089844,
          24.390398025512695,
          -73.68116760253906,
          130.86155700683594,
          11.272412300109863,
          85.37366485595703,
          78.62725067138672,
          53.40034866333008,
          13.083817481994629,
          100.26024627685547,
          74.02725219726562,
          -80.74674224853516,
          29.26605224609375,
          79.95441436767578,
          55.54497528076172,
          -137.9607696533203,
          -76.54095458984375,
          -42.86814498901367,
          60.07090377807617,
          -75.68821716308594,
          96.20002746582031,
          -8.605937957763672,
          -54.13270950317383,
          70.76335144042969,
          4.056577205657959,
          81.63746643066406,
          -93.59488677978516,
          97.69632720947266,
          -122.83439636230469,
          44.0914421081543,
          8.40734577178955,
          52.870033264160156,
          10.357638359069824,
          100.93563079833984,
          -20.809951782226562,
          45.699981689453125,
          -71.36103820800781,
          22.823955535888672,
          28.959426879882812,
          -13.067476272583008,
          27.64301300048828,
          -96.36872863769531,
          -32.96981430053711,
          -115.8333740234375,
          76.50884246826172,
          79.8555679321289,
          32.179561614990234,
          -43.10281753540039,
          -173.11248779296875,
          74.44520568847656,
          6.451898097991943,
          -108.8335952758789,
          -66.17841339111328,
          -77.25965881347656,
          -16.708454132080078,
          -19.4570255279541,
          -8.276416778564453,
          131.01614379882812,
          89.63485717773438,
          -43.47480392456055,
          64.30203247070312,
          63.847599029541016,
          -38.65152359008789,
          100.14830017089844,
          -17.410259246826172,
          6.0321044921875,
          98.56392669677734,
          8.286651611328125,
          37.06645584106445,
          -131.0732421875,
          12.400114059448242,
          39.92273712158203,
          80.13323974609375,
          -19.248008728027344,
          56.48217010498047,
          -20.695236206054688,
          7.734150409698486,
          57.64223098754883,
          -85.71566009521484,
          77.9451904296875,
          57.35676193237305,
          -27.15339469909668,
          -108.59794616699219,
          24.140392303466797,
          -109.56610107421875,
          -9.4541654586792,
          -101.57459259033203,
          19.396717071533203,
          -88.36458587646484,
          81.02058410644531,
          -47.96419906616211
         ],
         "y": [
          40.81499481201172,
          -74.6937026977539,
          -78.00485229492188,
          -44.296485900878906,
          -29.30008316040039,
          25.111154556274414,
          -50.501487731933594,
          36.176246643066406,
          99.33493041992188,
          56.108367919921875,
          27.432819366455078,
          -63.06447982788086,
          -55.964542388916016,
          -59.24582290649414,
          54.66046142578125,
          -20.15290069580078,
          -9.125503540039062,
          -30.848947525024414,
          -35.525569915771484,
          62.43299865722656,
          -57.72733688354492,
          -62.351619720458984,
          -50.526390075683594,
          46.28900146484375,
          -23.6673526763916,
          79.78510284423828,
          47.93159484863281,
          -87.17022705078125,
          92.64793395996094,
          -13.36954402923584,
          -9.27271556854248,
          14.469386100769043,
          46.67039489746094,
          82.8215103149414,
          68.12615203857422,
          55.24925994873047,
          20.643951416015625,
          69.22412109375,
          -24.073514938354492,
          -3.496809720993042,
          4.9831013679504395,
          -72.52351379394531,
          -41.15895462036133,
          -21.082401275634766,
          37.1783332824707,
          58.15202331542969,
          105.16865539550781,
          9.688983917236328,
          60.4134521484375,
          -57.3017463684082,
          5.372093677520752,
          -62.9998664855957,
          -39.79967498779297,
          32.059471130371094,
          56.876190185546875,
          -48.005592346191406,
          -0.9207752346992493,
          72.10320281982422,
          55.65324783325195,
          -63.39576721191406,
          -36.922115325927734,
          -54.5592155456543,
          6.658294200897217,
          -46.56563186645508,
          -14.321889877319336,
          97.6446533203125,
          -21.613317489624023,
          97.25030517578125,
          64.08655548095703,
          -1.233435034751892,
          22.36671257019043,
          85.2435302734375,
          70.48782348632812,
          93.19515228271484,
          -85.55021667480469,
          -57.65217590332031,
          -28.31184959411621,
          86.83233642578125,
          42.6525993347168,
          -61.09986114501953,
          81.22271728515625,
          -0.836512565612793,
          35.52751922607422,
          95.8047103881836,
          -41.67078399658203,
          -14.433455467224121,
          -23.41775131225586,
          45.21778106689453,
          79.70832061767578,
          29.487903594970703,
          16.306856155395508,
          -10.01408576965332,
          91.79369354248047,
          -41.262088775634766,
          -15.337119102478027,
          70.28312683105469,
          63.421058654785156,
          25.884967803955078,
          -28.48988914489746,
          50.315277099609375,
          -82.63081359863281,
          24.44972038269043,
          -75.84252166748047,
          86.44647979736328,
          65.73095703125,
          94.46721649169922,
          -57.923126220703125,
          -8.96845531463623,
          -17.86891746520996,
          -70.1710205078125,
          17.415597915649414,
          64.36857604980469,
          24.179719924926758,
          43.85144805908203,
          -9.282676696777344,
          -19.928062438964844,
          27.15322494506836,
          -16.607751846313477,
          -13.45160961151123,
          66.0447998046875,
          53.17808532714844,
          54.959896087646484,
          76.8121566772461,
          -43.960514068603516,
          7.395496368408203,
          82.62435913085938,
          4.856191635131836,
          146.88043212890625,
          38.46682357788086,
          91.77837371826172,
          -5.448217391967773,
          -37.70142364501953,
          -39.516746520996094,
          -37.39413833618164,
          37.73281478881836,
          -31.356435775756836,
          26.95448875427246,
          -40.772132873535156,
          80.67992401123047,
          67.97063446044922,
          37.02130889892578,
          -69.57614135742188,
          -21.075654983520508,
          12.209005355834961,
          -82.48275756835938,
          -9.645929336547852,
          -55.65648651123047,
          52.66059112548828,
          -37.350860595703125,
          33.01502990722656,
          4.092160701751709,
          60.28472900390625
         ],
         "z": [
          -8.990683555603027,
          -175.42825317382812,
          -0.06475820392370224,
          -65.91488647460938,
          19.19533920288086,
          -17.94413948059082,
          -71.35575866699219,
          28.076623916625977,
          -7.668227195739746,
          118.37373352050781,
          -77.81216430664062,
          -35.42393493652344,
          -51.920162200927734,
          -55.904563903808594,
          51.64453125,
          -34.88282012939453,
          38.02900695800781,
          12.917411804199219,
          -30.973148345947266,
          -27.775615692138672,
          -25.78949546813965,
          7.56148624420166,
          0.7654958963394165,
          -36.5756950378418,
          8.489173889160156,
          28.99932861328125,
          20.66020965576172,
          -34.96937561035156,
          15.674622535705566,
          -58.587623596191406,
          -84.76399230957031,
          -44.03291320800781,
          -74.84651184082031,
          -62.54731369018555,
          -50.00993728637695,
          -98.20215606689453,
          206.2714080810547,
          -58.80779266357422,
          -16.186086654663086,
          -72.07036590576172,
          -5.636813163757324,
          -67.34627532958984,
          -24.314453125,
          -60.881107330322266,
          -20.402488708496094,
          -37.666236877441406,
          3.0919556617736816,
          49.89033508300781,
          -83.95172119140625,
          -60.6484260559082,
          -97.1858139038086,
          -21.301469802856445,
          -32.82228088378906,
          -74.68821716308594,
          -50.855995178222656,
          -4.789445400238037,
          -15.616641998291016,
          -83.79987335205078,
          -95.0144271850586,
          -41.704673767089844,
          36.170257568359375,
          -66.18446350097656,
          -50.74053955078125,
          -52.273380279541016,
          -2.829035997390747,
          -56.63290786743164,
          37.22940444946289,
          -56.188812255859375,
          93.23410034179688,
          72.42827606201172,
          -47.689876556396484,
          -71.0715560913086,
          -62.11278533935547,
          -50.067405700683594,
          -44.66387176513672,
          5.939575672149658,
          4.404318809509277,
          -10.044876098632812,
          -57.053016662597656,
          -11.024741172790527,
          24.097946166992188,
          -77.24041748046875,
          17.557937622070312,
          -7.653565406799316,
          -43.4752082824707,
          -78.86750793457031,
          -37.44803237915039,
          -52.75711441040039,
          -45.84929275512695,
          -66.61390686035156,
          -26.336271286010742,
          19.63109588623047,
          -60.125633239746094,
          68.8325424194336,
          25.27938461303711,
          -19.168811798095703,
          -58.564857482910156,
          -52.97102737426758,
          -42.322513580322266,
          -41.81513595581055,
          -75.91012573242188,
          -24.93239402770996,
          5.823883533477783,
          -15.207371711730957,
          -54.057044982910156,
          -98.00577545166016,
          -44.843048095703125,
          -85.64405059814453,
          -79.85041046142578,
          -89.57612609863281,
          -16.668737411499023,
          -62.83148956298828,
          6.026587009429932,
          -53.94657516479492,
          -33.73289489746094,
          -92.24015045166016,
          -46.155696868896484,
          -51.09736251831055,
          20.438594818115234,
          -89.1426773071289,
          -81.11190795898438,
          -67.58334350585938,
          -55.07293701171875,
          -75.11286163330078,
          -60.207035064697266,
          -40.19075012207031,
          -81.02839660644531,
          79.89396667480469,
          -10.140344619750977,
          -82.90533447265625,
          -2.1265928745269775,
          -30.91280174255371,
          -51.72880172729492,
          -59.070777893066406,
          -62.4394416809082,
          -68.76820373535156,
          -301.9981689453125,
          -50.74270248413086,
          -78.0877914428711,
          -5.316056728363037,
          -52.054649353027344,
          -62.976688385009766,
          -66.25344848632812,
          -29.94415283203125,
          18.135774612426758,
          -19.09386444091797,
          -36.35446548461914,
          -22.906383514404297,
          -91.8984375,
          -102.98954010009766,
          -34.92938995361328,
          -39.552879333496094
         ]
        },
        {
         "hovertemplate": "Band=Guns N' Roses<br>0=%{x}<br>1=%{y}<br>2=%{z}<extra></extra>",
         "legendgroup": "Guns N' Roses",
         "marker": {
          "color": "#FFA15A",
          "size": 3,
          "symbol": "circle"
         },
         "mode": "markers",
         "name": "Guns N' Roses",
         "scene": "scene",
         "showlegend": true,
         "type": "scatter3d",
         "x": [
          -5.208730697631836,
          -68.71487426757812,
          85.1119613647461,
          -12.330083847045898,
          57.99420928955078,
          126.59716796875,
          127.66044616699219,
          -83.10950469970703,
          -93.57254028320312,
          34.4886474609375,
          -60.41756057739258,
          107.23796844482422,
          -48.051605224609375,
          -83.27127838134766,
          -41.25859832763672,
          126.89824676513672,
          107.31666564941406,
          117.02702331542969,
          7.029308795928955,
          -42.158897399902344,
          119.05778503417969,
          109.54243469238281,
          121.59112548828125,
          5.17121696472168,
          129.15048217773438,
          59.605369567871094,
          -57.592044830322266,
          9.223272323608398,
          54.391639709472656,
          80.3663330078125,
          -13.076608657836914,
          87.08892059326172,
          46.5153694152832,
          117.28768157958984,
          104.27996826171875,
          22.306772232055664,
          -77.25657653808594,
          104.47674560546875,
          117.46326446533203,
          -98.82832336425781,
          13.355831146240234,
          51.8424072265625,
          64.64689636230469,
          6.502660751342773,
          -111.70101165771484,
          46.41712951660156,
          -0.2979085445404053,
          100.08003997802734,
          -35.14313888549805,
          -23.975404739379883,
          -11.378342628479004,
          -7.9369282722473145,
          -30.28609275817871,
          149.50100708007812,
          95.34624481201172,
          110.68357849121094,
          -96.67684936523438,
          38.65596008300781,
          8.09022045135498,
          0.47587716579437256,
          91.34949493408203,
          58.37748336791992,
          -18.34715461730957,
          0.1706535816192627,
          20.72220802307129,
          110.92559051513672,
          118.75614929199219,
          118.27418518066406,
          85.82881927490234,
          -9.351984977722168,
          46.26041793823242,
          107.3514404296875,
          113.97467803955078,
          112.77229309082031,
          98.62467193603516
         ],
         "y": [
          -86.45726776123047,
          -93.33222961425781,
          2.8265182971954346,
          -66.9457778930664,
          -14.365012168884277,
          -31.118896484375,
          26.546106338500977,
          -35.78892135620117,
          -62.833213806152344,
          94.55009460449219,
          -32.084964752197266,
          -56.67953872680664,
          -14.256930351257324,
          -67.05646514892578,
          65.74244689941406,
          84.06684112548828,
          -27.692066192626953,
          -24.293895721435547,
          20.831188201904297,
          -32.221351623535156,
          14.40657901763916,
          3.1397345066070557,
          35.059940338134766,
          46.965274810791016,
          -47.42112350463867,
          11.65751838684082,
          -50.77780532836914,
          10.971358299255371,
          42.85649871826172,
          20.085439682006836,
          -68.06024169921875,
          -46.52587127685547,
          1.1569862365722656,
          -17.206438064575195,
          -74.11228942871094,
          23.804880142211914,
          46.7408332824707,
          -42.44970703125,
          46.544456481933594,
          15.460427284240723,
          6.398290157318115,
          -111.6820297241211,
          -45.378700256347656,
          -57.107330322265625,
          -38.12945556640625,
          -13.7744779586792,
          -54.025634765625,
          21.633615493774414,
          70.492431640625,
          4.630661487579346,
          -55.89632797241211,
          8.313241004943848,
          -0.5636058449745178,
          61.16864776611328,
          8.410348892211914,
          4.600265979766846,
          -44.52157974243164,
          91.52924346923828,
          -113.54583740234375,
          -41.78388977050781,
          40.92281723022461,
          22.54029083251953,
          -2.566255807876587,
          -2.892603874206543,
          -55.383033752441406,
          -4.505959987640381,
          -20.056432723999023,
          -58.42012023925781,
          -16.1372127532959,
          17.207504272460938,
          24.755048751831055,
          22.53928565979004,
          12.326627731323242,
          11.243691444396973,
          -18.3931827545166
         ],
         "z": [
          17.07346534729004,
          37.38593673706055,
          66.31674194335938,
          20.860380172729492,
          -44.276100158691406,
          -61.20412826538086,
          -22.384668350219727,
          -14.548243522644043,
          -64.92888641357422,
          6.155523777008057,
          -36.56974792480469,
          -65.30914306640625,
          -18.978858947753906,
          -33.184852600097656,
          -63.86662673950195,
          -20.897653579711914,
          -40.722991943359375,
          -101.51121520996094,
          -2.0962977409362793,
          -14.490344047546387,
          -83.85381317138672,
          59.490440368652344,
          -73.57340240478516,
          -81.90644073486328,
          15.252511978149414,
          -70.54496002197266,
          -38.390647888183594,
          -41.018585205078125,
          -20.77614402770996,
          -89.32786560058594,
          1.43228280544281,
          135.47877502441406,
          -60.69984436035156,
          -65.59107971191406,
          -5.831684589385986,
          -61.08880615234375,
          -39.306739807128906,
          -47.14390563964844,
          21.311473846435547,
          -8.69132137298584,
          11.294021606445312,
          -36.819801330566406,
          16.14048957824707,
          84.351806640625,
          37.45304870605469,
          -20.57370948791504,
          18.877161026000977,
          -94.10905456542969,
          -264.44049072265625,
          -41.430023193359375,
          38.02788162231445,
          -56.42289733886719,
          -110.99117279052734,
          158.39251708984375,
          13.006454467773438,
          -103.68582916259766,
          4.038403511047363,
          -6.038153171539307,
          35.82691192626953,
          -3.6971728801727295,
          74.75450134277344,
          -46.03525161743164,
          -19.34661865234375,
          -32.29811096191406,
          -10.806112289428711,
          77.15189361572266,
          56.83646774291992,
          -38.209842681884766,
          65.39112854003906,
          -101.2384033203125,
          -60.19742965698242,
          37.18062210083008,
          1.1524606943130493,
          21.940357208251953,
          73.52397155761719
         ]
        }
       ],
       "layout": {
        "autosize": true,
        "legend": {
         "title": {
          "text": "Band"
         },
         "tracegroupgap": 0
        },
        "margin": {
         "t": 60
        },
        "scene": {
         "aspectmode": "auto",
         "aspectratio": {
          "x": 1.066974025857515,
          "y": 0.6967270859300267,
          "z": 1.345189467771724
         },
         "camera": {
          "center": {
           "x": 0,
           "y": 0,
           "z": 0
          },
          "eye": {
           "x": 0.32681205848910083,
           "y": 1.306429208516741,
           "z": 0.24465294576112853
          },
          "projection": {
           "type": "perspective"
          },
          "up": {
           "x": 0,
           "y": 0,
           "z": 1
          }
         },
         "domain": {
          "x": [
           0,
           1
          ],
          "y": [
           0,
           1
          ]
         },
         "xaxis": {
          "title": {
           "text": "0"
          },
          "type": "linear"
         },
         "yaxis": {
          "title": {
           "text": "1"
          },
          "type": "linear"
         },
         "zaxis": {
          "title": {
           "text": "2"
          },
          "type": "linear"
         }
        },
        "template": {
         "data": {
          "bar": [
           {
            "error_x": {
             "color": "#2a3f5f"
            },
            "error_y": {
             "color": "#2a3f5f"
            },
            "marker": {
             "line": {
              "color": "#E5ECF6",
              "width": 0.5
             }
            },
            "type": "bar"
           }
          ],
          "barpolar": [
           {
            "marker": {
             "line": {
              "color": "#E5ECF6",
              "width": 0.5
             }
            },
            "type": "barpolar"
           }
          ],
          "carpet": [
           {
            "aaxis": {
             "endlinecolor": "#2a3f5f",
             "gridcolor": "white",
             "linecolor": "white",
             "minorgridcolor": "white",
             "startlinecolor": "#2a3f5f"
            },
            "baxis": {
             "endlinecolor": "#2a3f5f",
             "gridcolor": "white",
             "linecolor": "white",
             "minorgridcolor": "white",
             "startlinecolor": "#2a3f5f"
            },
            "type": "carpet"
           }
          ],
          "choropleth": [
           {
            "colorbar": {
             "outlinewidth": 0,
             "ticks": ""
            },
            "type": "choropleth"
           }
          ],
          "contour": [
           {
            "colorbar": {
             "outlinewidth": 0,
             "ticks": ""
            },
            "colorscale": [
             [
              0,
              "#0d0887"
             ],
             [
              0.1111111111111111,
              "#46039f"
             ],
             [
              0.2222222222222222,
              "#7201a8"
             ],
             [
              0.3333333333333333,
              "#9c179e"
             ],
             [
              0.4444444444444444,
              "#bd3786"
             ],
             [
              0.5555555555555556,
              "#d8576b"
             ],
             [
              0.6666666666666666,
              "#ed7953"
             ],
             [
              0.7777777777777778,
              "#fb9f3a"
             ],
             [
              0.8888888888888888,
              "#fdca26"
             ],
             [
              1,
              "#f0f921"
             ]
            ],
            "type": "contour"
           }
          ],
          "contourcarpet": [
           {
            "colorbar": {
             "outlinewidth": 0,
             "ticks": ""
            },
            "type": "contourcarpet"
           }
          ],
          "heatmap": [
           {
            "colorbar": {
             "outlinewidth": 0,
             "ticks": ""
            },
            "colorscale": [
             [
              0,
              "#0d0887"
             ],
             [
              0.1111111111111111,
              "#46039f"
             ],
             [
              0.2222222222222222,
              "#7201a8"
             ],
             [
              0.3333333333333333,
              "#9c179e"
             ],
             [
              0.4444444444444444,
              "#bd3786"
             ],
             [
              0.5555555555555556,
              "#d8576b"
             ],
             [
              0.6666666666666666,
              "#ed7953"
             ],
             [
              0.7777777777777778,
              "#fb9f3a"
             ],
             [
              0.8888888888888888,
              "#fdca26"
             ],
             [
              1,
              "#f0f921"
             ]
            ],
            "type": "heatmap"
           }
          ],
          "heatmapgl": [
           {
            "colorbar": {
             "outlinewidth": 0,
             "ticks": ""
            },
            "colorscale": [
             [
              0,
              "#0d0887"
             ],
             [
              0.1111111111111111,
              "#46039f"
             ],
             [
              0.2222222222222222,
              "#7201a8"
             ],
             [
              0.3333333333333333,
              "#9c179e"
             ],
             [
              0.4444444444444444,
              "#bd3786"
             ],
             [
              0.5555555555555556,
              "#d8576b"
             ],
             [
              0.6666666666666666,
              "#ed7953"
             ],
             [
              0.7777777777777778,
              "#fb9f3a"
             ],
             [
              0.8888888888888888,
              "#fdca26"
             ],
             [
              1,
              "#f0f921"
             ]
            ],
            "type": "heatmapgl"
           }
          ],
          "histogram": [
           {
            "marker": {
             "colorbar": {
              "outlinewidth": 0,
              "ticks": ""
             }
            },
            "type": "histogram"
           }
          ],
          "histogram2d": [
           {
            "colorbar": {
             "outlinewidth": 0,
             "ticks": ""
            },
            "colorscale": [
             [
              0,
              "#0d0887"
             ],
             [
              0.1111111111111111,
              "#46039f"
             ],
             [
              0.2222222222222222,
              "#7201a8"
             ],
             [
              0.3333333333333333,
              "#9c179e"
             ],
             [
              0.4444444444444444,
              "#bd3786"
             ],
             [
              0.5555555555555556,
              "#d8576b"
             ],
             [
              0.6666666666666666,
              "#ed7953"
             ],
             [
              0.7777777777777778,
              "#fb9f3a"
             ],
             [
              0.8888888888888888,
              "#fdca26"
             ],
             [
              1,
              "#f0f921"
             ]
            ],
            "type": "histogram2d"
           }
          ],
          "histogram2dcontour": [
           {
            "colorbar": {
             "outlinewidth": 0,
             "ticks": ""
            },
            "colorscale": [
             [
              0,
              "#0d0887"
             ],
             [
              0.1111111111111111,
              "#46039f"
             ],
             [
              0.2222222222222222,
              "#7201a8"
             ],
             [
              0.3333333333333333,
              "#9c179e"
             ],
             [
              0.4444444444444444,
              "#bd3786"
             ],
             [
              0.5555555555555556,
              "#d8576b"
             ],
             [
              0.6666666666666666,
              "#ed7953"
             ],
             [
              0.7777777777777778,
              "#fb9f3a"
             ],
             [
              0.8888888888888888,
              "#fdca26"
             ],
             [
              1,
              "#f0f921"
             ]
            ],
            "type": "histogram2dcontour"
           }
          ],
          "mesh3d": [
           {
            "colorbar": {
             "outlinewidth": 0,
             "ticks": ""
            },
            "type": "mesh3d"
           }
          ],
          "parcoords": [
           {
            "line": {
             "colorbar": {
              "outlinewidth": 0,
              "ticks": ""
             }
            },
            "type": "parcoords"
           }
          ],
          "pie": [
           {
            "automargin": true,
            "type": "pie"
           }
          ],
          "scatter": [
           {
            "marker": {
             "colorbar": {
              "outlinewidth": 0,
              "ticks": ""
             }
            },
            "type": "scatter"
           }
          ],
          "scatter3d": [
           {
            "line": {
             "colorbar": {
              "outlinewidth": 0,
              "ticks": ""
             }
            },
            "marker": {
             "colorbar": {
              "outlinewidth": 0,
              "ticks": ""
             }
            },
            "type": "scatter3d"
           }
          ],
          "scattercarpet": [
           {
            "marker": {
             "colorbar": {
              "outlinewidth": 0,
              "ticks": ""
             }
            },
            "type": "scattercarpet"
           }
          ],
          "scattergeo": [
           {
            "marker": {
             "colorbar": {
              "outlinewidth": 0,
              "ticks": ""
             }
            },
            "type": "scattergeo"
           }
          ],
          "scattergl": [
           {
            "marker": {
             "colorbar": {
              "outlinewidth": 0,
              "ticks": ""
             }
            },
            "type": "scattergl"
           }
          ],
          "scattermapbox": [
           {
            "marker": {
             "colorbar": {
              "outlinewidth": 0,
              "ticks": ""
             }
            },
            "type": "scattermapbox"
           }
          ],
          "scatterpolar": [
           {
            "marker": {
             "colorbar": {
              "outlinewidth": 0,
              "ticks": ""
             }
            },
            "type": "scatterpolar"
           }
          ],
          "scatterpolargl": [
           {
            "marker": {
             "colorbar": {
              "outlinewidth": 0,
              "ticks": ""
             }
            },
            "type": "scatterpolargl"
           }
          ],
          "scatterternary": [
           {
            "marker": {
             "colorbar": {
              "outlinewidth": 0,
              "ticks": ""
             }
            },
            "type": "scatterternary"
           }
          ],
          "surface": [
           {
            "colorbar": {
             "outlinewidth": 0,
             "ticks": ""
            },
            "colorscale": [
             [
              0,
              "#0d0887"
             ],
             [
              0.1111111111111111,
              "#46039f"
             ],
             [
              0.2222222222222222,
              "#7201a8"
             ],
             [
              0.3333333333333333,
              "#9c179e"
             ],
             [
              0.4444444444444444,
              "#bd3786"
             ],
             [
              0.5555555555555556,
              "#d8576b"
             ],
             [
              0.6666666666666666,
              "#ed7953"
             ],
             [
              0.7777777777777778,
              "#fb9f3a"
             ],
             [
              0.8888888888888888,
              "#fdca26"
             ],
             [
              1,
              "#f0f921"
             ]
            ],
            "type": "surface"
           }
          ],
          "table": [
           {
            "cells": {
             "fill": {
              "color": "#EBF0F8"
             },
             "line": {
              "color": "white"
             }
            },
            "header": {
             "fill": {
              "color": "#C8D4E3"
             },
             "line": {
              "color": "white"
             }
            },
            "type": "table"
           }
          ]
         },
         "layout": {
          "annotationdefaults": {
           "arrowcolor": "#2a3f5f",
           "arrowhead": 0,
           "arrowwidth": 1
          },
          "autotypenumbers": "strict",
          "coloraxis": {
           "colorbar": {
            "outlinewidth": 0,
            "ticks": ""
           }
          },
          "colorscale": {
           "diverging": [
            [
             0,
             "#8e0152"
            ],
            [
             0.1,
             "#c51b7d"
            ],
            [
             0.2,
             "#de77ae"
            ],
            [
             0.3,
             "#f1b6da"
            ],
            [
             0.4,
             "#fde0ef"
            ],
            [
             0.5,
             "#f7f7f7"
            ],
            [
             0.6,
             "#e6f5d0"
            ],
            [
             0.7,
             "#b8e186"
            ],
            [
             0.8,
             "#7fbc41"
            ],
            [
             0.9,
             "#4d9221"
            ],
            [
             1,
             "#276419"
            ]
           ],
           "sequential": [
            [
             0,
             "#0d0887"
            ],
            [
             0.1111111111111111,
             "#46039f"
            ],
            [
             0.2222222222222222,
             "#7201a8"
            ],
            [
             0.3333333333333333,
             "#9c179e"
            ],
            [
             0.4444444444444444,
             "#bd3786"
            ],
            [
             0.5555555555555556,
             "#d8576b"
            ],
            [
             0.6666666666666666,
             "#ed7953"
            ],
            [
             0.7777777777777778,
             "#fb9f3a"
            ],
            [
             0.8888888888888888,
             "#fdca26"
            ],
            [
             1,
             "#f0f921"
            ]
           ],
           "sequentialminus": [
            [
             0,
             "#0d0887"
            ],
            [
             0.1111111111111111,
             "#46039f"
            ],
            [
             0.2222222222222222,
             "#7201a8"
            ],
            [
             0.3333333333333333,
             "#9c179e"
            ],
            [
             0.4444444444444444,
             "#bd3786"
            ],
            [
             0.5555555555555556,
             "#d8576b"
            ],
            [
             0.6666666666666666,
             "#ed7953"
            ],
            [
             0.7777777777777778,
             "#fb9f3a"
            ],
            [
             0.8888888888888888,
             "#fdca26"
            ],
            [
             1,
             "#f0f921"
            ]
           ]
          },
          "colorway": [
           "#636efa",
           "#EF553B",
           "#00cc96",
           "#ab63fa",
           "#FFA15A",
           "#19d3f3",
           "#FF6692",
           "#B6E880",
           "#FF97FF",
           "#FECB52"
          ],
          "font": {
           "color": "#2a3f5f"
          },
          "geo": {
           "bgcolor": "white",
           "lakecolor": "white",
           "landcolor": "#E5ECF6",
           "showlakes": true,
           "showland": true,
           "subunitcolor": "white"
          },
          "hoverlabel": {
           "align": "left"
          },
          "hovermode": "closest",
          "mapbox": {
           "style": "light"
          },
          "paper_bgcolor": "white",
          "plot_bgcolor": "#E5ECF6",
          "polar": {
           "angularaxis": {
            "gridcolor": "white",
            "linecolor": "white",
            "ticks": ""
           },
           "bgcolor": "#E5ECF6",
           "radialaxis": {
            "gridcolor": "white",
            "linecolor": "white",
            "ticks": ""
           }
          },
          "scene": {
           "xaxis": {
            "backgroundcolor": "#E5ECF6",
            "gridcolor": "white",
            "gridwidth": 2,
            "linecolor": "white",
            "showbackground": true,
            "ticks": "",
            "zerolinecolor": "white"
           },
           "yaxis": {
            "backgroundcolor": "#E5ECF6",
            "gridcolor": "white",
            "gridwidth": 2,
            "linecolor": "white",
            "showbackground": true,
            "ticks": "",
            "zerolinecolor": "white"
           },
           "zaxis": {
            "backgroundcolor": "#E5ECF6",
            "gridcolor": "white",
            "gridwidth": 2,
            "linecolor": "white",
            "showbackground": true,
            "ticks": "",
            "zerolinecolor": "white"
           }
          },
          "shapedefaults": {
           "line": {
            "color": "#2a3f5f"
           }
          },
          "ternary": {
           "aaxis": {
            "gridcolor": "white",
            "linecolor": "white",
            "ticks": ""
           },
           "baxis": {
            "gridcolor": "white",
            "linecolor": "white",
            "ticks": ""
           },
           "bgcolor": "#E5ECF6",
           "caxis": {
            "gridcolor": "white",
            "linecolor": "white",
            "ticks": ""
           }
          },
          "title": {
           "x": 0.05
          },
          "xaxis": {
           "automargin": true,
           "gridcolor": "white",
           "linecolor": "white",
           "ticks": "",
           "title": {
            "standoff": 15
           },
           "zerolinecolor": "white",
           "zerolinewidth": 2
          },
          "yaxis": {
           "automargin": true,
           "gridcolor": "white",
           "linecolor": "white",
           "ticks": "",
           "title": {
            "standoff": 15
           },
           "zerolinecolor": "white",
           "zerolinewidth": 2
          }
         }
        }
       }
      },
      "image/png": "[encoded data removed]",
      "text/html": [
       "<div>                            <div id=\"ecf33e7b-38e1-499a-9c13-204ce3144898\" class=\"plotly-graph-div\" style=\"height:525px; width:100%;\"></div>            <script type=\"text/javascript\">                require([\"plotly\"], function(Plotly) {                    window.PLOTLYENV=window.PLOTLYENV || {};                                    if (document.getElementById(\"ecf33e7b-38e1-499a-9c13-204ce3144898\")) {                    Plotly.newPlot(                        \"ecf33e7b-38e1-499a-9c13-204ce3144898\",                        [{\"hovertemplate\": \"Band=ACDC<br>0=%{x}<br>1=%{y}<br>2=%{z}<extra></extra>\", \"legendgroup\": \"ACDC\", \"marker\": {\"color\": \"#636efa\", \"size\": 3, \"symbol\": \"circle\"}, \"mode\": \"markers\", \"name\": \"ACDC\", \"scene\": \"scene\", \"showlegend\": true, \"type\": \"scatter3d\", \"x\": [48.7375602722168, -67.6688232421875, 28.995901107788086, -5.6112799644470215, 95.14970397949219, 34.02350616455078, 123.46289825439453, -34.423152923583984, 37.53251647949219, 19.335773468017578, 40.86726760864258, -26.06719970703125, -18.216442108154297, -50.307830810546875, -0.19680069386959076, 43.85425567626953, -21.54433822631836, 13.738378524780273, -7.957188606262207, 17.606796264648438, 82.44538116455078, -12.280790328979492, 69.08248138427734, -26.670488357543945, 101.63154602050781, -61.67327117919922, 52.49546813964844, -29.455669403076172, 55.88701248168945, 6.828678131103516, -24.380212783813477, -78.44549560546875, -102.42206573486328, 104.76210021972656, -72.04568481445312, -42.12309265136719, 55.73738098144531, 36.63532257080078, 6.930728912353516, -6.475739479064941, 53.31953811645508, 30.757841110229492, 67.38655090332031, -44.24116897583008, -43.78300094604492, 138.11422729492188, -112.32880401611328, -14.892292022705078, -71.7104721069336, -6.655979156494141, -90.97599029541016, 32.62744903564453, -81.44926452636719, -9.610525131225586, 20.54247283935547, -65.8187484741211, -110.29082489013672, -31.882854461669922, -80.7720947265625, 58.26802062988281, 47.239253997802734, 39.978309631347656, -11.639872550964355, 41.46395492553711, -66.14248657226562, -37.09236145019531, -28.38673210144043, 40.14204788208008, -69.76663208007812, -34.956687927246094, 19.441497802734375, -51.94856262207031, 52.69318389892578, -11.19316291809082, 5.486678123474121, 39.604278564453125, -37.55973434448242, -13.845101356506348, 31.113630294799805, -95.20787048339844, 27.018564224243164, -30.466581344604492, 19.19228172302246, -15.359816551208496, 30.802143096923828, -70.17924499511719, 23.468769073486328, -18.301605224609375, -4.84648323059082, -19.317455291748047, 36.657169342041016, -43.57640838623047, 15.647017478942871, -25.85301971435547, -105.23222351074219, -52.810604095458984, -19.260421752929688, -46.61240768432617, -14.591497421264648, 35.466148376464844, 9.388322830200195, -45.314247131347656, -55.60502624511719, -42.44025421142578, -32.52547073364258, -17.2918701171875, -52.30805206298828, 60.52269744873047, 54.13267135620117, -27.48625373840332, -51.609413146972656, 35.20375061035156, -47.45587158203125, 60.732994079589844, -50.0797004699707, 49.8316764831543, 27.839763641357422, -9.61303997039795, 39.58637237548828, 31.761022567749023, -75.47046661376953, -99.27923583984375, -84.44070434570312, 54.361026763916016, -71.71866607666016, 43.73000717163086, 6.706775665283203, 38.54282760620117, 77.98323059082031, 11.66812515258789, 20.564590454101562, -24.528507232666016, -2.7420361042022705, 16.495933532714844, 81.3651351928711, -5.365816593170166, -5.736151218414307, 26.53371810913086, 7.097562313079834, -66.64326477050781, -21.007972717285156, -6.318714141845703, -26.258033752441406, -101.60520935058594, 49.87529754638672, -57.62991714477539, -23.877918243408203, -42.02699279785156, -34.69824981689453, -57.86738586425781, -38.949851989746094, 5.417154788970947, -42.45210647583008, -20.255050659179688, 25.039901733398438, 32.129981994628906, -60.944217681884766, 60.79021072387695], \"y\": [19.774494171142578, 89.52120971679688, -63.90502166748047, 59.161258697509766, 114.0966567993164, -61.18342208862305, 33.54346466064453, -9.807513236999512, 1.2537572383880615, 55.96760177612305, -28.103309631347656, 30.684669494628906, -33.37556838989258, 68.2082748413086, 73.22549438476562, -42.6124153137207, 44.199607849121094, -42.233787536621094, -40.35609817504883, 99.05204010009766, 120.64159393310547, -12.284770965576172, -61.06268310546875, -3.1167502403259277, 93.79412078857422, 29.382394790649414, -39.33787155151367, 40.24343490600586, 2.000345468521118, 67.35136413574219, -35.97743225097656, -1.45180344581604, -39.472755432128906, -20.956953048706055, -30.062885284423828, 46.67561721801758, 35.21500015258789, 22.391639709472656, 8.640729904174805, -75.7799072265625, 26.316791534423828, 49.69495391845703, -2.837273359298706, -15.356277465820312, -32.826568603515625, 16.630630493164062, 28.0440731048584, -95.2003402709961, 3.3090388774871826, -63.03578567504883, 25.108909606933594, -14.242185592651367, 10.23099136352539, -27.912498474121094, 21.913894653320312, 20.74128532409668, -27.034360885620117, -37.600746154785156, 29.281187057495117, -26.602294921875, 36.81532287597656, -9.942046165466309, -88.32229614257812, -31.558544158935547, 13.763921737670898, -60.51975631713867, -11.012198448181152, -23.222606658935547, -48.222251892089844, 88.95333862304688, -8.692688941955566, 32.668922424316406, -20.43195915222168, -42.1311149597168, 48.41646957397461, -10.591577529907227, 3.4277265071868896, -63.25091552734375, 57.59264373779297, 33.85309600830078, -40.499908447265625, 23.71417808532715, 43.68074035644531, -64.2657470703125, 2.6492836475372314, -26.519014358520508, -45.55293655395508, 49.3574333190918, 65.85826873779297, -27.09005355834961, 55.2802619934082, 4.4501729011535645, -24.90068244934082, 17.711721420288086, -32.54549789428711, -25.1436824798584, 80.15484619140625, 33.945228576660156, 16.22208023071289, 20.71979522705078, 40.72694778442383, -25.24135971069336, -18.869522094726562, -8.82145881652832, 2.47512149810791, 3.8560824394226074, 26.527135848999023, -20.739429473876953, 30.281347274780273, 22.12655258178711, 86.21438598632812, -56.567020416259766, -9.528329849243164, -18.003223419189453, -57.63561248779297, -1.9655877351760864, 22.52472686767578, 38.18950653076172, 26.897754669189453, 45.910675048828125, 42.54669189453125, 3.7297325134277344, -42.30636215209961, -55.164695739746094, 8.659290313720703, 18.331735610961914, 28.49810791015625, -36.3413200378418, 121.49769592285156, 34.28080749511719, -36.1602668762207, -12.901193618774414, -26.63945770263672, 7.5128583908081055, -13.596952438354492, -15.182059288024902, 20.435117721557617, -20.571611404418945, 26.502384185791016, 24.974502563476562, 32.16511917114258, -15.592680931091309, -14.60080623626709, 21.694416046142578, -21.53278160095215, 11.39525032043457, -57.74827194213867, 73.40645599365234, 68.5574722290039, -12.059335708618164, 82.34270477294922, -10.017690658569336, 17.44811248779297, -36.622344970703125, -14.28589916229248, -1.7434152364730835, 63.674713134765625, 96.01227569580078], \"z\": [82.14088439941406, 65.34854125976562, 37.55061340332031, 83.62333679199219, 40.84219741821289, 74.01818084716797, 71.33132934570312, 44.70048141479492, 9.315281867980957, 69.46117401123047, 17.517885208129883, 98.49588012695312, 39.21080780029297, 81.21834564208984, 18.45977783203125, 35.509578704833984, -4.111443042755127, 47.57444381713867, 94.02857208251953, 38.377220153808594, 50.06184387207031, 110.267333984375, 89.90586853027344, 61.1061897277832, 32.90180587768555, -94.11966705322266, 88.51026153564453, -153.7700958251953, 13.83807373046875, -22.919923782348633, 1.5875779390335083, -13.545791625976562, 70.46703338623047, -12.297428131103516, 40.3299674987793, 56.93888854980469, 108.30946350097656, 0.1607920527458191, 29.84050750732422, 52.51031494140625, 11.212262153625488, -1.8650726079940796, -3.401705265045166, 4.835501194000244, 5.012978553771973, 49.360572814941406, -42.342124938964844, 63.960453033447266, 46.00570297241211, 119.91114807128906, 63.00693893432617, 1.1928271055221558, -21.971521377563477, 18.89903450012207, 93.30615234375, 75.57167053222656, 56.434844970703125, 110.09427642822266, 98.17192077636719, 110.91967010498047, 35.663719177246094, 26.193628311157227, 42.55568313598633, 56.5198860168457, -41.340431213378906, 4.634955883026123, -3.8465535640716553, 39.602386474609375, 33.793128967285156, 109.0428237915039, 91.92440795898438, 66.75149536132812, 5.057503700256348, 58.57728576660156, 101.29904174804688, 95.03575134277344, 89.74601745605469, 66.37898254394531, 90.66488647460938, -22.410600662231445, 109.99655151367188, 3.4870243072509766, 23.27752685546875, 87.7822265625, 85.45618438720703, 75.41007232666016, 31.779918670654297, 82.958984375, 48.67755126953125, -20.64171028137207, 108.04948425292969, 43.21348190307617, -5.859074592590332, 43.453731536865234, -35.19477081298828, 30.20295524597168, 98.04164123535156, 35.507266998291016, 76.98902893066406, 58.9252815246582, 81.3450927734375, 82.24445343017578, 100.35350799560547, -43.73967361450195, 18.085603713989258, 13.465310096740723, 95.38194274902344, 38.741302490234375, 58.453887939453125, 20.396814346313477, 51.97749710083008, 52.10280990600586, 29.483116149902344, 18.86227798461914, 66.40731811523438, 56.47298812866211, 37.79105758666992, 91.32982635498047, 100.9736099243164, 79.94810485839844, 31.781396865844727, 33.37407684326172, 52.47719192504883, 60.77886199951172, 192.33682250976562, 38.084327697753906, 108.39934539794922, -4.264275074005127, 36.11678695678711, 41.260860443115234, 15.839073181152344, 85.49591827392578, 61.01517105102539, 102.47058868408203, -11.10966682434082, -4.374213218688965, 123.17996215820312, 19.43329620361328, 70.57194519042969, 41.32511520385742, 54.93037796020508, 72.31524658203125, 15.566044807434082, 27.644926071166992, 83.85995483398438, 59.319496154785156, 51.28773498535156, 50.80646514892578, 94.06196594238281, 63.40007400512695, 75.21229553222656, 107.85038757324219, 67.65145111083984, 82.1419448852539, 57.148075103759766, 53.25623321533203, 66.72377014160156, 31.751371383666992]}, {\"hovertemplate\": \"Band=Van Halen<br>0=%{x}<br>1=%{y}<br>2=%{z}<extra></extra>\", \"legendgroup\": \"Van Halen\", \"marker\": {\"color\": \"#EF553B\", \"size\": 3, \"symbol\": \"circle\"}, \"mode\": \"markers\", \"name\": \"Van Halen\", \"scene\": \"scene\", \"showlegend\": true, \"type\": \"scatter3d\", \"x\": [-59.72757339477539, 10.976524353027344, -103.69093322753906, 45.24101257324219, 84.92146301269531, -29.81947135925293, 3.482825756072998, -37.54771423339844, -34.72032928466797, -12.315794944763184, 61.323097229003906, 77.87980651855469, 128.93978881835938, -44.42205810546875, 77.01520538330078, 77.33194732666016, -45.25202178955078, 43.8535041809082, 62.94881820678711, -120.2875747680664, 1.3117724657058716, 7.140244960784912, -70.36687469482422, 87.0240707397461, -39.40949630737305, 38.796390533447266, -15.28423023223877, 49.34309768676758, 94.65522003173828], \"y\": [59.6828498840332, -82.96146392822266, 47.869693756103516, -51.16086196899414, 9.691100120544434, -52.2471923828125, -69.53196716308594, -51.69947814941406, -43.631492614746094, -38.29872512817383, -25.821523666381836, -1.8655970096588135, 39.3172492980957, 24.754684448242188, -50.52272415161133, -34.29899978637695, -60.07475280761719, -84.4416732788086, -116.10751342773438, -62.226165771484375, -67.88892364501953, -13.85903263092041, -69.22562408447266, -9.006331443786621, 13.033403396606445, -4.869658946990967, -22.19158172607422, -37.45479965209961, -14.866130828857422], \"z\": [-52.60355758666992, -28.437301635742188, 7.013243675231934, -90.58629608154297, -116.0667495727539, -93.18506622314453, -23.592626571655273, -20.06281852722168, 22.693811416625977, -61.46370315551758, -101.06229400634766, -123.00611114501953, -47.12969207763672, -39.975467681884766, -98.50005340576172, -93.5096664428711, 31.17901039123535, -18.342897415161133, 10.401529312133789, -22.788528442382812, -54.00273895263672, 40.245513916015625, 57.91101837158203, -106.76239013671875, -26.232481002807617, 136.9476318359375, -35.90843963623047, -99.6976547241211, -89.02892303466797]}, {\"hovertemplate\": \"Band=Metallica<br>0=%{x}<br>1=%{y}<br>2=%{z}<extra></extra>\", \"legendgroup\": \"Metallica\", \"marker\": {\"color\": \"#00cc96\", \"size\": 3, \"symbol\": \"circle\"}, \"mode\": \"markers\", \"name\": \"Metallica\", \"scene\": \"scene\", \"showlegend\": true, \"type\": \"scatter3d\", \"x\": [-132.32115173339844, 62.20256042480469, -128.3209228515625, -114.37474060058594, -60.283729553222656, -56.22868728637695, -84.44110870361328, 76.64991760253906, -46.46166229248047, -0.5082018375396729, -138.69485473632812, -85.23030853271484, 86.45851135253906, 4.222668170928955, 91.35496520996094, -105.8558349609375, 77.75701141357422, 39.2918586730957, 14.843242645263672, -15.698980331420898, 50.641117095947266, 40.713584899902344, -148.4667205810547, -115.22459411621094, -94.02088165283203, -145.94284057617188, -71.16597747802734, -119.98536682128906, -150.33786010742188, 74.96708679199219, -90.38774108886719, -129.99588012695312, -127.37013244628906, 36.010711669921875, 89.05760192871094, -133.6492462158203, -19.136474609375, -59.402652740478516, -97.88179016113281, 85.74547576904297, -42.69429016113281, -33.2281379699707, 100.04582977294922, -112.94572448730469, -62.82806396484375, -99.23816680908203, 69.91923522949219, -36.63325119018555, -65.37163543701172, -51.940032958984375, -79.08799743652344, -198.1727752685547, 24.470792770385742, -67.11309051513672, 105.58311462402344, -80.40343475341797, 88.26585388183594, 67.58873748779297, -159.44981384277344, -119.28176879882812, -131.61849975585938, 204.9752197265625, -39.277259826660156, -157.38363647460938, -95.88280487060547, -126.60511016845703, -114.0034408569336, 17.5257511138916, 69.01847839355469, -128.69444274902344, -55.74736785888672, 12.545548439025879, -140.6194610595703, -143.39454650878906, -108.6000747680664, 77.20310974121094, -60.06132507324219, -57.43806457519531, -20.694900512695312, 33.89039611816406, -130.5432586669922, -134.99539184570312, -42.15378952026367, -51.45913314819336, -94.8594970703125, -35.435035705566406, -61.69083786010742, -130.6288604736328, -73.308349609375, -123.03826904296875, -67.63629913330078, -73.03004455566406, 55.501197814941406, 65.60979461669922, -156.329833984375, -58.88349533081055, -143.99594116210938, -85.1340103149414, 86.11418151855469, 26.83242416381836, -5.511903285980225, -37.42324447631836, -146.349853515625, 76.0187759399414, -86.62352752685547, -60.32938766479492, -134.79396057128906, -151.81097412109375, -128.9273681640625, -82.96453857421875, 76.81363677978516, -16.486854553222656, -52.290611267089844, -72.19047546386719, 77.3475112915039, -74.90179443359375, 43.300907135009766, 78.94313049316406, -142.9586639404297, -65.62333679199219, 1.809308409690857], \"y\": [-43.43947982788086, -101.1681900024414, 8.717331886291504, -18.2808837890625, -68.43601989746094, 19.85503578186035, 103.09765625, 11.840356826782227, -37.67680740356445, -110.44178771972656, 73.30035400390625, 29.651079177856445, 75.28363800048828, 37.0772705078125, -88.77136993408203, -7.4755167961120605, -83.17668914794922, -108.0829086303711, -116.3725814819336, 103.593994140625, -76.49266052246094, -97.17778778076172, 60.969268798828125, -8.100993156433105, -31.10601234436035, 8.135173797607422, 51.646942138671875, -58.04346466064453, -16.987545013427734, 64.40736389160156, -0.7069283723831177, -31.15044593811035, 85.0199203491211, 63.96112823486328, -97.50636291503906, -54.895877838134766, -87.21604919433594, 30.200693130493164, -23.79294776916504, -71.73844146728516, 65.20883178710938, -111.41173553466797, -69.51590728759766, -34.09575653076172, -45.45410919189453, -22.629812240600586, -96.85901641845703, -33.30294418334961, -4.4183855056762695, -81.89425659179688, 20.142120361328125, -105.19938659667969, -101.78925323486328, 54.905059814453125, -78.77033996582031, 69.64665222167969, -87.02532196044922, 57.75088882446289, -11.078843116760254, 16.703432083129883, -10.55114459991455, 43.62074661254883, -101.1854019165039, 49.90980911254883, -28.678667068481445, -0.44859641790390015, 3.538642168045044, -80.22537994384766, -95.57797241210938, 13.326800346374512, -89.91974639892578, -113.7744369506836, 14.374232292175293, -12.157578468322754, -2.3529062271118164, 43.642852783203125, 7.039993762969971, 82.06200408935547, -102.02304077148438, -99.18351745605469, 31.195886611938477, 11.682757377624512, -82.1257553100586, 59.247493743896484, -22.41090202331543, -95.32707977294922, 37.90286636352539, -17.2719669342041, -18.39181900024414, -0.617418110370636, -59.57571792602539, -28.91866111755371, 69.48345947265625, 45.77956771850586, 30.103958129882812, 72.80577087402344, 18.596574783325195, -3.3982203006744385, -104.41959381103516, -99.3746337890625, -93.69244384765625, 96.53185272216797, -7.029594898223877, 61.14112854003906, -17.319398880004883, 90.07154083251953, -10.796618461608887, -32.7542839050293, 7.708249092102051, -43.325599670410156, 12.209033966064453, 84.460205078125, 45.938106536865234, -88.06744384765625, -89.35697174072266, 51.16057205200195, -109.8620376586914, -57.42535400390625, -46.57733917236328, -96.33045196533203, -62.750431060791016], \"z\": [-25.92986488342285, 46.30936050415039, -50.74795150756836, 12.20948314666748, -43.14388656616211, 19.100528717041016, -16.650556564331055, 43.015281677246094, 48.46598434448242, -21.341054916381836, -34.03660583496094, -78.76863861083984, 17.42844581604004, -41.52427673339844, 57.59453582763672, -41.26340103149414, 39.91377639770508, 26.12777328491211, -28.948476791381836, -31.01753044128418, 28.047588348388672, 65.34442138671875, -26.903398513793945, 55.98648452758789, -79.81415557861328, -42.78679275512695, 0.8780195713043213, 9.293275833129883, -41.882484436035156, 46.61750030517578, 11.670650482177734, 61.73421859741211, -21.722671508789062, 54.66040802001953, 36.41200256347656, -43.87699508666992, -32.2809944152832, -7.561497688293457, -0.29956260323524475, 30.742162704467773, 1.2690975666046143, -16.272459030151367, 52.904197692871094, -5.269240379333496, -5.99275541305542, 71.17930603027344, -10.335064888000488, -45.11157989501953, 14.514477729797363, 2.1943042278289795, 8.823081970214844, 84.42922973632812, 3.0176258087158203, -20.399375915527344, 33.74003601074219, -34.38665008544922, 18.543407440185547, 24.358238220214844, -64.01203918457031, -10.639921188354492, -38.613426208496094, 6.1752471923828125, 26.890501022338867, -7.794543266296387, 26.467374801635742, -22.960838317871094, -64.14608764648438, 60.69827651977539, 59.2716178894043, -32.84613037109375, -49.80601119995117, -3.6743834018707275, -68.56061553955078, -20.672893524169922, 6.356562614440918, 12.70382022857666, -9.81161117553711, -66.73030853271484, -26.37225914001465, 50.222713470458984, -36.92876434326172, 7.825264930725098, 55.24989700317383, 19.14015007019043, 105.04436492919922, 12.651318550109863, -27.1519718170166, 24.16024398803711, -9.300946235656738, -95.38434600830078, 6.476022243499756, 13.936372756958008, 21.01119041442871, -8.897797584533691, -46.79219055175781, -17.464954376220703, -21.838890075683594, -89.13221740722656, -6.956555366516113, -11.579415321350098, -11.511089324951172, -54.61241912841797, 55.449710845947266, 9.070366859436035, 46.54541015625, -38.439781188964844, -65.78154754638672, -23.720535278320312, 25.983200073242188, -36.87147903442383, -62.920127868652344, 19.972644805908203, -8.443425178527832, -18.171125411987305, 1.9998785257339478, -79.26628112792969, -9.156634330749512, 39.395057678222656, 35.21214294433594, 1.3212194442749023, -89.2247543334961]}, {\"hovertemplate\": \"Band=Iron Maiden<br>0=%{x}<br>1=%{y}<br>2=%{z}<extra></extra>\", \"legendgroup\": \"Iron Maiden\", \"marker\": {\"color\": \"#ab63fa\", \"size\": 3, \"symbol\": \"circle\"}, \"mode\": \"markers\", \"name\": \"Iron Maiden\", \"scene\": \"scene\", \"showlegend\": true, \"type\": \"scatter3d\", \"x\": [-128.49781799316406, 49.08645248413086, 18.930747985839844, 32.88368225097656, 113.06585693359375, -15.117124557495117, 70.1256332397461, 83.15328979492188, 4.129759788513184, -10.312989234924316, -26.976781845092773, 19.592973709106445, 62.79999923706055, 31.372310638427734, -106.8407974243164, 12.236970901489258, -17.766008377075195, 96.010986328125, 134.19358825683594, 35.4215202331543, 47.367496490478516, 33.939170837402344, 92.42098236083984, -34.37967300415039, 141.4649200439453, -91.48372650146484, -25.119338989257812, 58.88811492919922, -58.83513641357422, -74.4582748413086, 72.26934814453125, -96.21980285644531, 93.10579681396484, 34.615821838378906, -29.635520935058594, 74.1677474975586, 186.3710174560547, 85.2454833984375, -124.62663269042969, -18.529600143432617, -156.11276245117188, -32.06332778930664, 77.79656982421875, 76.97199249267578, 100.44349670410156, 74.92636108398438, -39.220314025878906, -0.0179570484906435, 29.423391342163086, -30.325653076171875, 33.08332443237305, 85.45845031738281, 53.7753791809082, -59.12755584716797, -15.96288776397705, 75.6075210571289, 23.03517723083496, 46.393836975097656, -81.40241241455078, 42.41672897338867, 97.05586242675781, 48.05845642089844, 24.390398025512695, -73.68116760253906, 130.86155700683594, 11.272412300109863, 85.37366485595703, 78.62725067138672, 53.40034866333008, 13.083817481994629, 100.26024627685547, 74.02725219726562, -80.74674224853516, 29.26605224609375, 79.95441436767578, 55.54497528076172, -137.9607696533203, -76.54095458984375, -42.86814498901367, 60.07090377807617, -75.68821716308594, 96.20002746582031, -8.605937957763672, -54.13270950317383, 70.76335144042969, 4.056577205657959, 81.63746643066406, -93.59488677978516, 97.69632720947266, -122.83439636230469, 44.0914421081543, 8.40734577178955, 52.870033264160156, 10.357638359069824, 100.93563079833984, -20.809951782226562, 45.699981689453125, -71.36103820800781, 22.823955535888672, 28.959426879882812, -13.067476272583008, 27.64301300048828, -96.36872863769531, -32.96981430053711, -115.8333740234375, 76.50884246826172, 79.8555679321289, 32.179561614990234, -43.10281753540039, -173.11248779296875, 74.44520568847656, 6.451898097991943, -108.8335952758789, -66.17841339111328, -77.25965881347656, -16.708454132080078, -19.4570255279541, -8.276416778564453, 131.01614379882812, 89.63485717773438, -43.47480392456055, 64.30203247070312, 63.847599029541016, -38.65152359008789, 100.14830017089844, -17.410259246826172, 6.0321044921875, 98.56392669677734, 8.286651611328125, 37.06645584106445, -131.0732421875, 12.400114059448242, 39.92273712158203, 80.13323974609375, -19.248008728027344, 56.48217010498047, -20.695236206054688, 7.734150409698486, 57.64223098754883, -85.71566009521484, 77.9451904296875, 57.35676193237305, -27.15339469909668, -108.59794616699219, 24.140392303466797, -109.56610107421875, -9.4541654586792, -101.57459259033203, 19.396717071533203, -88.36458587646484, 81.02058410644531, -47.96419906616211], \"y\": [40.81499481201172, -74.6937026977539, -78.00485229492188, -44.296485900878906, -29.30008316040039, 25.111154556274414, -50.501487731933594, 36.176246643066406, 99.33493041992188, 56.108367919921875, 27.432819366455078, -63.06447982788086, -55.964542388916016, -59.24582290649414, 54.66046142578125, -20.15290069580078, -9.125503540039062, -30.848947525024414, -35.525569915771484, 62.43299865722656, -57.72733688354492, -62.351619720458984, -50.526390075683594, 46.28900146484375, -23.6673526763916, 79.78510284423828, 47.93159484863281, -87.17022705078125, 92.64793395996094, -13.36954402923584, -9.27271556854248, 14.469386100769043, 46.67039489746094, 82.8215103149414, 68.12615203857422, 55.24925994873047, 20.643951416015625, 69.22412109375, -24.073514938354492, -3.496809720993042, 4.9831013679504395, -72.52351379394531, -41.15895462036133, -21.082401275634766, 37.1783332824707, 58.15202331542969, 105.16865539550781, 9.688983917236328, 60.4134521484375, -57.3017463684082, 5.372093677520752, -62.9998664855957, -39.79967498779297, 32.059471130371094, 56.876190185546875, -48.005592346191406, -0.9207752346992493, 72.10320281982422, 55.65324783325195, -63.39576721191406, -36.922115325927734, -54.5592155456543, 6.658294200897217, -46.56563186645508, -14.321889877319336, 97.6446533203125, -21.613317489624023, 97.25030517578125, 64.08655548095703, -1.233435034751892, 22.36671257019043, 85.2435302734375, 70.48782348632812, 93.19515228271484, -85.55021667480469, -57.65217590332031, -28.31184959411621, 86.83233642578125, 42.6525993347168, -61.09986114501953, 81.22271728515625, -0.836512565612793, 35.52751922607422, 95.8047103881836, -41.67078399658203, -14.433455467224121, -23.41775131225586, 45.21778106689453, 79.70832061767578, 29.487903594970703, 16.306856155395508, -10.01408576965332, 91.79369354248047, -41.262088775634766, -15.337119102478027, 70.28312683105469, 63.421058654785156, 25.884967803955078, -28.48988914489746, 50.315277099609375, -82.63081359863281, 24.44972038269043, -75.84252166748047, 86.44647979736328, 65.73095703125, 94.46721649169922, -57.923126220703125, -8.96845531463623, -17.86891746520996, -70.1710205078125, 17.415597915649414, 64.36857604980469, 24.179719924926758, 43.85144805908203, -9.282676696777344, -19.928062438964844, 27.15322494506836, -16.607751846313477, -13.45160961151123, 66.0447998046875, 53.17808532714844, 54.959896087646484, 76.8121566772461, -43.960514068603516, 7.395496368408203, 82.62435913085938, 4.856191635131836, 146.88043212890625, 38.46682357788086, 91.77837371826172, -5.448217391967773, -37.70142364501953, -39.516746520996094, -37.39413833618164, 37.73281478881836, -31.356435775756836, 26.95448875427246, -40.772132873535156, 80.67992401123047, 67.97063446044922, 37.02130889892578, -69.57614135742188, -21.075654983520508, 12.209005355834961, -82.48275756835938, -9.645929336547852, -55.65648651123047, 52.66059112548828, -37.350860595703125, 33.01502990722656, 4.092160701751709, 60.28472900390625], \"z\": [-8.990683555603027, -175.42825317382812, -0.06475820392370224, -65.91488647460938, 19.19533920288086, -17.94413948059082, -71.35575866699219, 28.076623916625977, -7.668227195739746, 118.37373352050781, -77.81216430664062, -35.42393493652344, -51.920162200927734, -55.904563903808594, 51.64453125, -34.88282012939453, 38.02900695800781, 12.917411804199219, -30.973148345947266, -27.775615692138672, -25.78949546813965, 7.56148624420166, 0.7654958963394165, -36.5756950378418, 8.489173889160156, 28.99932861328125, 20.66020965576172, -34.96937561035156, 15.674622535705566, -58.587623596191406, -84.76399230957031, -44.03291320800781, -74.84651184082031, -62.54731369018555, -50.00993728637695, -98.20215606689453, 206.2714080810547, -58.80779266357422, -16.186086654663086, -72.07036590576172, -5.636813163757324, -67.34627532958984, -24.314453125, -60.881107330322266, -20.402488708496094, -37.666236877441406, 3.0919556617736816, 49.89033508300781, -83.95172119140625, -60.6484260559082, -97.1858139038086, -21.301469802856445, -32.82228088378906, -74.68821716308594, -50.855995178222656, -4.789445400238037, -15.616641998291016, -83.79987335205078, -95.0144271850586, -41.704673767089844, 36.170257568359375, -66.18446350097656, -50.74053955078125, -52.273380279541016, -2.829035997390747, -56.63290786743164, 37.22940444946289, -56.188812255859375, 93.23410034179688, 72.42827606201172, -47.689876556396484, -71.0715560913086, -62.11278533935547, -50.067405700683594, -44.66387176513672, 5.939575672149658, 4.404318809509277, -10.044876098632812, -57.053016662597656, -11.024741172790527, 24.097946166992188, -77.24041748046875, 17.557937622070312, -7.653565406799316, -43.4752082824707, -78.86750793457031, -37.44803237915039, -52.75711441040039, -45.84929275512695, -66.61390686035156, -26.336271286010742, 19.63109588623047, -60.125633239746094, 68.8325424194336, 25.27938461303711, -19.168811798095703, -58.564857482910156, -52.97102737426758, -42.322513580322266, -41.81513595581055, -75.91012573242188, -24.93239402770996, 5.823883533477783, -15.207371711730957, -54.057044982910156, -98.00577545166016, -44.843048095703125, -85.64405059814453, -79.85041046142578, -89.57612609863281, -16.668737411499023, -62.83148956298828, 6.026587009429932, -53.94657516479492, -33.73289489746094, -92.24015045166016, -46.155696868896484, -51.09736251831055, 20.438594818115234, -89.1426773071289, -81.11190795898438, -67.58334350585938, -55.07293701171875, -75.11286163330078, -60.207035064697266, -40.19075012207031, -81.02839660644531, 79.89396667480469, -10.140344619750977, -82.90533447265625, -2.1265928745269775, -30.91280174255371, -51.72880172729492, -59.070777893066406, -62.4394416809082, -68.76820373535156, -301.9981689453125, -50.74270248413086, -78.0877914428711, -5.316056728363037, -52.054649353027344, -62.976688385009766, -66.25344848632812, -29.94415283203125, 18.135774612426758, -19.09386444091797, -36.35446548461914, -22.906383514404297, -91.8984375, -102.98954010009766, -34.92938995361328, -39.552879333496094]}, {\"hovertemplate\": \"Band=Guns N' Roses<br>0=%{x}<br>1=%{y}<br>2=%{z}<extra></extra>\", \"legendgroup\": \"Guns N' Roses\", \"marker\": {\"color\": \"#FFA15A\", \"size\": 3, \"symbol\": \"circle\"}, \"mode\": \"markers\", \"name\": \"Guns N' Roses\", \"scene\": \"scene\", \"showlegend\": true, \"type\": \"scatter3d\", \"x\": [-5.208730697631836, -68.71487426757812, 85.1119613647461, -12.330083847045898, 57.99420928955078, 126.59716796875, 127.66044616699219, -83.10950469970703, -93.57254028320312, 34.4886474609375, -60.41756057739258, 107.23796844482422, -48.051605224609375, -83.27127838134766, -41.25859832763672, 126.89824676513672, 107.31666564941406, 117.02702331542969, 7.029308795928955, -42.158897399902344, 119.05778503417969, 109.54243469238281, 121.59112548828125, 5.17121696472168, 129.15048217773438, 59.605369567871094, -57.592044830322266, 9.223272323608398, 54.391639709472656, 80.3663330078125, -13.076608657836914, 87.08892059326172, 46.5153694152832, 117.28768157958984, 104.27996826171875, 22.306772232055664, -77.25657653808594, 104.47674560546875, 117.46326446533203, -98.82832336425781, 13.355831146240234, 51.8424072265625, 64.64689636230469, 6.502660751342773, -111.70101165771484, 46.41712951660156, -0.2979085445404053, 100.08003997802734, -35.14313888549805, -23.975404739379883, -11.378342628479004, -7.9369282722473145, -30.28609275817871, 149.50100708007812, 95.34624481201172, 110.68357849121094, -96.67684936523438, 38.65596008300781, 8.09022045135498, 0.47587716579437256, 91.34949493408203, 58.37748336791992, -18.34715461730957, 0.1706535816192627, 20.72220802307129, 110.92559051513672, 118.75614929199219, 118.27418518066406, 85.82881927490234, -9.351984977722168, 46.26041793823242, 107.3514404296875, 113.97467803955078, 112.77229309082031, 98.62467193603516], \"y\": [-86.45726776123047, -93.33222961425781, 2.8265182971954346, -66.9457778930664, -14.365012168884277, -31.118896484375, 26.546106338500977, -35.78892135620117, -62.833213806152344, 94.55009460449219, -32.084964752197266, -56.67953872680664, -14.256930351257324, -67.05646514892578, 65.74244689941406, 84.06684112548828, -27.692066192626953, -24.293895721435547, 20.831188201904297, -32.221351623535156, 14.40657901763916, 3.1397345066070557, 35.059940338134766, 46.965274810791016, -47.42112350463867, 11.65751838684082, -50.77780532836914, 10.971358299255371, 42.85649871826172, 20.085439682006836, -68.06024169921875, -46.52587127685547, 1.1569862365722656, -17.206438064575195, -74.11228942871094, 23.804880142211914, 46.7408332824707, -42.44970703125, 46.544456481933594, 15.460427284240723, 6.398290157318115, -111.6820297241211, -45.378700256347656, -57.107330322265625, -38.12945556640625, -13.7744779586792, -54.025634765625, 21.633615493774414, 70.492431640625, 4.630661487579346, -55.89632797241211, 8.313241004943848, -0.5636058449745178, 61.16864776611328, 8.410348892211914, 4.600265979766846, -44.52157974243164, 91.52924346923828, -113.54583740234375, -41.78388977050781, 40.92281723022461, 22.54029083251953, -2.566255807876587, -2.892603874206543, -55.383033752441406, -4.505959987640381, -20.056432723999023, -58.42012023925781, -16.1372127532959, 17.207504272460938, 24.755048751831055, 22.53928565979004, 12.326627731323242, 11.243691444396973, -18.3931827545166], \"z\": [17.07346534729004, 37.38593673706055, 66.31674194335938, 20.860380172729492, -44.276100158691406, -61.20412826538086, -22.384668350219727, -14.548243522644043, -64.92888641357422, 6.155523777008057, -36.56974792480469, -65.30914306640625, -18.978858947753906, -33.184852600097656, -63.86662673950195, -20.897653579711914, -40.722991943359375, -101.51121520996094, -2.0962977409362793, -14.490344047546387, -83.85381317138672, 59.490440368652344, -73.57340240478516, -81.90644073486328, 15.252511978149414, -70.54496002197266, -38.390647888183594, -41.018585205078125, -20.77614402770996, -89.32786560058594, 1.43228280544281, 135.47877502441406, -60.69984436035156, -65.59107971191406, -5.831684589385986, -61.08880615234375, -39.306739807128906, -47.14390563964844, 21.311473846435547, -8.69132137298584, 11.294021606445312, -36.819801330566406, 16.14048957824707, 84.351806640625, 37.45304870605469, -20.57370948791504, 18.877161026000977, -94.10905456542969, -264.44049072265625, -41.430023193359375, 38.02788162231445, -56.42289733886719, -110.99117279052734, 158.39251708984375, 13.006454467773438, -103.68582916259766, 4.038403511047363, -6.038153171539307, 35.82691192626953, -3.6971728801727295, 74.75450134277344, -46.03525161743164, -19.34661865234375, -32.29811096191406, -10.806112289428711, 77.15189361572266, 56.83646774291992, -38.209842681884766, 65.39112854003906, -101.2384033203125, -60.19742965698242, 37.18062210083008, 1.1524606943130493, 21.940357208251953, 73.52397155761719]}],                        {\"legend\": {\"title\": {\"text\": \"Band\"}, \"tracegroupgap\": 0}, \"margin\": {\"t\": 60}, \"scene\": {\"domain\": {\"x\": [0.0, 1.0], \"y\": [0.0, 1.0]}, \"xaxis\": {\"title\": {\"text\": \"0\"}}, \"yaxis\": {\"title\": {\"text\": \"1\"}}, \"zaxis\": {\"title\": {\"text\": \"2\"}}}, \"template\": {\"data\": {\"bar\": [{\"error_x\": {\"color\": \"#2a3f5f\"}, \"error_y\": {\"color\": \"#2a3f5f\"}, \"marker\": {\"line\": {\"color\": \"#E5ECF6\", \"width\": 0.5}}, \"type\": \"bar\"}], \"barpolar\": [{\"marker\": {\"line\": {\"color\": \"#E5ECF6\", \"width\": 0.5}}, \"type\": \"barpolar\"}], \"carpet\": [{\"aaxis\": {\"endlinecolor\": \"#2a3f5f\", \"gridcolor\": \"white\", \"linecolor\": \"white\", \"minorgridcolor\": \"white\", \"startlinecolor\": \"#2a3f5f\"}, \"baxis\": {\"endlinecolor\": \"#2a3f5f\", \"gridcolor\": \"white\", \"linecolor\": \"white\", \"minorgridcolor\": \"white\", \"startlinecolor\": \"#2a3f5f\"}, \"type\": \"carpet\"}], \"choropleth\": [{\"colorbar\": {\"outlinewidth\": 0, \"ticks\": \"\"}, \"type\": \"choropleth\"}], \"contour\": [{\"colorbar\": {\"outlinewidth\": 0, \"ticks\": \"\"}, \"colorscale\": [[0.0, \"#0d0887\"], [0.1111111111111111, \"#46039f\"], [0.2222222222222222, \"#7201a8\"], [0.3333333333333333, \"#9c179e\"], [0.4444444444444444, \"#bd3786\"], [0.5555555555555556, \"#d8576b\"], [0.6666666666666666, \"#ed7953\"], [0.7777777777777778, \"#fb9f3a\"], [0.8888888888888888, \"#fdca26\"], [1.0, \"#f0f921\"]], \"type\": \"contour\"}], \"contourcarpet\": [{\"colorbar\": {\"outlinewidth\": 0, \"ticks\": \"\"}, \"type\": \"contourcarpet\"}], \"heatmap\": [{\"colorbar\": {\"outlinewidth\": 0, \"ticks\": \"\"}, \"colorscale\": [[0.0, \"#0d0887\"], [0.1111111111111111, \"#46039f\"], [0.2222222222222222, \"#7201a8\"], [0.3333333333333333, \"#9c179e\"], [0.4444444444444444, \"#bd3786\"], [0.5555555555555556, \"#d8576b\"], [0.6666666666666666, \"#ed7953\"], [0.7777777777777778, \"#fb9f3a\"], [0.8888888888888888, \"#fdca26\"], [1.0, \"#f0f921\"]], \"type\": \"heatmap\"}], \"heatmapgl\": [{\"colorbar\": {\"outlinewidth\": 0, \"ticks\": \"\"}, \"colorscale\": [[0.0, \"#0d0887\"], [0.1111111111111111, \"#46039f\"], [0.2222222222222222, \"#7201a8\"], [0.3333333333333333, \"#9c179e\"], [0.4444444444444444, \"#bd3786\"], [0.5555555555555556, \"#d8576b\"], [0.6666666666666666, \"#ed7953\"], [0.7777777777777778, \"#fb9f3a\"], [0.8888888888888888, \"#fdca26\"], [1.0, \"#f0f921\"]], \"type\": \"heatmapgl\"}], \"histogram\": [{\"marker\": {\"colorbar\": {\"outlinewidth\": 0, \"ticks\": \"\"}}, \"type\": \"histogram\"}], \"histogram2d\": [{\"colorbar\": {\"outlinewidth\": 0, \"ticks\": \"\"}, \"colorscale\": [[0.0, \"#0d0887\"], [0.1111111111111111, \"#46039f\"], [0.2222222222222222, \"#7201a8\"], [0.3333333333333333, \"#9c179e\"], [0.4444444444444444, \"#bd3786\"], [0.5555555555555556, \"#d8576b\"], [0.6666666666666666, \"#ed7953\"], [0.7777777777777778, \"#fb9f3a\"], [0.8888888888888888, \"#fdca26\"], [1.0, \"#f0f921\"]], \"type\": \"histogram2d\"}], \"histogram2dcontour\": [{\"colorbar\": {\"outlinewidth\": 0, \"ticks\": \"\"}, \"colorscale\": [[0.0, \"#0d0887\"], [0.1111111111111111, \"#46039f\"], [0.2222222222222222, \"#7201a8\"], [0.3333333333333333, \"#9c179e\"], [0.4444444444444444, \"#bd3786\"], [0.5555555555555556, \"#d8576b\"], [0.6666666666666666, \"#ed7953\"], [0.7777777777777778, \"#fb9f3a\"], [0.8888888888888888, \"#fdca26\"], [1.0, \"#f0f921\"]], \"type\": \"histogram2dcontour\"}], \"mesh3d\": [{\"colorbar\": {\"outlinewidth\": 0, \"ticks\": \"\"}, \"type\": \"mesh3d\"}], \"parcoords\": [{\"line\": {\"colorbar\": {\"outlinewidth\": 0, \"ticks\": \"\"}}, \"type\": \"parcoords\"}], \"pie\": [{\"automargin\": true, \"type\": \"pie\"}], \"scatter\": [{\"marker\": {\"colorbar\": {\"outlinewidth\": 0, \"ticks\": \"\"}}, \"type\": \"scatter\"}], \"scatter3d\": [{\"line\": {\"colorbar\": {\"outlinewidth\": 0, \"ticks\": \"\"}}, \"marker\": {\"colorbar\": {\"outlinewidth\": 0, \"ticks\": \"\"}}, \"type\": \"scatter3d\"}], \"scattercarpet\": [{\"marker\": {\"colorbar\": {\"outlinewidth\": 0, \"ticks\": \"\"}}, \"type\": \"scattercarpet\"}], \"scattergeo\": [{\"marker\": {\"colorbar\": {\"outlinewidth\": 0, \"ticks\": \"\"}}, \"type\": \"scattergeo\"}], \"scattergl\": [{\"marker\": {\"colorbar\": {\"outlinewidth\": 0, \"ticks\": \"\"}}, \"type\": \"scattergl\"}], \"scattermapbox\": [{\"marker\": {\"colorbar\": {\"outlinewidth\": 0, \"ticks\": \"\"}}, \"type\": \"scattermapbox\"}], \"scatterpolar\": [{\"marker\": {\"colorbar\": {\"outlinewidth\": 0, \"ticks\": \"\"}}, \"type\": \"scatterpolar\"}], \"scatterpolargl\": [{\"marker\": {\"colorbar\": {\"outlinewidth\": 0, \"ticks\": \"\"}}, \"type\": \"scatterpolargl\"}], \"scatterternary\": [{\"marker\": {\"colorbar\": {\"outlinewidth\": 0, \"ticks\": \"\"}}, \"type\": \"scatterternary\"}], \"surface\": [{\"colorbar\": {\"outlinewidth\": 0, \"ticks\": \"\"}, \"colorscale\": [[0.0, \"#0d0887\"], [0.1111111111111111, \"#46039f\"], [0.2222222222222222, \"#7201a8\"], [0.3333333333333333, \"#9c179e\"], [0.4444444444444444, \"#bd3786\"], [0.5555555555555556, \"#d8576b\"], [0.6666666666666666, \"#ed7953\"], [0.7777777777777778, \"#fb9f3a\"], [0.8888888888888888, \"#fdca26\"], [1.0, \"#f0f921\"]], \"type\": \"surface\"}], \"table\": [{\"cells\": {\"fill\": {\"color\": \"#EBF0F8\"}, \"line\": {\"color\": \"white\"}}, \"header\": {\"fill\": {\"color\": \"#C8D4E3\"}, \"line\": {\"color\": \"white\"}}, \"type\": \"table\"}]}, \"layout\": {\"annotationdefaults\": {\"arrowcolor\": \"#2a3f5f\", \"arrowhead\": 0, \"arrowwidth\": 1}, \"autotypenumbers\": \"strict\", \"coloraxis\": {\"colorbar\": {\"outlinewidth\": 0, \"ticks\": \"\"}}, \"colorscale\": {\"diverging\": [[0, \"#8e0152\"], [0.1, \"#c51b7d\"], [0.2, \"#de77ae\"], [0.3, \"#f1b6da\"], [0.4, \"#fde0ef\"], [0.5, \"#f7f7f7\"], [0.6, \"#e6f5d0\"], [0.7, \"#b8e186\"], [0.8, \"#7fbc41\"], [0.9, \"#4d9221\"], [1, \"#276419\"]], \"sequential\": [[0.0, \"#0d0887\"], [0.1111111111111111, \"#46039f\"], [0.2222222222222222, \"#7201a8\"], [0.3333333333333333, \"#9c179e\"], [0.4444444444444444, \"#bd3786\"], [0.5555555555555556, \"#d8576b\"], [0.6666666666666666, \"#ed7953\"], [0.7777777777777778, \"#fb9f3a\"], [0.8888888888888888, \"#fdca26\"], [1.0, \"#f0f921\"]], \"sequentialminus\": [[0.0, \"#0d0887\"], [0.1111111111111111, \"#46039f\"], [0.2222222222222222, \"#7201a8\"], [0.3333333333333333, \"#9c179e\"], [0.4444444444444444, \"#bd3786\"], [0.5555555555555556, \"#d8576b\"], [0.6666666666666666, \"#ed7953\"], [0.7777777777777778, \"#fb9f3a\"], [0.8888888888888888, \"#fdca26\"], [1.0, \"#f0f921\"]]}, \"colorway\": [\"#636efa\", \"#EF553B\", \"#00cc96\", \"#ab63fa\", \"#FFA15A\", \"#19d3f3\", \"#FF6692\", \"#B6E880\", \"#FF97FF\", \"#FECB52\"], \"font\": {\"color\": \"#2a3f5f\"}, \"geo\": {\"bgcolor\": \"white\", \"lakecolor\": \"white\", \"landcolor\": \"#E5ECF6\", \"showlakes\": true, \"showland\": true, \"subunitcolor\": \"white\"}, \"hoverlabel\": {\"align\": \"left\"}, \"hovermode\": \"closest\", \"mapbox\": {\"style\": \"light\"}, \"paper_bgcolor\": \"white\", \"plot_bgcolor\": \"#E5ECF6\", \"polar\": {\"angularaxis\": {\"gridcolor\": \"white\", \"linecolor\": \"white\", \"ticks\": \"\"}, \"bgcolor\": \"#E5ECF6\", \"radialaxis\": {\"gridcolor\": \"white\", \"linecolor\": \"white\", \"ticks\": \"\"}}, \"scene\": {\"xaxis\": {\"backgroundcolor\": \"#E5ECF6\", \"gridcolor\": \"white\", \"gridwidth\": 2, \"linecolor\": \"white\", \"showbackground\": true, \"ticks\": \"\", \"zerolinecolor\": \"white\"}, \"yaxis\": {\"backgroundcolor\": \"#E5ECF6\", \"gridcolor\": \"white\", \"gridwidth\": 2, \"linecolor\": \"white\", \"showbackground\": true, \"ticks\": \"\", \"zerolinecolor\": \"white\"}, \"zaxis\": {\"backgroundcolor\": \"#E5ECF6\", \"gridcolor\": \"white\", \"gridwidth\": 2, \"linecolor\": \"white\", \"showbackground\": true, \"ticks\": \"\", \"zerolinecolor\": \"white\"}}, \"shapedefaults\": {\"line\": {\"color\": \"#2a3f5f\"}}, \"ternary\": {\"aaxis\": {\"gridcolor\": \"white\", \"linecolor\": \"white\", \"ticks\": \"\"}, \"baxis\": {\"gridcolor\": \"white\", \"linecolor\": \"white\", \"ticks\": \"\"}, \"bgcolor\": \"#E5ECF6\", \"caxis\": {\"gridcolor\": \"white\", \"linecolor\": \"white\", \"ticks\": \"\"}}, \"title\": {\"x\": 0.05}, \"xaxis\": {\"automargin\": true, \"gridcolor\": \"white\", \"linecolor\": \"white\", \"ticks\": \"\", \"title\": {\"standoff\": 15}, \"zerolinecolor\": \"white\", \"zerolinewidth\": 2}, \"yaxis\": {\"automargin\": true, \"gridcolor\": \"white\", \"linecolor\": \"white\", \"ticks\": \"\", \"title\": {\"standoff\": 15}, \"zerolinecolor\": \"white\", \"zerolinewidth\": 2}}}},                        {\"responsive\": true}                    ).then(function(){\n",
       "                            \n",
       "var gd = document.getElementById('ecf33e7b-38e1-499a-9c13-204ce3144898');\n",
       "var x = new MutationObserver(function (mutations, observer) {{\n",
       "        var display = window.getComputedStyle(gd).display;\n",
       "        if (!display || display === 'none') {{\n",
       "            console.log([gd, 'removed!']);\n",
       "            Plotly.purge(gd);\n",
       "            observer.disconnect();\n",
       "        }}\n",
       "}});\n",
       "\n",
       "// Listen for the removal of the full notebook cells\n",
       "var notebookContainer = gd.closest('#notebook-container');\n",
       "if (notebookContainer) {{\n",
       "    x.observe(notebookContainer, {childList: true});\n",
       "}}\n",
       "\n",
       "// Listen for the clearing of the current output cell\n",
       "var outputEl = gd.closest('.output');\n",
       "if (outputEl) {{\n",
       "    x.observe(outputEl, {childList: true});\n",
       "}}\n",
       "\n",
       "                        })                };                });            </script>        </div>"
      ]
     },
     "metadata": {},
     "output_type": "display_data"
    }
   ],
   "source": [
    "fig = px.scatter_3d(\n",
    "    X_3d, x=0, y=1, z=2,\n",
    "    color=df[label], labels={'color': 'Band'},\n",
    ")\n",
    "fig.update_traces(marker_size=3)\n",
    "\n",
    "fig.show()"
   ]
  }
 ],
 "metadata": {
  "kernelspec": {
   "display_name": "Python 3",
   "language": "python",
   "name": "python3"
  },
  "language_info": {
   "codemirror_mode": {
    "name": "ipython",
    "version": 3
   },
   "file_extension": ".py",
   "mimetype": "text/x-python",
   "name": "python",
   "nbconvert_exporter": "python",
   "pygments_lexer": "ipython3",
   "version": "3.9.7"
  }
 },
 "nbformat": 4,
 "nbformat_minor": 4
}
